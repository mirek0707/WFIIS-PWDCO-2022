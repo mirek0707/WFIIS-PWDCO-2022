{
 "cells": [
  {
   "cell_type": "code",
   "execution_count": 1,
   "metadata": {},
   "outputs": [
    {
     "data": {
      "text/plain": [
       "data = Array(1, 2, 3, 4, 5, 6, 7, 8, 9, 10, 11, 12, 13, 14, 15, 16, 17, 18, 19, 20, 21, 22, 23, 24, 25, 26, 27, 28, 29)\n",
       "rdd = ParallelCollectionRDD[0] at parallelize at <console>:28\n"
      ]
     },
     "metadata": {},
     "output_type": "display_data"
    },
    {
     "data": {
      "text/plain": [
       "Array(1, 2, 3, 4, 5, 6, 7, 8, 9, 10, 11, 12, 13, 14, 15, 16, 17, 18, 19, 20, 21, 22, 23, 24, 25, 26, 27, 28, 29)"
      ]
     },
     "execution_count": 1,
     "metadata": {},
     "output_type": "execute_result"
    }
   ],
   "source": [
    "val data = Array.range(1,30)\n",
    "val rdd = sc.parallelize(data)\n",
    "rdd.collect() "
   ]
  },
  {
   "cell_type": "code",
   "execution_count": 2,
   "metadata": {},
   "outputs": [
    {
     "data": {
      "text/plain": [
       "1"
      ]
     },
     "execution_count": 2,
     "metadata": {},
     "output_type": "execute_result"
    }
   ],
   "source": [
    "rdd.first()"
   ]
  },
  {
   "cell_type": "code",
   "execution_count": 3,
   "metadata": {},
   "outputs": [
    {
     "data": {
      "text/plain": [
       "Array(1, 2, 3)"
      ]
     },
     "execution_count": 3,
     "metadata": {},
     "output_type": "execute_result"
    }
   ],
   "source": [
    "rdd.take(3)"
   ]
  },
  {
   "cell_type": "code",
   "execution_count": 4,
   "metadata": {},
   "outputs": [
    {
     "data": {
      "text/plain": [
       "Array(2, 26, 13, 24, 11, 15, 11, 8, 27, 22)"
      ]
     },
     "execution_count": 4,
     "metadata": {},
     "output_type": "execute_result"
    }
   ],
   "source": [
    "rdd.takeSample(true,10)"
   ]
  },
  {
   "cell_type": "code",
   "execution_count": 5,
   "metadata": {},
   "outputs": [
    {
     "data": {
      "text/plain": [
       "rdd2 = MapPartitionsRDD[2] at map at <console>:27\n"
      ]
     },
     "metadata": {},
     "output_type": "display_data"
    },
    {
     "data": {
      "text/plain": [
       "Array(1, 4, 9, 16, 25, 36, 49, 64, 81, 100, 121, 144, 169, 196, 225, 256, 289, 324, 361, 400, 441, 484, 529, 576, 625, 676, 729, 784, 841)"
      ]
     },
     "execution_count": 5,
     "metadata": {},
     "output_type": "execute_result"
    }
   ],
   "source": [
    "val rdd2 = rdd.map( x => x*x )\n",
    "rdd2.collect()"
   ]
  },
  {
   "cell_type": "code",
   "execution_count": 6,
   "metadata": {},
   "outputs": [
    {
     "data": {
      "text/plain": [
       "rdd2 = MapPartitionsRDD[3] at map at <console>:29\n"
      ]
     },
     "metadata": {},
     "output_type": "display_data"
    },
    {
     "data": {
      "text/plain": [
       "Array(List(1, 1), List(2, 2), List(3, 3), List(4, 4), List(5, 5), List(6, 6), List(7, 7), List(8, 8), List(9, 9), List(10, 10), List(11, 11), List(12, 12), List(13, 13), List(14, 14), List(15, 15), List(16, 16), List(17, 17), List(18, 18), List(19, 19), List(20, 20), List(21, 21), List(22, 22), List(23, 23), List(24, 24), List(25, 25), List(26, 26), List(27, 27), List(28, 28), List(29, 29))"
      ]
     },
     "execution_count": 6,
     "metadata": {},
     "output_type": "execute_result"
    }
   ],
   "source": [
    "val rdd2 = rdd.map( x => List(x,x) )\n",
    "rdd2.collect()"
   ]
  },
  {
   "cell_type": "code",
   "execution_count": 7,
   "metadata": {},
   "outputs": [
    {
     "data": {
      "text/plain": [
       "rdd2 = MapPartitionsRDD[4] at flatMap at <console>:29\n"
      ]
     },
     "metadata": {},
     "output_type": "display_data"
    },
    {
     "data": {
      "text/plain": [
       "Array(1, 1, 2, 2, 3, 3, 4, 4, 5, 5, 6, 6, 7, 7, 8, 8, 9, 9, 10, 10, 11, 11, 12, 12, 13, 13, 14, 14, 15, 15, 16, 16, 17, 17, 18, 18, 19, 19, 20, 20, 21, 21, 22, 22, 23, 23, 24, 24, 25, 25, 26, 26, 27, 27, 28, 28, 29, 29)"
      ]
     },
     "execution_count": 7,
     "metadata": {},
     "output_type": "execute_result"
    }
   ],
   "source": [
    "val rdd2 = rdd.flatMap( x => List(x,x))\n",
    "rdd2.collect()"
   ]
  },
  {
   "cell_type": "code",
   "execution_count": 8,
   "metadata": {},
   "outputs": [
    {
     "data": {
      "text/plain": [
       "value = 435\n"
      ]
     },
     "metadata": {},
     "output_type": "display_data"
    },
    {
     "data": {
      "text/plain": [
       "435"
      ]
     },
     "execution_count": 8,
     "metadata": {},
     "output_type": "execute_result"
    }
   ],
   "source": [
    "val value = rdd.reduce( (t1,t2) => t1 + t2)"
   ]
  },
  {
   "cell_type": "code",
   "execution_count": 9,
   "metadata": {},
   "outputs": [
    {
     "data": {
      "text/plain": [
       "rdda = ParallelCollectionRDD[5] at parallelize at <console>:27\n",
       "value = ffeeggddccaabb\n"
      ]
     },
     "metadata": {},
     "output_type": "display_data"
    },
    {
     "data": {
      "text/plain": [
       "ffeeggddccaabb"
      ]
     },
     "execution_count": 9,
     "metadata": {},
     "output_type": "execute_result"
    }
   ],
   "source": [
    "val rdda = sc.parallelize( List( \"aa\",\"bb\",\"cc\",\"dd\",\"ee\",\"ff\",\"gg\" ) )\n",
    "val value = rdda.reduce( (t1, t2) => t1+t2)"
   ]
  },
  {
   "cell_type": "code",
   "execution_count": 10,
   "metadata": {},
   "outputs": [
    {
     "data": {
      "text/plain": [
       "29"
      ]
     },
     "execution_count": 10,
     "metadata": {},
     "output_type": "execute_result"
    }
   ],
   "source": [
    "rdd.count()"
   ]
  },
  {
   "cell_type": "code",
   "execution_count": 11,
   "metadata": {},
   "outputs": [
    {
     "data": {
      "text/plain": [
       "data1 = Array(1, 2, 3, 4, 5, 6, 7, 8, 9, 10, 11, 12, 13, 14, 15, 16, 17, 18, 19, 20)\n",
       "data2 = Array(19, 20, 21, 22, 23, 24)\n",
       "rdd1 = ParallelCollectionRDD[6] at parallelize at <console>:31\n",
       "rdd2 = ParallelCollectionRDD[7] at parallelize at <console>:32\n",
       "rdd3 = UnionRDD[8] at union at <console>:33\n"
      ]
     },
     "metadata": {},
     "output_type": "display_data"
    },
    {
     "data": {
      "text/plain": [
       "Array(1, 2, 3, 4, 5, 6, 7, 8, 9, 10, 11, 12, 13, 14, 15, 16, 17, 18, 19, 20, 19, 20, 21, 22, 23, 24)"
      ]
     },
     "execution_count": 11,
     "metadata": {},
     "output_type": "execute_result"
    }
   ],
   "source": [
    "val data1 = Array.range(1,21)\n",
    "val data2 = Array.range(19,25)\n",
    "val rdd1 = sc.parallelize(data1)\n",
    "val rdd2 = sc.parallelize(data2)\n",
    "val rdd3 = rdd1.union(rdd2)\n",
    "rdd3.collect()"
   ]
  },
  {
   "cell_type": "code",
   "execution_count": 12,
   "metadata": {},
   "outputs": [
    {
     "data": {
      "text/plain": [
       "rdd4 = MapPartitionsRDD[11] at distinct at <console>:27\n"
      ]
     },
     "metadata": {},
     "output_type": "display_data"
    },
    {
     "data": {
      "text/plain": [
       "Array(1, 2, 3, 4, 5, 6, 7, 8, 9, 10, 11, 12, 13, 14, 15, 16, 17, 18, 19, 20, 21, 22, 23, 24)"
      ]
     },
     "execution_count": 12,
     "metadata": {},
     "output_type": "execute_result"
    }
   ],
   "source": [
    "val rdd4 = rdd3.distinct()\n",
    "rdd4.collect()"
   ]
  },
  {
   "cell_type": "code",
   "execution_count": 13,
   "metadata": {},
   "outputs": [
    {
     "data": {
      "text/plain": [
       "26"
      ]
     },
     "execution_count": 13,
     "metadata": {},
     "output_type": "execute_result"
    }
   ],
   "source": [
    "rdd3.count()"
   ]
  },
  {
   "cell_type": "code",
   "execution_count": 14,
   "metadata": {},
   "outputs": [
    {
     "data": {
      "text/plain": [
       "24"
      ]
     },
     "execution_count": 14,
     "metadata": {},
     "output_type": "execute_result"
    }
   ],
   "source": [
    "rdd4.count()"
   ]
  },
  {
   "cell_type": "code",
   "execution_count": 15,
   "metadata": {},
   "outputs": [
    {
     "data": {
      "text/plain": [
       "rdd5 = MapPartitionsRDD[17] at intersection at <console>:28\n"
      ]
     },
     "metadata": {},
     "output_type": "display_data"
    },
    {
     "data": {
      "text/plain": [
       "Array(19, 20)"
      ]
     },
     "execution_count": 15,
     "metadata": {},
     "output_type": "execute_result"
    }
   ],
   "source": [
    "val rdd5 = rdd1.intersection(rdd2)\n",
    "rdd5.collect()"
   ]
  },
  {
   "cell_type": "code",
   "execution_count": 16,
   "metadata": {},
   "outputs": [
    {
     "data": {
      "text/plain": [
       "rdda1 = ParallelCollectionRDD[18] at parallelize at <console>:27\n",
       "rdda2 = MapPartitionsRDD[19] at map at <console>:28\n"
      ]
     },
     "metadata": {},
     "output_type": "display_data"
    },
    {
     "data": {
      "text/plain": [
       "Map(cc -> 2, aa -> 3, bb -> 1, ee -> 1, ff -> 1, dd -> 3)"
      ]
     },
     "execution_count": 16,
     "metadata": {},
     "output_type": "execute_result"
    }
   ],
   "source": [
    "val rdda1 = sc.parallelize(List(\"aa\",\"bb\",\"cc\",\"dd\",\"aa\",\"cc\",\"ee\",\"ff\",\"dd\",\"dd\",\"aa\"))\n",
    "val rdda2 = rdda1.map( k => (k,1))\n",
    "rdda2.countByKey()"
   ]
  },
  {
   "cell_type": "code",
   "execution_count": 17,
   "metadata": {},
   "outputs": [
    {
     "data": {
      "text/plain": [
       "rddr1 = MapPartitionsRDD[23] at map at <console>:27\n",
       "rddr2 = MapPartitionsRDD[25] at map at <console>:28\n"
      ]
     },
     "metadata": {},
     "output_type": "display_data"
    },
    {
     "data": {
      "text/plain": [
       "Array((aa,(1,1)), (aa,(1,1)), (cc,(1,1)))"
      ]
     },
     "execution_count": 17,
     "metadata": {},
     "output_type": "execute_result"
    }
   ],
   "source": [
    "val rddr1 = sc.parallelize(List(\"aa\",\"bb\",\"cc\",\"dd\",\"ee\",\"ff\",\"gg\",\"aa\")).map( k => (k,1))\n",
    "val rddr2 = sc.parallelize(List(\"aa\",\"cc\",\"mm\",\"rr\",\"tt\")).map( k => (k,1))\n",
    "rddr1.join(rddr2).collect()"
   ]
  },
  {
   "cell_type": "code",
   "execution_count": 18,
   "metadata": {},
   "outputs": [
    {
     "data": {
      "text/plain": [
       "Array((ee,(1,None)), (aa,(1,Some(1))), (aa,(1,Some(1))), (gg,(1,None)), (dd,(1,None)), (ff,(1,None)), (bb,(1,None)), (cc,(1,Some(1))))"
      ]
     },
     "execution_count": 18,
     "metadata": {},
     "output_type": "execute_result"
    }
   ],
   "source": [
    "rddr1.leftOuterJoin(rddr2).collect()"
   ]
  },
  {
   "cell_type": "code",
   "execution_count": 19,
   "metadata": {},
   "outputs": [
    {
     "data": {
      "text/plain": [
       "Array((aa,(Some(1),1)), (aa,(Some(1),1)), (mm,(None,1)), (tt,(None,1)), (rr,(None,1)), (cc,(Some(1),1)))"
      ]
     },
     "execution_count": 19,
     "metadata": {},
     "output_type": "execute_result"
    }
   ],
   "source": [
    "rddr1.rightOuterJoin(rddr2).collect()"
   ]
  },
  {
   "cell_type": "code",
   "execution_count": 20,
   "metadata": {},
   "outputs": [
    {
     "data": {
      "text/plain": [
       "data = List((Java,20000), (Python,100000), (Scala,3000))\n",
       "rddt = ParallelCollectionRDD[35] at parallelize at <console>:30\n"
      ]
     },
     "metadata": {},
     "output_type": "display_data"
    },
    {
     "data": {
      "text/plain": [
       "Array((Java,20000), (Python,100000), (Scala,3000))"
      ]
     },
     "execution_count": 20,
     "metadata": {},
     "output_type": "execute_result"
    }
   ],
   "source": [
    "val data = Seq((\"Java\", \"20000\"), (\"Python\", \"100000\"), (\"Scala\", \"3000\"))\n",
    "val rddt = sc.parallelize(data)\n",
    "rddt.collect()"
   ]
  },
  {
   "cell_type": "code",
   "execution_count": 21,
   "metadata": {},
   "outputs": [
    {
     "name": "stdout",
     "output_type": "stream",
     "text": [
      "root\n",
      " |-- _1: string (nullable = true)\n",
      " |-- _2: string (nullable = true)\n",
      "\n"
     ]
    },
    {
     "data": {
      "text/plain": [
       "dfFromrddt = [_1: string, _2: string]\n"
      ]
     },
     "metadata": {},
     "output_type": "display_data"
    },
    {
     "data": {
      "text/plain": [
       "[_1: string, _2: string]"
      ]
     },
     "execution_count": 21,
     "metadata": {},
     "output_type": "execute_result"
    }
   ],
   "source": [
    "val dfFromrddt = rddt.toDF()\n",
    "dfFromrddt.printSchema()"
   ]
  },
  {
   "cell_type": "code",
   "execution_count": 22,
   "metadata": {},
   "outputs": [
    {
     "name": "stdout",
     "output_type": "stream",
     "text": [
      "root\n",
      " |-- language: string (nullable = true)\n",
      " |-- users_count: string (nullable = true)\n",
      "\n"
     ]
    },
    {
     "data": {
      "text/plain": [
       "dfFromrddt = [language: string, users_count: string]\n"
      ]
     },
     "metadata": {},
     "output_type": "display_data"
    },
    {
     "data": {
      "text/plain": [
       "[language: string, users_count: string]"
      ]
     },
     "execution_count": 22,
     "metadata": {},
     "output_type": "execute_result"
    }
   ],
   "source": [
    "val dfFromrddt = rddt.toDF(\"language\",\"users_count\")\n",
    "dfFromrddt.printSchema()"
   ]
  },
  {
   "cell_type": "code",
   "execution_count": 23,
   "metadata": {},
   "outputs": [
    {
     "data": {
      "text/plain": [
       "columns = List(language, users_count)\n",
       "dfFromrddt2 = [language: string, users_count: string]\n"
      ]
     },
     "metadata": {},
     "output_type": "display_data"
    },
    {
     "data": {
      "text/plain": [
       "[language: string, users_count: string]"
      ]
     },
     "execution_count": 23,
     "metadata": {},
     "output_type": "execute_result"
    }
   ],
   "source": [
    "val columns = Seq(\"language\",\"users_count\")\n",
    "val dfFromrddt2 = spark.createDataFrame(rddt).toDF(columns:_*)"
   ]
  },
  {
   "cell_type": "code",
   "execution_count": 24,
   "metadata": {},
   "outputs": [
    {
     "name": "stdout",
     "output_type": "stream",
     "text": [
      "+--------+-----------+\n",
      "|language|users_count|\n",
      "+--------+-----------+\n",
      "|    Java|      20000|\n",
      "|  Python|     100000|\n",
      "|   Scala|       3000|\n",
      "+--------+-----------+\n",
      "\n"
     ]
    }
   ],
   "source": [
    "dfFromrddt2.show()"
   ]
  },
  {
   "cell_type": "code",
   "execution_count": 25,
   "metadata": {},
   "outputs": [
    {
     "data": {
      "text/plain": [
       "rdd_csv2 = Dane/dane1.csv MapPartitionsRDD[40] at textFile at <console>:27\n"
      ]
     },
     "metadata": {},
     "output_type": "display_data"
    },
    {
     "data": {
      "text/plain": [
       "Array(Karolina|Kozieł|FIZYKA|1|7, Weronika|Kapłon|FIZYKA|1|5, Izabela|Snażyk|INFORMATYKA|1|5, Leo|Brockhuis|FIZYKA|2|2, Alicja|Kawala|FIZYKA|1|7, Bartosz|Piętka|INFORMATYKA|1|3, Dawid|Pietruch|FIZYKA|1|5, Piotr|Kukiełka|FIZYKA|2|2, Stanisław|Król|FIZYKA|2|2, Franciszek|Kramarczyk|INFORMATYKA|1|5, Aleksandra|Popiel|FIZMED|2|2, Kamil|Tomczyk|INFORMATYKA|1|7, Hubert|Mazur|INFORMATYKA|1|5, Tymoteusz|Kruk|INFORMATYKA|2|2, Robert|Gałat|INFORMATYKA|2|2, Patryk|Śledź|INFORMATYKA|1|3, Jadwiga|Bizoń|FIZMED|1|3, Rafał|Tyczyński|FIZMED|1|7, Joanna|Zborowska|FIZMED|1|7, Rafał|Damian|FIZYKA|1|7, Michał|Piwowarczyk|INFORMATYKA|1|7, Weronika|Stanek|FIZYKA|1|5, Oskar|Szewcz..."
      ]
     },
     "execution_count": 25,
     "metadata": {},
     "output_type": "execute_result"
    }
   ],
   "source": [
    "val rdd_csv2 = sc.textFile(\"Dane/dane1.csv\")\n",
    "rdd_csv2.collect()"
   ]
  },
  {
   "cell_type": "code",
   "execution_count": 26,
   "metadata": {},
   "outputs": [
    {
     "data": {
      "text/plain": [
       "576"
      ]
     },
     "execution_count": 26,
     "metadata": {},
     "output_type": "execute_result"
    }
   ],
   "source": [
    "rdd_csv2.count()"
   ]
  },
  {
   "cell_type": "code",
   "execution_count": 27,
   "metadata": {},
   "outputs": [
    {
     "data": {
      "text/plain": [
       "rdd_array = MapPartitionsRDD[41] at map at <console>:27\n"
      ]
     },
     "metadata": {},
     "output_type": "display_data"
    },
    {
     "data": {
      "text/plain": [
       "Array(Array(Karolina, Kozieł, FIZYKA, 1, 7), Array(Weronika, Kapłon, FIZYKA, 1, 5), Array(Izabela, Snażyk, INFORMATYKA, 1, 5), Array(Leo, Brockhuis, FIZYKA, 2, 2), Array(Alicja, Kawala, FIZYKA, 1, 7), Array(Bartosz, Piętka, INFORMATYKA, 1, 3), Array(Dawid, Pietruch, FIZYKA, 1, 5), Array(Piotr, Kukiełka, FIZYKA, 2, 2), Array(Stanisław, Król, FIZYKA, 2, 2), Array(Franciszek, Kramarczyk, INFORMATYKA, 1, 5), Array(Aleksandra, Popiel, FIZMED, 2, 2), Array(Kamil, Tomczyk, INFORMATYKA, 1, 7), Array(Hubert, Mazur, INFORMATYKA, 1, 5), Array(Tymoteusz, Kruk, INFORMATYKA, 2, 2), Array(Robert, Gałat, INFORMATYKA, 2, 2), Array(Patryk, Śledź, INFORMATYKA, 1, 3), Array(Jadwiga..."
      ]
     },
     "execution_count": 27,
     "metadata": {},
     "output_type": "execute_result"
    }
   ],
   "source": [
    "val rdd_array = rdd_csv2.map( line => line.split('|'))\n",
    "rdd_array.collect()"
   ]
  },
  {
   "cell_type": "code",
   "execution_count": 28,
   "metadata": {},
   "outputs": [
    {
     "data": {
      "text/plain": [
       "Array(Array(Robert, Gałat, INFORMATYKA, 2, 2), Array(Robert, Smykowski, FIZYKA, 1, 5), Array(Robert, Bulas, FIZYKA, 1, 3), Array(Robert, Wideł, FIZYKA, 1, 3))"
      ]
     },
     "execution_count": 28,
     "metadata": {},
     "output_type": "execute_result"
    }
   ],
   "source": [
    "rdd_array.filter(line => line.contains(\"Robert\") ).collect()"
   ]
  },
  {
   "cell_type": "code",
   "execution_count": 29,
   "metadata": {},
   "outputs": [
    {
     "data": {
      "text/plain": [
       "Array(Robert|Gałat|INFORMATYKA|2|2, Robert|Smykowski|FIZYKA|1|5, Robert|Bulas|FIZYKA|1|3, Robert|Wideł|FIZYKA|1|3)"
      ]
     },
     "execution_count": 29,
     "metadata": {},
     "output_type": "execute_result"
    }
   ],
   "source": [
    "rdd_csv2.filter(line => line.contains(\"Robert\") ).collect()"
   ]
  },
  {
   "cell_type": "code",
   "execution_count": 30,
   "metadata": {},
   "outputs": [
    {
     "data": {
      "text/plain": [
       "rdd_csv = [_c0: string]\n"
      ]
     },
     "metadata": {},
     "output_type": "display_data"
    },
    {
     "data": {
      "text/plain": [
       "Array([Karolina|Kozieł|FIZYKA|1|7], [Weronika|Kapłon|FIZYKA|1|5], [Izabela|Snażyk|INFORMATYKA|1|5], [Leo|Brockhuis|FIZYKA|2|2], [Alicja|Kawala|FIZYKA|1|7], [Bartosz|Piętka|INFORMATYKA|1|3], [Dawid|Pietruch|FIZYKA|1|5], [Piotr|Kukiełka|FIZYKA|2|2], [Stanisław|Król|FIZYKA|2|2], [Franciszek|Kramarczyk|INFORMATYKA|1|5], [Aleksandra|Popiel|FIZMED|2|2], [Kamil|Tomczyk|INFORMATYKA|1|7], [Hubert|Mazur|INFORMATYKA|1|5], [Tymoteusz|Kruk|INFORMATYKA|2|2], [Robert|Gałat|INFORMATYKA|2|2], [Patryk|Śledź|INFORMATYKA|1|3], [Jadwiga|Bizoń|FIZMED|1|3], [Rafał|Tyczyński|FIZMED|1|7], [Joanna|Zborowska|FIZMED|1|7], [Rafał|Damian|FIZYKA|1|7], [Michał|Piwowarczyk|INFORMATYKA|1|7], [Weronika|Stanek|FIZYKA|1|5], [Os..."
      ]
     },
     "execution_count": 30,
     "metadata": {},
     "output_type": "execute_result"
    }
   ],
   "source": [
    "val rdd_csv = spark.read.option(\"header\",\"false\").csv(\"Dane/dane1.csv\")\n",
    "rdd_csv.collect()"
   ]
  },
  {
   "cell_type": "code",
   "execution_count": 31,
   "metadata": {},
   "outputs": [
    {
     "data": {
      "text/plain": [
       "576"
      ]
     },
     "execution_count": 31,
     "metadata": {},
     "output_type": "execute_result"
    }
   ],
   "source": [
    "rdd_csv.count()"
   ]
  },
  {
   "cell_type": "code",
   "execution_count": 32,
   "metadata": {},
   "outputs": [
    {
     "name": "stdout",
     "output_type": "stream",
     "text": [
      "+--------------------+\n",
      "|                 _c0|\n",
      "+--------------------+\n",
      "|Karolina|Kozieł|F...|\n",
      "|Weronika|Kapłon|F...|\n",
      "|Izabela|Snażyk|IN...|\n",
      "|Leo|Brockhuis|FIZ...|\n",
      "|Alicja|Kawala|FIZ...|\n",
      "|Bartosz|Piętka|IN...|\n",
      "|Dawid|Pietruch|FI...|\n",
      "|Piotr|Kukiełka|FI...|\n",
      "|Stanisław|Król|FI...|\n",
      "|Franciszek|Kramar...|\n",
      "|Aleksandra|Popiel...|\n",
      "|Kamil|Tomczyk|INF...|\n",
      "|Hubert|Mazur|INFO...|\n",
      "|Tymoteusz|Kruk|IN...|\n",
      "|Robert|Gałat|INFO...|\n",
      "|Patryk|Śledź|INFO...|\n",
      "|Jadwiga|Bizoń|FIZ...|\n",
      "|Rafał|Tyczyński|F...|\n",
      "|Joanna|Zborowska|...|\n",
      "|Rafał|Damian|FIZY...|\n",
      "+--------------------+\n",
      "only showing top 20 rows\n",
      "\n"
     ]
    }
   ],
   "source": [
    "rdd_csv.show()"
   ]
  },
  {
   "cell_type": "code",
   "execution_count": 41,
   "metadata": {},
   "outputs": [
    {
     "name": "stdout",
     "output_type": "stream",
     "text": [
      "root\n",
      " |-- _c0: string (nullable = true)\n",
      "\n"
     ]
    }
   ],
   "source": [
    "rdd_csv.printSchema()"
   ]
  },
  {
   "cell_type": "code",
   "execution_count": 49,
   "metadata": {},
   "outputs": [
    {
     "data": {
      "text/plain": [
       "Array(1, 2, 3, 4, 5, 6, 7, 8, 9, 10, 11, 12, 13, 14, 15, 16, 17, 18, 19, 20, 21, 22, 23, 24, 25, 26, 27, 28, 29)"
      ]
     },
     "execution_count": 49,
     "metadata": {},
     "output_type": "execute_result"
    }
   ],
   "source": [
    "rdd.collect()"
   ]
  },
  {
   "cell_type": "code",
   "execution_count": 50,
   "metadata": {},
   "outputs": [],
   "source": [
    "rdd.saveAsTextFile(\"./Files/test.txt\")"
   ]
  },
  {
   "cell_type": "code",
   "execution_count": 51,
   "metadata": {},
   "outputs": [
    {
     "data": {
      "text/plain": [
       "rdd_txt = ./Files/test.txt MapPartitionsRDD[78] at textFile at <console>:29\n"
      ]
     },
     "metadata": {},
     "output_type": "display_data"
    },
    {
     "data": {
      "text/plain": [
       "Array(24, 25, 6, 7, 15, 16, 19, 20, 21, 17, 18, 28, 29, 13, 14, 4, 5, 10, 11, 12, 8, 9, 26, 27, 22, 23, 1, 2, 3)"
      ]
     },
     "execution_count": 51,
     "metadata": {},
     "output_type": "execute_result"
    }
   ],
   "source": [
    "val rdd_txt = sc.textFile(\"./Files/test.txt\")\n",
    "rdd_txt.collect()"
   ]
  },
  {
   "cell_type": "code",
   "execution_count": null,
   "metadata": {},
   "outputs": [],
   "source": []
  }
 ],
 "metadata": {
  "kernelspec": {
   "display_name": "Apache Toree - Scala",
   "language": "scala",
   "name": "apache_toree_scala"
  },
  "language_info": {
   "codemirror_mode": "text/x-scala",
   "file_extension": ".scala",
   "mimetype": "text/x-scala",
   "name": "scala",
   "pygments_lexer": "scala",
   "version": "2.12.12"
  }
 },
 "nbformat": 4,
 "nbformat_minor": 4
}
