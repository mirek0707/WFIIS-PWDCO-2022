{
 "cells": [
  {
   "cell_type": "code",
   "execution_count": 2,
   "metadata": {},
   "outputs": [],
   "source": [
    "import findspark\n",
    "findspark.init()\n",
    "\n",
    "from pyspark import SparkConf\n",
    "from pyspark import SparkContext\n",
    "sc = SparkContext.getOrCreate(SparkConf().setMaster(\"local[4]\"))"
   ]
  },
  {
   "cell_type": "code",
   "execution_count": 3,
   "metadata": {},
   "outputs": [
    {
     "data": {
      "text/plain": [
       "509486"
      ]
     },
     "execution_count": 3,
     "metadata": {},
     "output_type": "execute_result"
    }
   ],
   "source": [
    "import random\n",
    "flips = 1000000\n",
    "coins = range(flips)\n",
    "rdd_coins = sc.parallelize(coins)\n",
    "rdd_flips = rdd_coins.map(lambda i: random.random())\n",
    "rdd_heads = rdd_flips.filter(lambda r: r < 0.51 )\n",
    "rdd_heads.count()"
   ]
  },
  {
   "cell_type": "code",
   "execution_count": 4,
   "metadata": {},
   "outputs": [
    {
     "name": "stdout",
     "output_type": "stream",
     "text": [
      "3.142152\n"
     ]
    }
   ],
   "source": [
    "import random\n",
    "num_samples = 1000000\n",
    "def inside(p):\n",
    "    x,y = random.random(), random.random()\n",
    "    return x*x + y*y < 1\n",
    "count = sc.parallelize(range(0, num_samples)).filter(inside).count()\n",
    "pi = 4* count/num_samples\n",
    "print(pi)"
   ]
  },
  {
   "cell_type": "code",
   "execution_count": 5,
   "metadata": {},
   "outputs": [],
   "source": [
    "from pyspark.sql.dataframe import DataFrame\n",
    "from pyspark.sql import SparkSession\n",
    "spark = SparkSession(sc)"
   ]
  },
  {
   "cell_type": "code",
   "execution_count": 6,
   "metadata": {},
   "outputs": [],
   "source": [
    "df = spark.read.format('com.databricks.spark.csv').\\\n",
    "                               options(header='true', \\\n",
    "                               inferschema='true').load(\"/home/spark/files/gcredit.csv\",header=True);"
   ]
  },
  {
   "cell_type": "code",
   "execution_count": 7,
   "metadata": {},
   "outputs": [
    {
     "data": {
      "text/plain": [
       "['Creditability',\n",
       " 'Account Balance',\n",
       " 'Duration of Credit (month)',\n",
       " 'Payment Status of Previous Credit',\n",
       " 'Purpose',\n",
       " 'Credit Amount',\n",
       " 'Value Savings/Stocks',\n",
       " 'Length of current employment',\n",
       " 'Instalment per cent',\n",
       " 'Sex & Marital Status',\n",
       " 'Guarantors',\n",
       " 'Duration in Current address',\n",
       " 'Most valuable available asset',\n",
       " 'Age (years)',\n",
       " 'Concurrent Credits',\n",
       " 'Type of apartment',\n",
       " 'No of Credits at this Bank',\n",
       " 'Occupation',\n",
       " 'No of dependents',\n",
       " 'Telephone',\n",
       " 'Foreign Worker']"
      ]
     },
     "execution_count": 7,
     "metadata": {},
     "output_type": "execute_result"
    }
   ],
   "source": [
    "df.columns"
   ]
  },
  {
   "cell_type": "code",
   "execution_count": 8,
   "metadata": {},
   "outputs": [
    {
     "data": {
      "text/html": [
       "<div>\n",
       "<style scoped>\n",
       "    .dataframe tbody tr th:only-of-type {\n",
       "        vertical-align: middle;\n",
       "    }\n",
       "\n",
       "    .dataframe tbody tr th {\n",
       "        vertical-align: top;\n",
       "    }\n",
       "\n",
       "    .dataframe thead th {\n",
       "        text-align: right;\n",
       "    }\n",
       "</style>\n",
       "<table border=\"1\" class=\"dataframe\">\n",
       "  <thead>\n",
       "    <tr style=\"text-align: right;\">\n",
       "      <th></th>\n",
       "      <th>Account Balance</th>\n",
       "      <th>No of dependents</th>\n",
       "    </tr>\n",
       "  </thead>\n",
       "  <tbody>\n",
       "    <tr>\n",
       "      <th>count</th>\n",
       "      <td>1000.000000</td>\n",
       "      <td>1000.000000</td>\n",
       "    </tr>\n",
       "    <tr>\n",
       "      <th>mean</th>\n",
       "      <td>2.577000</td>\n",
       "      <td>1.155000</td>\n",
       "    </tr>\n",
       "    <tr>\n",
       "      <th>std</th>\n",
       "      <td>1.257638</td>\n",
       "      <td>0.362086</td>\n",
       "    </tr>\n",
       "    <tr>\n",
       "      <th>min</th>\n",
       "      <td>1.000000</td>\n",
       "      <td>1.000000</td>\n",
       "    </tr>\n",
       "    <tr>\n",
       "      <th>25%</th>\n",
       "      <td>1.000000</td>\n",
       "      <td>1.000000</td>\n",
       "    </tr>\n",
       "    <tr>\n",
       "      <th>50%</th>\n",
       "      <td>2.000000</td>\n",
       "      <td>1.000000</td>\n",
       "    </tr>\n",
       "    <tr>\n",
       "      <th>75%</th>\n",
       "      <td>4.000000</td>\n",
       "      <td>1.000000</td>\n",
       "    </tr>\n",
       "    <tr>\n",
       "      <th>max</th>\n",
       "      <td>4.000000</td>\n",
       "      <td>2.000000</td>\n",
       "    </tr>\n",
       "  </tbody>\n",
       "</table>\n",
       "</div>"
      ],
      "text/plain": [
       "       Account Balance  No of dependents\n",
       "count      1000.000000       1000.000000\n",
       "mean          2.577000          1.155000\n",
       "std           1.257638          0.362086\n",
       "min           1.000000          1.000000\n",
       "25%           1.000000          1.000000\n",
       "50%           2.000000          1.000000\n",
       "75%           4.000000          1.000000\n",
       "max           4.000000          2.000000"
      ]
     },
     "execution_count": 8,
     "metadata": {},
     "output_type": "execute_result"
    }
   ],
   "source": [
    "df[['Account Balance','No of dependents']].toPandas().describe()"
   ]
  },
  {
   "cell_type": "code",
   "execution_count": 10,
   "metadata": {},
   "outputs": [],
   "source": [
    "def describe_pd(df_in, columns, style):\n",
    "    '''\n",
    "    Function to union the basic stats results and deciles\n",
    "    :param df_in: the input dataframe \n",
    "    :param columns: the cloumn name list of the numerical variable     \n",
    "    :param style: the display style  \n",
    "\n",
    "    :return : the numerical describe info. of the input dataframe   \n",
    "\n",
    "    :author: Wenqiang Feng\n",
    "    :email:  von198@gmail.com  \n",
    "    '''       \n",
    "\n",
    "    if style == 1:\n",
    "        percentiles = [25, 50, 75]\n",
    "    else:\n",
    "        percentiles = np.array(range(0, 110, 10))\n",
    "    \n",
    "    percs = np.transpose([np.percentile(df_in.select(x).collect(), percentiles) for x in columns])\n",
    "    percs = pd.DataFrame(percs, columns=columns)\n",
    "    percs['summary'] = [str(p) + '%' for p in percentiles]\n",
    "    \n",
    "    spark_describe = df_in.describe().toPandas()\n",
    "    new_df = pd.concat([spark_describe, percs],ignore_index=True,sort=True)\n",
    "    new_df = new_df.round(2)\n",
    "    return new_df[['summary'] + columns]"
   ]
  },
  {
   "cell_type": "code",
   "execution_count": 11,
   "metadata": {},
   "outputs": [],
   "source": [
    "num_cols = ['Account Balance','No of dependents']"
   ]
  },
  {
   "cell_type": "code",
   "execution_count": 12,
   "metadata": {},
   "outputs": [
    {
     "name": "stdout",
     "output_type": "stream",
     "text": [
      "+-------+------------------+-------------------+\n",
      "|summary|   Account Balance|   No of dependents|\n",
      "+-------+------------------+-------------------+\n",
      "|  count|              1000|               1000|\n",
      "|   mean|             2.577|              1.155|\n",
      "| stddev|1.2576377271108936|0.36208577175319395|\n",
      "|    min|                 1|                  1|\n",
      "|    max|                 4|                  2|\n",
      "+-------+------------------+-------------------+\n",
      "\n"
     ]
    }
   ],
   "source": [
    "df.select(num_cols).describe().show()"
   ]
  },
  {
   "cell_type": "code",
   "execution_count": 13,
   "metadata": {},
   "outputs": [],
   "source": [
    "import numpy as np\n",
    "import pandas as pd"
   ]
  },
  {
   "cell_type": "code",
   "execution_count": 14,
   "metadata": {},
   "outputs": [],
   "source": [
    "output = describe_pd(df,num_cols,1)"
   ]
  },
  {
   "cell_type": "code",
   "execution_count": 15,
   "metadata": {},
   "outputs": [],
   "source": [
    "output['summary']= output['summary'].astype(str)\n",
    "# convert just columns\n",
    "output[num_cols] = output[num_cols].apply(pd.to_numeric)"
   ]
  },
  {
   "cell_type": "code",
   "execution_count": 16,
   "metadata": {},
   "outputs": [
    {
     "data": {
      "text/plain": [
       "summary              object\n",
       "Account Balance     float64\n",
       "No of dependents    float64\n",
       "dtype: object"
      ]
     },
     "execution_count": 16,
     "metadata": {},
     "output_type": "execute_result"
    }
   ],
   "source": [
    "output.dtypes"
   ]
  },
  {
   "cell_type": "code",
   "execution_count": 17,
   "metadata": {},
   "outputs": [
    {
     "name": "stdout",
     "output_type": "stream",
     "text": [
      "+-------+------------------+-----------------+\n",
      "|summary|   Account Balance| No of dependents|\n",
      "+-------+------------------+-----------------+\n",
      "|  count|            1000.0|           1000.0|\n",
      "|   mean|             2.577|            1.155|\n",
      "| stddev|1.2576377271108936|0.362085771753194|\n",
      "|    min|               1.0|              1.0|\n",
      "|    max|               4.0|              2.0|\n",
      "|    25%|               1.0|              1.0|\n",
      "|    50%|               2.0|              1.0|\n",
      "|    75%|               4.0|              1.0|\n",
      "+-------+------------------+-----------------+\n",
      "\n"
     ]
    }
   ],
   "source": [
    "spark.createDataFrame(output).show()"
   ]
  },
  {
   "cell_type": "code",
   "execution_count": 18,
   "metadata": {},
   "outputs": [],
   "source": [
    "output = describe_pd(df,num_cols,2)"
   ]
  },
  {
   "cell_type": "code",
   "execution_count": 19,
   "metadata": {},
   "outputs": [
    {
     "name": "stdout",
     "output_type": "stream",
     "text": [
      "+-------+------------------+-----------------+\n",
      "|summary|   Account Balance| No of dependents|\n",
      "+-------+------------------+-----------------+\n",
      "|  count|            1000.0|           1000.0|\n",
      "|   mean|             2.577|            1.155|\n",
      "| stddev|1.2576377271108936|0.362085771753194|\n",
      "|    min|               1.0|              1.0|\n",
      "|    max|               4.0|              2.0|\n",
      "|     0%|               1.0|              1.0|\n",
      "|    10%|               1.0|              1.0|\n",
      "|    20%|               1.0|              1.0|\n",
      "|    30%|               2.0|              1.0|\n",
      "|    40%|               2.0|              1.0|\n",
      "|    50%|               2.0|              1.0|\n",
      "|    60%|               3.0|              1.0|\n",
      "|    70%|               4.0|              1.0|\n",
      "|    80%|               4.0|              1.0|\n",
      "|    90%|               4.0|              2.0|\n",
      "|   100%|               4.0|              2.0|\n",
      "+-------+------------------+-----------------+\n",
      "\n"
     ]
    }
   ],
   "source": [
    "output['summary']= output['summary'].astype(str)\n",
    "# convert just columns\n",
    "output[num_cols] = output[num_cols].apply(pd.to_numeric)\n",
    "spark.createDataFrame(output).show()"
   ]
  },
  {
   "cell_type": "code",
   "execution_count": 20,
   "metadata": {},
   "outputs": [
    {
     "data": {
      "text/plain": [
       "(Age (years)    1.024712\n",
       " dtype: float64,\n",
       " Age (years)    0.620529\n",
       " dtype: float64)"
      ]
     },
     "execution_count": 20,
     "metadata": {},
     "output_type": "execute_result"
    }
   ],
   "source": [
    "var = 'Age (years)'\n",
    "#  pyspark.sql.function\n",
    "#df.select(skewness(var),kurtosis(var)).show()\n",
    "#  pandas skew(), kurtosis()\n",
    "df[['Age (years)']].toPandas().skew(),df[['Age (years)']].toPandas().kurtosis()"
   ]
  },
  {
   "cell_type": "code",
   "execution_count": 21,
   "metadata": {},
   "outputs": [
    {
     "name": "stdout",
     "output_type": "stream",
     "text": [
      "+-------------+\n",
      "|Credit Amount|\n",
      "+-------------+\n",
      "|         1049|\n",
      "|         2799|\n",
      "|          841|\n",
      "|         2122|\n",
      "|         2171|\n",
      "+-------------+\n",
      "only showing top 5 rows\n",
      "\n"
     ]
    }
   ],
   "source": [
    "df.select('Credit Amount').show(5)"
   ]
  },
  {
   "cell_type": "code",
   "execution_count": 22,
   "metadata": {},
   "outputs": [],
   "source": [
    "data1 = df.select('Age (years)').toPandas()"
   ]
  },
  {
   "cell_type": "code",
   "execution_count": 23,
   "metadata": {},
   "outputs": [],
   "source": [
    "import pandas as pd\n",
    "import numpy as np\n",
    "import matplotlib.pyplot as plt\n",
    "import seaborn as sns\n",
    "from scipy import stats\n",
    "%matplotlib inline\n",
    "\n",
    "plt.rcParams['figure.figsize'] =(16,9)\n",
    "plt.style.use('ggplot')\n",
    "sns.set()"
   ]
  },
  {
   "cell_type": "code",
   "execution_count": 24,
   "metadata": {},
   "outputs": [
    {
     "data": {
      "image/png": "[encoded data removed]",
      "text/plain": [
       "<Figure size 720x576 with 1 Axes>"
      ]
     },
     "metadata": {},
     "output_type": "display_data"
    }
   ],
   "source": [
    "var = 'Age (years)'\n",
    "x = data1[var]\n",
    "bins = np.arange(0, 100, 5.0)\n",
    "\n",
    "plt.figure(figsize=(10,8))\n",
    "# the histogram of the data\n",
    "plt.hist(x, bins, alpha=0.8, histtype='bar', color='gold',\n",
    "         ec='black',weights=np.zeros_like(x) + 100. / x.size)\n",
    "\n",
    "plt.xlabel(var)\n",
    "plt.ylabel('percentage')\n",
    "plt.xticks(bins)\n",
    "plt.show()\n",
    "\n",
    "#fig.savefig(var+\".pdf\", bbox_inches='tight')"
   ]
  },
  {
   "cell_type": "code",
   "execution_count": 25,
   "metadata": {},
   "outputs": [
    {
     "data": {
      "image/png": "[encoded data removed]",
      "text/plain": [
       "<Figure size 1440x576 with 2 Axes>"
      ]
     },
     "metadata": {},
     "output_type": "display_data"
    }
   ],
   "source": [
    "var = 'Age (years)'\n",
    "x = data1[var]\n",
    "bins = np.arange(0, 100, 5.0)\n",
    "\n",
    "\n",
    "########################################################################\n",
    "hist, bin_edges = np.histogram(x,bins,\n",
    "                               weights=np.zeros_like(x) + 100. / x.size) \n",
    "# make the histogram\n",
    " \n",
    "fig = plt.figure(figsize=(20, 8))\n",
    "ax = fig.add_subplot(1, 2, 1)\n",
    "\n",
    "# Plot the histogram heights against integers on the x axis\n",
    "ax.bar(range(len(hist)),hist,width=1,alpha=0.8,ec ='black', color='gold')\n",
    "# # Set the ticks to the middle of the bars\n",
    "ax.set_xticks([0.5+i for i,j in enumerate(hist)]) \n",
    "# Set the xticklabels to a string that tells us what the bin edges were\n",
    "labels =['{}'.format(int(bins[i+1])) for i,j in enumerate(hist)]\n",
    "#labels.insert(0,'0')\n",
    "ax.set_xticklabels(labels)\n",
    "plt.xlabel(var)\n",
    "plt.ylabel('percentage')\n",
    "\n",
    "########################################################################\n",
    "\n",
    "hist, bin_edges = np.histogram(x,bins) # make the histogram\n",
    "\n",
    "ax = fig.add_subplot(1, 2, 2)\n",
    "# Plot the histogram heights against integers on the x axis\n",
    "ax.bar(range(len(hist)),hist,width=1,alpha=0.8,ec ='black', color='gold')\n",
    " \n",
    "# # Set the ticks to the middle of the bars\n",
    "ax.set_xticks([0.5+i for i,j in enumerate(hist)])\n",
    " \n",
    "# Set the xticklabels to a string that tells us what the bin edges were\n",
    "labels =['{}'.format(int(bins[i+1])) for i,j in enumerate(hist)]\n",
    "#labels.insert(0,'0')\n",
    "ax.set_xticklabels(labels)\n",
    "plt.xlabel(var)\n",
    "plt.ylabel('count')\n",
    "plt.suptitle('Histogram of {}: Left with percentage output;Right with count output'\n",
    "             .format(var), size=16)\n",
    "plt.show()\n",
    "\n",
    "#fig.savefig(var+\".pdf\", bbox_inches='tight')"
   ]
  },
  {
   "cell_type": "code",
   "execution_count": 26,
   "metadata": {},
   "outputs": [],
   "source": [
    "def age_condition(x):\n",
    "    if pd.isnull(x):\n",
    "        return \"missing\"\n",
    "    elif x < 25:\n",
    "        return \"<25\"\n",
    "    elif 25 <= x <= 34:\n",
    "        return \"25-34\"\n",
    "    elif 35 <= x <= 44:\n",
    "        return \"35-44\" \n",
    "    elif 45 <= x <= 54:\n",
    "        return \"45-54\" \n",
    "    elif 55 <= x <= 64:\n",
    "        return \"55-64\"     \n",
    "    else:\n",
    "        return \"65+\""
   ]
  },
  {
   "cell_type": "code",
   "execution_count": 27,
   "metadata": {},
   "outputs": [],
   "source": [
    "from pyspark.sql.functions import udf\n",
    "from pyspark.sql.types import StringType, DoubleType\n",
    "\n",
    "age_udf = udf(lambda x: age_condition(x), StringType())\n"
   ]
  },
  {
   "cell_type": "code",
   "execution_count": 28,
   "metadata": {},
   "outputs": [],
   "source": [
    "df = df.withColumn(\"age_class\", age_udf(\"Age (years)\"))"
   ]
  },
  {
   "cell_type": "code",
   "execution_count": 29,
   "metadata": {},
   "outputs": [
    {
     "name": "stdout",
     "output_type": "stream",
     "text": [
      "+---------+-----------+\n",
      "|age_class|Age (years)|\n",
      "+---------+-----------+\n",
      "|      <25|         21|\n",
      "|    35-44|         36|\n",
      "|      <25|         23|\n",
      "+---------+-----------+\n",
      "only showing top 3 rows\n",
      "\n"
     ]
    }
   ],
   "source": [
    "df.select(['age_class','Age (years)']).show(3)"
   ]
  },
  {
   "cell_type": "code",
   "execution_count": 30,
   "metadata": {},
   "outputs": [
    {
     "name": "stdout",
     "output_type": "stream",
     "text": [
      "+---------+-----+\n",
      "|age_class|count|\n",
      "+---------+-----+\n",
      "|    45-54|  120|\n",
      "|      <25|  150|\n",
      "|    55-64|   56|\n",
      "|    35-44|  254|\n",
      "|    25-34|  397|\n",
      "|      65+|   23|\n",
      "+---------+-----+\n",
      "\n"
     ]
    }
   ],
   "source": [
    "df.select(['age_class','Credit Amount']).\\\n",
    "   groupBy('age_class').count().show()"
   ]
  },
  {
   "cell_type": "code",
   "execution_count": 31,
   "metadata": {},
   "outputs": [
    {
     "name": "stdout",
     "output_type": "stream",
     "text": [
      "+--------------------+---+---+---+---+\n",
      "|age_class_Occupation|  1|  2|  3|  4|\n",
      "+--------------------+---+---+---+---+\n",
      "|                 <25|  4| 34|108|  4|\n",
      "|               55-64|  1| 15| 31|  9|\n",
      "|               25-34|  7| 61|269| 60|\n",
      "|               35-44|  4| 58|143| 49|\n",
      "|                 65+|  5|  3|  6|  9|\n",
      "|               45-54|  1| 29| 73| 17|\n",
      "+--------------------+---+---+---+---+\n",
      "\n"
     ]
    }
   ],
   "source": [
    "df.stat.crosstab(\"age_class\", \"Occupation\").show()"
   ]
  },
  {
   "cell_type": "code",
   "execution_count": 32,
   "metadata": {},
   "outputs": [],
   "source": [
    "from pyspark.sql import functions as F\n",
    "from pyspark.sql.functions import rank,sum,col\n",
    "from pyspark.sql import Window\n",
    "\n",
    "window = Window.rowsBetween(Window.unboundedPreceding,Window.unboundedFollowing)\n",
    "# withColumn('Percent %',F.format_string(\"%5.0f%%\\n\",col('Credit_num')*100/col('total'))).\\\n",
    "tab = df.select(['age_class','Credit Amount']).\\\n",
    "   groupBy('age_class').\\\n",
    "   agg(F.count('Credit Amount').alias('Credit_num'),\n",
    "       F.mean('Credit Amount').alias('Credit_avg'),\n",
    "       F.min('Credit Amount').alias('Credit_min'),\n",
    "       F.max('Credit Amount').alias('Credit_max')).\\\n",
    "   withColumn('total',sum(col('Credit_num')).over(window)).\\\n",
    "   withColumn('Percent',col('Credit_num')*100/col('total')).\\\n",
    "   drop(col('total'))"
   ]
  },
  {
   "cell_type": "code",
   "execution_count": 33,
   "metadata": {},
   "outputs": [
    {
     "name": "stdout",
     "output_type": "stream",
     "text": [
      "+---------+----------+------------------+----------+----------+-------+\n",
      "|age_class|Credit_num|        Credit_avg|Credit_min|Credit_max|Percent|\n",
      "+---------+----------+------------------+----------+----------+-------+\n",
      "|    45-54|       120|3183.0666666666666|       338|     12612|   12.0|\n",
      "|      <25|       150| 2970.733333333333|       276|     15672|   15.0|\n",
      "|    55-64|        56| 3493.660714285714|       385|     15945|    5.6|\n",
      "|    35-44|       254| 3403.771653543307|       250|     15857|   25.4|\n",
      "|    25-34|       397| 3298.823677581864|       343|     18424|   39.7|\n",
      "|      65+|        23|3210.1739130434785|       571|     14896|    2.3|\n",
      "+---------+----------+------------------+----------+----------+-------+\n",
      "\n"
     ]
    }
   ],
   "source": [
    "tab.show()"
   ]
  },
  {
   "cell_type": "code",
   "execution_count": 34,
   "metadata": {},
   "outputs": [
    {
     "data": {
      "text/html": [
       "<div>\n",
       "<style scoped>\n",
       "    .dataframe tbody tr th:only-of-type {\n",
       "        vertical-align: middle;\n",
       "    }\n",
       "\n",
       "    .dataframe tbody tr th {\n",
       "        vertical-align: top;\n",
       "    }\n",
       "\n",
       "    .dataframe thead th {\n",
       "        text-align: right;\n",
       "    }\n",
       "</style>\n",
       "<table border=\"1\" class=\"dataframe\">\n",
       "  <thead>\n",
       "    <tr style=\"text-align: right;\">\n",
       "      <th></th>\n",
       "      <th>age_class</th>\n",
       "      <th>Credit_num</th>\n",
       "      <th>Credit_avg</th>\n",
       "      <th>Credit_min</th>\n",
       "      <th>Credit_max</th>\n",
       "      <th>Percent</th>\n",
       "    </tr>\n",
       "  </thead>\n",
       "  <tbody>\n",
       "    <tr>\n",
       "      <th>4</th>\n",
       "      <td>25-34</td>\n",
       "      <td>397</td>\n",
       "      <td>3298.823678</td>\n",
       "      <td>343</td>\n",
       "      <td>18424</td>\n",
       "      <td>39.7</td>\n",
       "    </tr>\n",
       "    <tr>\n",
       "      <th>3</th>\n",
       "      <td>35-44</td>\n",
       "      <td>254</td>\n",
       "      <td>3403.771654</td>\n",
       "      <td>250</td>\n",
       "      <td>15857</td>\n",
       "      <td>25.4</td>\n",
       "    </tr>\n",
       "    <tr>\n",
       "      <th>0</th>\n",
       "      <td>45-54</td>\n",
       "      <td>120</td>\n",
       "      <td>3183.066667</td>\n",
       "      <td>338</td>\n",
       "      <td>12612</td>\n",
       "      <td>12.0</td>\n",
       "    </tr>\n",
       "    <tr>\n",
       "      <th>2</th>\n",
       "      <td>55-64</td>\n",
       "      <td>56</td>\n",
       "      <td>3493.660714</td>\n",
       "      <td>385</td>\n",
       "      <td>15945</td>\n",
       "      <td>5.6</td>\n",
       "    </tr>\n",
       "    <tr>\n",
       "      <th>5</th>\n",
       "      <td>65+</td>\n",
       "      <td>23</td>\n",
       "      <td>3210.173913</td>\n",
       "      <td>571</td>\n",
       "      <td>14896</td>\n",
       "      <td>2.3</td>\n",
       "    </tr>\n",
       "    <tr>\n",
       "      <th>1</th>\n",
       "      <td>&lt;25</td>\n",
       "      <td>150</td>\n",
       "      <td>2970.733333</td>\n",
       "      <td>276</td>\n",
       "      <td>15672</td>\n",
       "      <td>15.0</td>\n",
       "    </tr>\n",
       "  </tbody>\n",
       "</table>\n",
       "</div>"
      ],
      "text/plain": [
       "  age_class  Credit_num   Credit_avg  Credit_min  Credit_max  Percent\n",
       "4     25-34         397  3298.823678         343       18424     39.7\n",
       "3     35-44         254  3403.771654         250       15857     25.4\n",
       "0     45-54         120  3183.066667         338       12612     12.0\n",
       "2     55-64          56  3493.660714         385       15945      5.6\n",
       "5       65+          23  3210.173913         571       14896      2.3\n",
       "1       <25         150  2970.733333         276       15672     15.0"
      ]
     },
     "execution_count": 34,
     "metadata": {},
     "output_type": "execute_result"
    }
   ],
   "source": [
    "plot_data = tab.toPandas() \n",
    "plot_data.sort_values('age_class')"
   ]
  },
  {
   "cell_type": "code",
   "execution_count": 35,
   "metadata": {},
   "outputs": [],
   "source": [
    "custom_dict = {'<25': 0, '25-34': 1, '35-44': 2, '45-54': 3, '55-64': 4, '65+': 5}"
   ]
  },
  {
   "cell_type": "code",
   "execution_count": 36,
   "metadata": {},
   "outputs": [],
   "source": [
    "plot_data['index']= plot_data['age_class'].replace(custom_dict)"
   ]
  },
  {
   "cell_type": "code",
   "execution_count": 37,
   "metadata": {},
   "outputs": [
    {
     "data": {
      "text/html": [
       "<div>\n",
       "<style scoped>\n",
       "    .dataframe tbody tr th:only-of-type {\n",
       "        vertical-align: middle;\n",
       "    }\n",
       "\n",
       "    .dataframe tbody tr th {\n",
       "        vertical-align: top;\n",
       "    }\n",
       "\n",
       "    .dataframe thead th {\n",
       "        text-align: right;\n",
       "    }\n",
       "</style>\n",
       "<table border=\"1\" class=\"dataframe\">\n",
       "  <thead>\n",
       "    <tr style=\"text-align: right;\">\n",
       "      <th></th>\n",
       "      <th>age_class</th>\n",
       "      <th>Credit_num</th>\n",
       "      <th>Credit_avg</th>\n",
       "      <th>Credit_min</th>\n",
       "      <th>Credit_max</th>\n",
       "      <th>Percent</th>\n",
       "      <th>index</th>\n",
       "    </tr>\n",
       "  </thead>\n",
       "  <tbody>\n",
       "    <tr>\n",
       "      <th>1</th>\n",
       "      <td>&lt;25</td>\n",
       "      <td>150</td>\n",
       "      <td>2970.733333</td>\n",
       "      <td>276</td>\n",
       "      <td>15672</td>\n",
       "      <td>15.0</td>\n",
       "      <td>0</td>\n",
       "    </tr>\n",
       "    <tr>\n",
       "      <th>4</th>\n",
       "      <td>25-34</td>\n",
       "      <td>397</td>\n",
       "      <td>3298.823678</td>\n",
       "      <td>343</td>\n",
       "      <td>18424</td>\n",
       "      <td>39.7</td>\n",
       "      <td>1</td>\n",
       "    </tr>\n",
       "    <tr>\n",
       "      <th>3</th>\n",
       "      <td>35-44</td>\n",
       "      <td>254</td>\n",
       "      <td>3403.771654</td>\n",
       "      <td>250</td>\n",
       "      <td>15857</td>\n",
       "      <td>25.4</td>\n",
       "      <td>2</td>\n",
       "    </tr>\n",
       "    <tr>\n",
       "      <th>0</th>\n",
       "      <td>45-54</td>\n",
       "      <td>120</td>\n",
       "      <td>3183.066667</td>\n",
       "      <td>338</td>\n",
       "      <td>12612</td>\n",
       "      <td>12.0</td>\n",
       "      <td>3</td>\n",
       "    </tr>\n",
       "    <tr>\n",
       "      <th>2</th>\n",
       "      <td>55-64</td>\n",
       "      <td>56</td>\n",
       "      <td>3493.660714</td>\n",
       "      <td>385</td>\n",
       "      <td>15945</td>\n",
       "      <td>5.6</td>\n",
       "      <td>4</td>\n",
       "    </tr>\n",
       "    <tr>\n",
       "      <th>5</th>\n",
       "      <td>65+</td>\n",
       "      <td>23</td>\n",
       "      <td>3210.173913</td>\n",
       "      <td>571</td>\n",
       "      <td>14896</td>\n",
       "      <td>2.3</td>\n",
       "      <td>5</td>\n",
       "    </tr>\n",
       "  </tbody>\n",
       "</table>\n",
       "</div>"
      ],
      "text/plain": [
       "  age_class  Credit_num   Credit_avg  Credit_min  Credit_max  Percent  index\n",
       "1       <25         150  2970.733333         276       15672     15.0      0\n",
       "4     25-34         397  3298.823678         343       18424     39.7      1\n",
       "3     35-44         254  3403.771654         250       15857     25.4      2\n",
       "0     45-54         120  3183.066667         338       12612     12.0      3\n",
       "2     55-64          56  3493.660714         385       15945      5.6      4\n",
       "5       65+          23  3210.173913         571       14896      2.3      5"
      ]
     },
     "execution_count": 37,
     "metadata": {},
     "output_type": "execute_result"
    }
   ],
   "source": [
    "plot_data.sort_values('index')"
   ]
  },
  {
   "cell_type": "code",
   "execution_count": 38,
   "metadata": {},
   "outputs": [],
   "source": [
    "plot_data = plot_data.sort_values('index')"
   ]
  },
  {
   "cell_type": "code",
   "execution_count": 39,
   "metadata": {},
   "outputs": [
    {
     "data": {
      "image/png": "[encoded data removed]",
      "text/plain": [
       "<Figure size 720x576 with 1 Axes>"
      ]
     },
     "metadata": {},
     "output_type": "display_data"
    }
   ],
   "source": [
    "# Data to plot\n",
    "labels = plot_data.age_class\n",
    "sizes =  plot_data.Percent\n",
    "colors = ['gold', 'yellowgreen', 'lightcoral','blue', 'lightskyblue','green','red']\n",
    "explode = (0, 0.1, 0, 0,0,0)  # explode 1st slice\n",
    " \n",
    "# Plot\n",
    "plt.figure(figsize=(10,8))\n",
    "plt.pie(sizes, explode=explode, labels=labels, colors=colors,\n",
    "        autopct='%1.1f%%', shadow=True, startangle=140)\n",
    " \n",
    "plt.axis('equal')\n",
    "plt.show()"
   ]
  },
  {
   "cell_type": "code",
   "execution_count": 40,
   "metadata": {},
   "outputs": [
    {
     "data": {
      "image/png": "[encoded data removed]",
      "text/plain": [
       "<Figure size 720x576 with 1 Axes>"
      ]
     },
     "metadata": {},
     "output_type": "display_data"
    }
   ],
   "source": [
    "labels = plot_data.age_class\n",
    "missing = plot_data.Percent\n",
    "ind = [x for x, _ in enumerate(labels)]\n",
    "\n",
    "plt.figure(figsize=(10,8))\n",
    "plt.bar(ind, missing, width=0.8, label='missing', color='gold')\n",
    "\n",
    "plt.xticks(ind, labels)\n",
    "plt.ylabel(\"percentage\")\n",
    "\n",
    "plt.show()\n"
   ]
  },
  {
   "cell_type": "code",
   "execution_count": 41,
   "metadata": {},
   "outputs": [
    {
     "data": {
      "image/png": "[encoded data removed]",
      "text/plain": [
       "<Figure size 720x576 with 1 Axes>"
      ]
     },
     "metadata": {},
     "output_type": "display_data"
    }
   ],
   "source": [
    "labels = ['missing', '<25', '25-34', '35-44', '45-54','55-64','65+']\n",
    "missing = np.array([0.000095, 0.024830, 0.028665, 0.029477, 0.031918,0.037073,0.026699])\n",
    "man = np.array([0.000147, 0.036311, 0.038684, 0.044761, 0.051269, 0.059542, 0.054259])\n",
    "women = np.array([0.004035, 0.032935, 0.035351, 0.041778, 0.048437, 0.056236,0.048091])\n",
    "ind = [x for x, _ in enumerate(labels)]\n",
    "\n",
    "plt.figure(figsize=(10,8))\n",
    "plt.bar(ind, women, width=0.8, label='women', color='gold', bottom=man+missing)\n",
    "plt.bar(ind, man, width=0.8, label='man', color='silver', bottom=missing)\n",
    "plt.bar(ind, missing, width=0.8, label='missing', color='#CD853F')\n",
    "\n",
    "plt.xticks(ind, labels)\n",
    "plt.ylabel(\"percentage\")\n",
    "plt.legend(loc=\"upper left\")\n",
    "plt.title(\"demo\")\n",
    "\n",
    "plt.show()"
   ]
  },
  {
   "cell_type": "code",
   "execution_count": 42,
   "metadata": {},
   "outputs": [
    {
     "data": {
      "image/png": "[encoded data removed]",
      "text/plain": [
       "<Figure size 720x576 with 1 Axes>"
      ]
     },
     "metadata": {},
     "output_type": "display_data"
    }
   ],
   "source": [
    "# prepare for the plot data\n",
    "\n",
    "var = 'Credit Amount'\n",
    "plot_data = df.select(var).toPandas()\n",
    "x= plot_data[var]\n",
    "\n",
    "bins =[0,200,400,600,700,800,900,1000,2000,3000,4000,5000,6000,10000,25000] \n",
    "\n",
    "hist, bin_edges = np.histogram(x,bins,weights=np.zeros_like(x) + 100. / x.size) # make the histogram\n",
    " \n",
    "fig = plt.figure(figsize=(10, 8))\n",
    "ax = fig.add_subplot(1, 1, 1)\n",
    "# Plot the histogram heights against integers on the x axis\n",
    "ax.bar(range(len(hist)),hist,width=1,alpha=0.8,ec ='black',color = 'gold')\n",
    " \n",
    "# # Set the ticks to the middle of the bars\n",
    "ax.set_xticks([0.5+i for i,j in enumerate(hist)])\n",
    " \n",
    "# Set the xticklabels to a string that tells us what the bin edges were\n",
    "#labels =['{}k'.format(int(bins[i+1]/1000)) for i,j in enumerate(hist)]\n",
    "labels =['{}'.format(bins[i+1]) for i,j in enumerate(hist)]\n",
    "#labels.insert(0,'0')\n",
    "ax.set_xticklabels(labels)\n",
    "#plt.text(-0.6, -1.4,'0')\n",
    "plt.xlabel(var)\n",
    "plt.ylabel('percentage')\n",
    "plt.show()"
   ]
  },
  {
   "cell_type": "code",
   "execution_count": null,
   "metadata": {},
   "outputs": [],
   "source": []
  }
 ],
 "metadata": {
  "kernelspec": {
   "display_name": "Python 3",
   "language": "python",
   "name": "python3"
  },
  "language_info": {
   "codemirror_mode": {
    "name": "ipython",
    "version": 3
   },
   "file_extension": ".py",
   "mimetype": "text/x-python",
   "name": "python",
   "nbconvert_exporter": "python",
   "pygments_lexer": "ipython3",
   "version": "3.8.0"
  }
 },
 "nbformat": 4,
 "nbformat_minor": 4
}
