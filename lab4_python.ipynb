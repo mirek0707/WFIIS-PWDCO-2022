{
 "cells": [
  {
   "cell_type": "code",
   "execution_count": 1,
   "metadata": {},
   "outputs": [],
   "source": [
    "import findspark\n",
    "findspark.init()\n"
   ]
  },
  {
   "cell_type": "code",
   "execution_count": 2,
   "metadata": {},
   "outputs": [
    {
     "name": "stdout",
     "output_type": "stream",
     "text": [
      "+---+---------+--------+------+---------+\n",
      "| id|firstname|lastname|rating|minRating|\n",
      "+---+---------+--------+------+---------+\n",
      "| 23|  Michael|  Jordan|    99| [23, 99]|\n",
      "| 33|  Scottie|  Pippen|    97| [33, 97]|\n",
      "|  1|  Derrick|    Rose|    94|  [1, 94]|\n",
      "| 53|    Artis| Gilmore|    94| [53, 94]|\n",
      "| 91|   Dennis|  Rodman|    93| [91, 93]|\n",
      "+---+---------+--------+------+---------+\n",
      "\n",
      "+---+---+\n",
      "|src|dst|\n",
      "+---+---+\n",
      "| 23| 33|\n",
      "| 33| 23|\n",
      "| 23| 91|\n",
      "| 91| 23|\n",
      "|  1| 33|\n",
      "| 33|  1|\n",
      "| 53| 23|\n",
      "| 23| 53|\n",
      "+---+---+\n",
      "\n",
      "+---+------+\n",
      "| id|degree|\n",
      "+---+------+\n",
      "| 23|     6|\n",
      "| 53|     2|\n",
      "| 33|     4|\n",
      "|  1|     2|\n",
      "| 91|     2|\n",
      "+---+------+\n",
      "\n",
      "+---+---------+--------+------+---------+\n",
      "| id|firstname|lastname|rating|minRating|\n",
      "+---+---------+--------+------+---------+\n",
      "| 23|  Michael|  Jordan|    99| [91, 93]|\n",
      "| 53|    Artis| Gilmore|    94| [53, 94]|\n",
      "| 33|  Scottie|  Pippen|    97|  [1, 94]|\n",
      "|  1|  Derrick|    Rose|    94|  [1, 94]|\n",
      "| 91|   Dennis|  Rodman|    93| [91, 93]|\n",
      "+---+---------+--------+------+---------+\n",
      "\n",
      "+---+---------+--------+------+---------+\n",
      "| id|firstname|lastname|rating|minRating|\n",
      "+---+---------+--------+------+---------+\n",
      "| 23|  Michael|  Jordan|    99| [91, 93]|\n",
      "| 53|    Artis| Gilmore|    94| [91, 93]|\n",
      "| 33|  Scottie|  Pippen|    97| [91, 93]|\n",
      "|  1|  Derrick|    Rose|    94|  [1, 94]|\n",
      "| 91|   Dennis|  Rodman|    93| [91, 93]|\n",
      "+---+---------+--------+------+---------+\n",
      "\n",
      "+---+---------+--------+------+---------+\n",
      "| id|firstname|lastname|rating|minRating|\n",
      "+---+---------+--------+------+---------+\n",
      "| 23|  Michael|  Jordan|    99| [91, 93]|\n",
      "| 53|    Artis| Gilmore|    94| [91, 93]|\n",
      "| 33|  Scottie|  Pippen|    97| [91, 93]|\n",
      "|  1|  Derrick|    Rose|    94| [91, 93]|\n",
      "| 91|   Dennis|  Rodman|    93| [91, 93]|\n",
      "+---+---------+--------+------+---------+\n",
      "\n",
      "+---+---------+--------+------+---------+\n",
      "| id|firstname|lastname|rating|minRating|\n",
      "+---+---------+--------+------+---------+\n",
      "| 23|  Michael|  Jordan|    99| [91, 93]|\n",
      "| 53|    Artis| Gilmore|    94| [91, 93]|\n",
      "| 33|  Scottie|  Pippen|    97| [91, 93]|\n",
      "|  1|  Derrick|    Rose|    94| [91, 93]|\n",
      "| 91|   Dennis|  Rodman|    93| [91, 93]|\n",
      "+---+---------+--------+------+---------+\n",
      "\n",
      "+---+---------+--------+------+---------+\n",
      "| id|firstname|lastname|rating|minRating|\n",
      "+---+---------+--------+------+---------+\n",
      "| 23|  Michael|  Jordan|    99| [91, 93]|\n",
      "| 53|    Artis| Gilmore|    94| [91, 93]|\n",
      "| 33|  Scottie|  Pippen|    97| [91, 93]|\n",
      "|  1|  Derrick|    Rose|    94| [91, 93]|\n",
      "| 91|   Dennis|  Rodman|    93| [91, 93]|\n",
      "+---+---------+--------+------+---------+\n",
      "\n"
     ]
    }
   ],
   "source": [
    "from graphframes import GraphFrame\n",
    "from graphframes.lib import AggregateMessages as AM\n",
    "from pyspark.sql import SparkSession\n",
    "from graphframes import GraphFrame\n",
    "from graphframes.lib import AggregateMessages as AM\n",
    "from pyspark import SparkConf, SparkContext\n",
    "from pyspark.sql import SQLContext, functions as sqlfunctions, types\n",
    "from pyspark.sql import functions as F\n",
    "\n",
    "spark = SparkSession.builder.appName('nba2k-ratings').getOrCreate()\n",
    "\n",
    "# Some NBA players that have played for the Chicago Bulls and their NBA2K19 ratings.\n",
    "vertices = spark.createDataFrame([('23', 'Michael', 'Jordan', 99), \n",
    "                                  ('33', 'Scottie', 'Pippen', 97),\n",
    "                                  ('1', 'Derrick', 'Rose', 94),\n",
    "                                  ('53', 'Artis', 'Gilmore', 94),\n",
    "                                  ('91', 'Dennis', 'Rodman', 93)],\n",
    "                                  ['id', 'firstname', 'lastname', 'rating'])\n",
    "\n",
    "\n",
    "# Some random associations between the players that form a connected graph.\n",
    "edges = spark.createDataFrame([('23', '33'), \n",
    "                               ('33', '23'),\n",
    "                              ('23', '91'),\n",
    "                              ('91', '23'),\n",
    "                               ('1', '33'),\n",
    "                               ('33', '1'),\n",
    "                               ('53', '23'),\n",
    "                               ('23', '53')],\n",
    "                              ['src', 'dst'])\n",
    "\n",
    "\n",
    "# UDF for creating a rating data type.\n",
    "def new_rating(rating, id):\n",
    "    return {\"id\": id, \"rating\": rating}\n",
    "player_rating_type = types.StructType([types.StructField(\"id\", types.StringType()), types.StructField(\"rating\", types.IntegerType())])\n",
    "new_rating_udf = F.udf(new_rating, player_rating_type)\n",
    "\n",
    "# Add as the currently known mimimum rating of each node, the rating of the node itself.\n",
    "vertices = vertices.withColumn(\"minRating\", new_rating_udf(vertices[\"rating\"], vertices[\"id\"]))\n",
    "cached_vertices = AM.getCachedDataFrame(vertices)\n",
    "\n",
    "# Create and print information on the respective GraphFrame\n",
    "g = GraphFrame(cached_vertices, edges)\n",
    "g.vertices.show()\n",
    "g.edges.show()\n",
    "g.degrees.show()\n",
    "\n",
    "# UDF for preserving the minimum rating between those received by all neighbors.\n",
    "def min_rating(ratings):\n",
    "    min_rating = -1\n",
    "    min_rating_id = -1\n",
    "    for rating in ratings:\n",
    "        if min_rating == -1 or rating.rating < min_rating:\n",
    "            min_rating = rating.rating\n",
    "            min_rating_id = rating.id\n",
    "    return {\"id\": min_rating_id, \"rating\": min_rating}\n",
    "min_rating_udf = F.udf(min_rating, player_rating_type)\n",
    "\n",
    "# UDF for finding the minimum rating between the old one and the new one.\n",
    "def compare_rating(old_rating, new_rating):\n",
    "    return old_rating if old_rating.rating < new_rating.rating else new_rating\n",
    "compare_rating_udf = F.udf(compare_rating, player_rating_type)\n",
    "\n",
    "# Iterative graph computations\n",
    "max_iterations = 5\n",
    "for _ in range(max_iterations):\n",
    "  aggregates = g.aggregateMessages(F.collect_set(AM.msg).alias(\"agg\"),\n",
    "              sendToDst=AM.src[\"minRating\"])\n",
    "  res = aggregates.withColumn(\"newMinRating\", min_rating_udf(\"agg\")).drop(\"agg\")\n",
    "  new_vertices = g.vertices.join(res, on=\"id\", how=\"left_outer\").withColumnRenamed(\"minRating\", \"oldMinRating\").withColumn(\"minRating\", compare_rating_udf(F.col(\"oldMinRating\"), F.col(\"newMinRating\"))).drop(\"oldMinRating\").drop(\"newMinRating\")\n",
    "  cached_new_vertices = AM.getCachedDataFrame(new_vertices)\n",
    "  g = GraphFrame(cached_new_vertices, g.edges)\n",
    "  g.vertices.show()"
   ]
  },
  {
   "cell_type": "code",
   "execution_count": 3,
   "metadata": {},
   "outputs": [],
   "source": [
    "from pyspark.sql import SparkSession    \n",
    "spark = SparkSession \\\n",
    "        .builder \\\n",
    "        .appName(\"Python Spark Data Exploration\") \\\n",
    "        .config(\"spark.some.config.option\", \"some-value\") \\\n",
    "        .getOrCreate()"
   ]
  },
  {
   "cell_type": "code",
   "execution_count": 4,
   "metadata": {},
   "outputs": [],
   "source": [
    "from pyspark.sql.types import *\n",
    "from graphframes import *\n",
    "import pandas as pd"
   ]
  },
  {
   "cell_type": "code",
   "execution_count": 5,
   "metadata": {},
   "outputs": [],
   "source": [
    "fields = [\n",
    "    StructField(\"id\", StringType(), True),\n",
    "    StructField(\"latitude\", FloatType(), True),\n",
    "    StructField(\"longitude\", FloatType(), True),\n",
    "    StructField(\"population\", IntegerType(), True)\n",
    "]"
   ]
  },
  {
   "cell_type": "code",
   "execution_count": 6,
   "metadata": {},
   "outputs": [],
   "source": [
    "v = spark.read.csv(\"/home/spark/lab04/task2/transport-nodes.csv\", header=True, schema=StructType(fields))"
   ]
  },
  {
   "cell_type": "code",
   "execution_count": 7,
   "metadata": {},
   "outputs": [],
   "source": [
    "src_dst = spark.read.csv(\"/home/spark/lab04/task2/transport-relationships.csv\", header=True)"
   ]
  },
  {
   "cell_type": "code",
   "execution_count": 8,
   "metadata": {},
   "outputs": [],
   "source": [
    "df_src_dst = src_dst.toPandas()\n",
    "df_dst_src = src_dst.toPandas()\n",
    "df_dst_src.columns = [\"dst\", \"src\", \"relationship\", \"cost\"]"
   ]
  },
  {
   "cell_type": "code",
   "execution_count": 9,
   "metadata": {},
   "outputs": [],
   "source": [
    "e = spark.createDataFrame(pd.concat([df_src_dst, df_dst_src], sort=False))"
   ]
  },
  {
   "cell_type": "code",
   "execution_count": 10,
   "metadata": {},
   "outputs": [],
   "source": [
    "g = GraphFrame(v, e)"
   ]
  },
  {
   "cell_type": "code",
   "execution_count": 11,
   "metadata": {},
   "outputs": [
    {
     "name": "stdout",
     "output_type": "stream",
     "text": [
      "+----------+--------+---------+----------+\n",
      "|        id|latitude|longitude|population|\n",
      "+----------+--------+---------+----------+\n",
      "|Colchester|51.88921|  0.90421|    104390|\n",
      "|   Ipswich|52.05917|  1.15545|    133384|\n",
      "+----------+--------+---------+----------+\n",
      "\n"
     ]
    }
   ],
   "source": [
    "(g.vertices\n",
    " .filter(\"population > 100000 and population < 300000\")\n",
    " .sort(\"population\")\n",
    " .show())"
   ]
  },
  {
   "cell_type": "code",
   "execution_count": 12,
   "metadata": {},
   "outputs": [],
   "source": [
    "from_expr = \"id='Den Haag'\"\n",
    "to_expr = \"population > 100000 and population < 300000 and id <> 'Den Haag'\"\n",
    "result = g.bfs(from_expr, to_expr)"
   ]
  },
  {
   "cell_type": "code",
   "execution_count": 13,
   "metadata": {},
   "outputs": [
    {
     "name": "stdout",
     "output_type": "stream",
     "text": [
      "['from', 'e0', 'v1', 'e1', 'v2', 'e2', 'to']\n"
     ]
    }
   ],
   "source": [
    "print(result.columns)"
   ]
  },
  {
   "cell_type": "code",
   "execution_count": 14,
   "metadata": {},
   "outputs": [
    {
     "name": "stdout",
     "output_type": "stream",
     "text": [
      "+--------------------+--------------------+--------------------+--------------------+\n",
      "|                from|                  v1|                  v2|                  to|\n",
      "+--------------------+--------------------+--------------------+--------------------+\n",
      "|[Den Haag, 52.078...|[Hoek van Holland...|[Felixstowe, 51.9...|[Ipswich, 52.0591...|\n",
      "+--------------------+--------------------+--------------------+--------------------+\n",
      "\n"
     ]
    }
   ],
   "source": [
    "columns = [column for column in result.columns if not column.startswith(\"e\")]\n",
    "result.select(columns).show()"
   ]
  },
  {
   "cell_type": "code",
   "execution_count": 15,
   "metadata": {},
   "outputs": [
    {
     "name": "stdout",
     "output_type": "stream",
     "text": [
      "+----------------+--------------------------------------------------------+\n",
      "|id              |distances                                               |\n",
      "+----------------+--------------------------------------------------------+\n",
      "|Amsterdam       |[Immingham -> 1, Hoek van Holland -> 2, Colchester -> 4]|\n",
      "|Colchester      |[Hoek van Holland -> 3, Immingham -> 3, Colchester -> 0]|\n",
      "|Den Haag        |[Hoek van Holland -> 1, Immingham -> 2, Colchester -> 4]|\n",
      "|Doncaster       |[Hoek van Holland -> 4, Immingham -> 1, Colchester -> 2]|\n",
      "|Felixstowe      |[Immingham -> 4, Hoek van Holland -> 1, Colchester -> 2]|\n",
      "|Gouda           |[Hoek van Holland -> 2, Immingham -> 3, Colchester -> 5]|\n",
      "|Hoek van Holland|[Immingham -> 3, Hoek van Holland -> 0, Colchester -> 3]|\n",
      "|Immingham       |[Hoek van Holland -> 3, Immingham -> 0, Colchester -> 3]|\n",
      "|Ipswich         |[Immingham -> 4, Hoek van Holland -> 2, Colchester -> 1]|\n",
      "|London          |[Hoek van Holland -> 4, Immingham -> 2, Colchester -> 1]|\n",
      "|Rotterdam       |[Hoek van Holland -> 1, Immingham -> 3, Colchester -> 4]|\n",
      "|Utrecht         |[Immingham -> 2, Hoek van Holland -> 3, Colchester -> 5]|\n",
      "+----------------+--------------------------------------------------------+\n",
      "\n"
     ]
    }
   ],
   "source": [
    "result = g.shortestPaths([\"Colchester\", \"Immingham\", \"Hoek van Holland\"])\n",
    "result.sort([\"id\"]).select(\"id\", \"distances\").show(truncate=False)"
   ]
  },
  {
   "cell_type": "code",
   "execution_count": 16,
   "metadata": {},
   "outputs": [],
   "source": [
    "from graphframes.lib import AggregateMessages as AM\n",
    "from pyspark.sql import functions as F"
   ]
  },
  {
   "cell_type": "code",
   "execution_count": 17,
   "metadata": {},
   "outputs": [],
   "source": [
    "add_path_udf = F.udf(lambda path, id: path + [id], ArrayType(StringType()))"
   ]
  },
  {
   "cell_type": "code",
   "execution_count": 18,
   "metadata": {},
   "outputs": [],
   "source": [
    "def shortest_path(g, origin, destination, column_name=\"cost\"):\n",
    "    if g.vertices.filter(g.vertices.id == destination).count() == 0:\n",
    "        return (spark.createDataFrame(sc.emptyRDD(), g.vertices.schema) \\\n",
    "            .withColumn(\"path\", F.array()))\n",
    "    vertices = (g.vertices.withColumn(\"visited\", F.lit(False))\n",
    "        .withColumn(\"distance\", F.when(g.vertices[\"id\"] == origin, 0).otherwise(float(\"inf\")))        \\\n",
    "        .withColumn(\"path\", F.array()))      \n",
    "    cached_vertices = AM.getCachedDataFrame(vertices)\n",
    "    g2 = GraphFrame(cached_vertices, g.edges)\n",
    "    while g2.vertices.filter('visited == False').first():\n",
    "        current_node_id = g2.vertices.filter('visited == False').sort(\"distance\").first().id\n",
    "        msg_distance = AM.edge[column_name] + AM.src['distance']\n",
    "        msg_path = add_path_udf(AM.src[\"path\"], AM.src[\"id\"])\n",
    "        msg_for_dst = F.when(AM.src['id'] == current_node_id,F.struct(msg_distance, msg_path))\n",
    "        new_distances = g2.aggregateMessages(F.min(AM.msg).alias(\"aggMess\"),sendToDst=msg_for_dst)\n",
    "        new_visited_col = F.when(     \\\n",
    "            g2.vertices.visited | (g2.vertices.id == current_node_id),True).otherwise(False)\n",
    "        new_distance_col = F.when(new_distances[\"aggMess\"].isNotNull() &    \\\n",
    "            (new_distances.aggMess[\"col1\"] < g2.vertices.distance),new_distances.aggMess[\"col1\"])  \\\n",
    "            .otherwise(g2.vertices.distance)\n",
    "        new_path_col = F.when(new_distances[\"aggMess\"].isNotNull() &  \\\n",
    "            (new_distances.aggMess[\"col1\"] < g2.vertices.distance), new_distances.aggMess[\"col2\"]   \\\n",
    "            .cast(\"array<string>\")).otherwise(g2.vertices.path)\n",
    "        new_vertices = (g2.vertices.join(new_distances, on=\"id\",how=\"left_outer\")  \\\n",
    "            .drop(new_distances[\"id\"])   \\\n",
    "            .withColumn(\"visited\", new_visited_col)  \\\n",
    "            .withColumn(\"newDistance\", new_distance_col)  \\\n",
    "            .withColumn(\"newPath\", new_path_col)  \\\n",
    "            .drop(\"aggMess\", \"distance\", \"path\")  \\\n",
    "            .withColumnRenamed('newDistance', 'distance')  \\\n",
    "            .withColumnRenamed('newPath', 'path'))  \n",
    "        cached_new_vertices = AM.getCachedDataFrame(new_vertices)\n",
    "        g2 = GraphFrame(cached_new_vertices, g2.edges)\n",
    "        if g2.vertices.filter(g2.vertices.id == destination).first().visited:\n",
    "            return (g2.vertices.filter(g2.vertices.id == destination)  \\\n",
    "                .withColumn(\"newPath\", add_path_udf(\"path\", \"id\"))     \\\n",
    "                .drop(\"visited\", \"path\")                               \\\n",
    "                .withColumnRenamed(\"newPath\", \"path\"))\n",
    "    return (spark.createDataFrame(sc.emptyRDD(), g.vertices.schema)    \\\n",
    "        .withColumn(\"path\", F.array()))"
   ]
  },
  {
   "cell_type": "code",
   "execution_count": 19,
   "metadata": {},
   "outputs": [
    {
     "name": "stdout",
     "output_type": "stream",
     "text": [
      "+----------+--------+------------------------------------------------------------------------+\n",
      "|id        |distance|path                                                                    |\n",
      "+----------+--------+------------------------------------------------------------------------+\n",
      "|Colchester|347.0   |[Amsterdam, Den Haag, Hoek van Holland, Felixstowe, Ipswich, Colchester]|\n",
      "+----------+--------+------------------------------------------------------------------------+\n",
      "\n"
     ]
    }
   ],
   "source": [
    "result = shortest_path(g, \"Amsterdam\", \"Colchester\", \"cost\")\n",
    "result.select(\"id\", \"distance\", \"path\").show(truncate=False)"
   ]
  },
  {
   "cell_type": "code",
   "execution_count": 20,
   "metadata": {},
   "outputs": [],
   "source": [
    "import findspark\n",
    "findspark.init()"
   ]
  },
  {
   "cell_type": "code",
   "execution_count": 21,
   "metadata": {},
   "outputs": [],
   "source": [
    "from pyspark.sql import SparkSession    \n",
    "spark = SparkSession \\\n",
    "        .builder \\\n",
    "        .appName(\"Python Spark Data Exploration\") \\\n",
    "        .config(\"spark.some.config.option\", \"some-value\") \\\n",
    "        .getOrCreate()"
   ]
  },
  {
   "cell_type": "code",
   "execution_count": 22,
   "metadata": {},
   "outputs": [],
   "source": [
    "from pyspark.sql.types import *\n",
    "from graphframes import *\n",
    "from pyspark.sql import functions as F\n",
    "import pandas as pd"
   ]
  },
  {
   "cell_type": "code",
   "execution_count": 23,
   "metadata": {},
   "outputs": [],
   "source": [
    "from graphframes.lib import AggregateMessages as AM\n",
    "from pyspark.sql import functions as F"
   ]
  },
  {
   "cell_type": "code",
   "execution_count": 24,
   "metadata": {},
   "outputs": [],
   "source": [
    "def create_transport_graph():\n",
    "    node_fields = [\n",
    "        StructField(\"id\", StringType(), True),\n",
    "        StructField(\"latitude\", FloatType(), True),\n",
    "        StructField(\"longitude\", FloatType(), True),\n",
    "        StructField(\"population\", IntegerType(), True)\n",
    "    ]\n",
    "    nodes = spark.read.csv(\"/home/spark/lab04/task2/transport-nodes.csv\", header=True,\n",
    "                           schema=StructType(node_fields))\n",
    "\n",
    "    rels = spark.read.csv(\"/home/spark/lab04/task2/transport-relationships.csv\", header=True)\n",
    "    reversed_rels = (rels.withColumn(\"newSrc\", rels.dst)\n",
    "                     .withColumn(\"newDst\", rels.src)\n",
    "                     .drop(\"dst\", \"src\")\n",
    "                     .withColumnRenamed(\"newSrc\", \"src\")\n",
    "                     .withColumnRenamed(\"newDst\", \"dst\")\n",
    "                     .select(\"src\", \"dst\", \"relationship\", \"cost\"))\n",
    "    relationships = rels.union(reversed_rels)\n",
    "    return GraphFrame(nodes, relationships)"
   ]
  },
  {
   "cell_type": "code",
   "execution_count": 25,
   "metadata": {},
   "outputs": [],
   "source": [
    "add_path_udf = F.udf(lambda path, id: path + [id], ArrayType(StringType()))"
   ]
  },
  {
   "cell_type": "code",
   "execution_count": 26,
   "metadata": {},
   "outputs": [],
   "source": [
    "def sssp(g, origin, column_name=\"cost\"):\n",
    "    vertices = g.vertices \\\n",
    "        .withColumn(\"visited\", F.lit(False)) \\\n",
    "        .withColumn(\"distance\",\n",
    "            F.when(g.vertices[\"id\"] == origin, 0).otherwise(float(\"inf\"))) \\\n",
    "        .withColumn(\"path\", F.array())\n",
    "    cached_vertices = AM.getCachedDataFrame(vertices)\n",
    "    g2 = GraphFrame(cached_vertices, g.edges)\n",
    "\n",
    "    while g2.vertices.filter('visited == False').first():\n",
    "        current_node_id = g2.vertices.filter('visited == False').sort(\"distance\").first().id\n",
    "\n",
    "        msg_distance = AM.edge[column_name] + AM.src['distance']\n",
    "        msg_path = add_path_udf(AM.src[\"path\"], AM.src[\"id\"])\n",
    "        msg_for_dst = F.when(AM.src['id'] == current_node_id, F.struct(msg_distance, msg_path))\n",
    "        new_distances = g2.aggregateMessages(\n",
    "            F.min(AM.msg).alias(\"aggMess\"), sendToDst=msg_for_dst)\n",
    "\n",
    "        new_visited_col = F.when(\n",
    "            g2.vertices.visited | (g2.vertices.id == current_node_id), True).otherwise(False)\n",
    "        new_distance_col = F.when(new_distances[\"aggMess\"].isNotNull() &\n",
    "                                  (new_distances.aggMess[\"col1\"] < g2.vertices.distance),\n",
    "                                  new_distances.aggMess[\"col1\"]) \\\n",
    "                            .otherwise(g2.vertices.distance)\n",
    "        new_path_col = F.when(new_distances[\"aggMess\"].isNotNull() &\n",
    "                              (new_distances.aggMess[\"col1\"] < g2.vertices.distance),\n",
    "                              new_distances.aggMess[\"col2\"].cast(\"array<string>\")) \\\n",
    "                        .otherwise(g2.vertices.path)\n",
    "\n",
    "        new_vertices = g2.vertices.join(new_distances, on=\"id\", how=\"left_outer\") \\\n",
    "            .drop(new_distances[\"id\"]) \\\n",
    "            .withColumn(\"visited\", new_visited_col) \\\n",
    "            .withColumn(\"newDistance\", new_distance_col) \\\n",
    "            .withColumn(\"newPath\", new_path_col) \\\n",
    "            .drop(\"aggMess\", \"distance\", \"path\") \\\n",
    "            .withColumnRenamed('newDistance', 'distance') \\\n",
    "            .withColumnRenamed('newPath', 'path')\n",
    "        cached_new_vertices = AM.getCachedDataFrame(new_vertices)\n",
    "        g2 = GraphFrame(cached_new_vertices, g2.edges)\n",
    "\n",
    "    return g2.vertices \\\n",
    "                .withColumn(\"newPath\", add_path_udf(\"path\", \"id\")) \\\n",
    "                .drop(\"visited\", \"path\") \\\n",
    "                .withColumnRenamed(\"newPath\", \"path\")"
   ]
  },
  {
   "cell_type": "code",
   "execution_count": 27,
   "metadata": {},
   "outputs": [],
   "source": [
    "g = create_transport_graph() "
   ]
  },
  {
   "cell_type": "code",
   "execution_count": 28,
   "metadata": {},
   "outputs": [],
   "source": [
    "via_udf = F.udf(lambda path: path[1:-1], ArrayType(StringType()))"
   ]
  },
  {
   "cell_type": "code",
   "execution_count": 29,
   "metadata": {},
   "outputs": [
    {
     "name": "stdout",
     "output_type": "stream",
     "text": [
      "+----------------+--------+-------------------------------------------------------------+\n",
      "|id              |distance|via                                                          |\n",
      "+----------------+--------+-------------------------------------------------------------+\n",
      "|Amsterdam       |0.0     |[]                                                           |\n",
      "|Utrecht         |46.0    |[]                                                           |\n",
      "|Den Haag        |59.0    |[]                                                           |\n",
      "|Gouda           |81.0    |[Utrecht]                                                    |\n",
      "|Rotterdam       |85.0    |[Den Haag]                                                   |\n",
      "|Hoek van Holland|86.0    |[Den Haag]                                                   |\n",
      "|Felixstowe      |293.0   |[Den Haag, Hoek van Holland]                                 |\n",
      "|Ipswich         |315.0   |[Den Haag, Hoek van Holland, Felixstowe]                     |\n",
      "|Colchester      |347.0   |[Den Haag, Hoek van Holland, Felixstowe, Ipswich]            |\n",
      "|Immingham       |369.0   |[]                                                           |\n",
      "|Doncaster       |443.0   |[Immingham]                                                  |\n",
      "|London          |453.0   |[Den Haag, Hoek van Holland, Felixstowe, Ipswich, Colchester]|\n",
      "+----------------+--------+-------------------------------------------------------------+\n",
      "\n"
     ]
    }
   ],
   "source": [
    "result = sssp(g, \"Amsterdam\", \"cost\")\n",
    "(result\n",
    " .withColumn(\"via\", via_udf(\"path\"))\n",
    " .select(\"id\", \"distance\", \"via\")\n",
    " .sort(\"distance\")\n",
    " .show(truncate=False))"
   ]
  },
  {
   "cell_type": "code",
   "execution_count": 30,
   "metadata": {},
   "outputs": [],
   "source": [
    "import findspark\n",
    "findspark.init()"
   ]
  },
  {
   "cell_type": "code",
   "execution_count": 31,
   "metadata": {},
   "outputs": [],
   "source": [
    "from pyspark.sql import SparkSession    \n",
    "spark = SparkSession \\\n",
    "        .builder \\\n",
    "        .appName(\"Python Spark Data Exploration\") \\\n",
    "        .config(\"spark.some.config.option\", \"some-value\") \\\n",
    "        .getOrCreate()"
   ]
  },
  {
   "cell_type": "code",
   "execution_count": 32,
   "metadata": {},
   "outputs": [],
   "source": [
    "from graphframes import *\n",
    "from pyspark import SparkContext"
   ]
  },
  {
   "cell_type": "code",
   "execution_count": 33,
   "metadata": {},
   "outputs": [],
   "source": [
    "v = spark.read.csv(\"/home/spark/lab04/task3/social-nodes.csv\", header=True)\n",
    "e = spark.read.csv(\"/home/spark/lab04/task3/social-relationships.csv\", header=True)\n",
    "g = GraphFrame(v, e)"
   ]
  },
  {
   "cell_type": "code",
   "execution_count": 34,
   "metadata": {},
   "outputs": [
    {
     "name": "stdout",
     "output_type": "stream",
     "text": [
      "+-------+-------------------+\n",
      "|     id|           pagerank|\n",
      "+-------+-------------------+\n",
      "|   Doug| 2.2865372087512252|\n",
      "|   Mark| 2.1424484186137263|\n",
      "|  Alice|  1.520330830262095|\n",
      "|Michael| 0.7274429252585624|\n",
      "|Bridget| 0.7274429252585624|\n",
      "|Charles| 0.5213852310709753|\n",
      "|    Amy| 0.5097143486157744|\n",
      "|  David|0.36655842368870073|\n",
      "|  James| 0.1981396884803788|\n",
      "+-------+-------------------+\n",
      "\n"
     ]
    }
   ],
   "source": [
    "results = g.pageRank(resetProbability=0.15, maxIter=20)\n",
    "results.vertices.sort(\"pagerank\", ascending=False).show()"
   ]
  },
  {
   "cell_type": "code",
   "execution_count": 35,
   "metadata": {},
   "outputs": [
    {
     "name": "stdout",
     "output_type": "stream",
     "text": [
      "+-------+-------------------+\n",
      "|     id|           pagerank|\n",
      "+-------+-------------------+\n",
      "|   Doug| 2.2233188859989745|\n",
      "|   Mark|  2.090451188336932|\n",
      "|  Alice| 1.5056291439101062|\n",
      "|Michael|  0.733738785109624|\n",
      "|Bridget|  0.733738785109624|\n",
      "|    Amy|  0.559446807245026|\n",
      "|Charles| 0.5338811076334145|\n",
      "|  David|0.40232326274180685|\n",
      "|  James|0.21747203391449021|\n",
      "+-------+-------------------+\n",
      "\n"
     ]
    }
   ],
   "source": [
    "results = g.pageRank(resetProbability=0.15, tol=0.01)\n",
    "results.vertices.sort(\"pagerank\", ascending=False).show()"
   ]
  },
  {
   "cell_type": "code",
   "execution_count": 36,
   "metadata": {},
   "outputs": [
    {
     "name": "stdout",
     "output_type": "stream",
     "text": [
      "+-------+------+--------+---------+\n",
      "|     id|degree|inDegree|outDegree|\n",
      "+-------+------+--------+---------+\n",
      "|   Doug|     6|       5|        1|\n",
      "|  Alice|     7|       3|        4|\n",
      "|Bridget|     5|       2|        3|\n",
      "|Michael|     5|       2|        3|\n",
      "|   Mark|     3|       1|        2|\n",
      "|Charles|     2|       1|        1|\n",
      "|    Amy|     1|       1|        0|\n",
      "|  David|     2|       1|        1|\n",
      "|  James|     1|       0|        1|\n",
      "+-------+------+--------+---------+\n",
      "\n"
     ]
    }
   ],
   "source": [
    "total_degree = g.degrees\n",
    "in_degree = g.inDegrees\n",
    "out_degree = g.outDegrees\n",
    "(total_degree.join(in_degree, \"id\", how=\"left\")\n",
    "  .join(out_degree, \"id\", how=\"left\")\n",
    "  .fillna(0)\n",
    "  .sort(\"inDegree\", ascending=False)\n",
    "  .show())"
   ]
  },
  {
   "cell_type": "code",
   "execution_count": 37,
   "metadata": {},
   "outputs": [],
   "source": [
    "import findspark\n",
    "findspark.init()"
   ]
  },
  {
   "cell_type": "code",
   "execution_count": 38,
   "metadata": {},
   "outputs": [],
   "source": [
    "from graphframes import *\n",
    "from pyspark.sql.types import *\n",
    "from pyspark.sql import functions as F"
   ]
  },
  {
   "cell_type": "code",
   "execution_count": 39,
   "metadata": {},
   "outputs": [],
   "source": [
    "import matplotlib\n",
    "import matplotlib.pyplot as plt\n",
    "plt.style.use('fivethirtyeight')"
   ]
  },
  {
   "cell_type": "code",
   "execution_count": 40,
   "metadata": {},
   "outputs": [],
   "source": [
    "from pyspark.sql import SparkSession\n",
    "spark = SparkSession.builder.appName('baza').getOrCreate()"
   ]
  },
  {
   "cell_type": "code",
   "execution_count": 41,
   "metadata": {},
   "outputs": [],
   "source": [
    "nodes = spark.read.csv(\"/home/spark/lab04/task4/airports.csv\", header=False)"
   ]
  },
  {
   "cell_type": "code",
   "execution_count": 42,
   "metadata": {},
   "outputs": [
    {
     "data": {
      "text/plain": [
       "['_c0',\n",
       " '_c1',\n",
       " '_c2',\n",
       " '_c3',\n",
       " '_c4',\n",
       " '_c5',\n",
       " '_c6',\n",
       " '_c7',\n",
       " '_c8',\n",
       " '_c9',\n",
       " '_c10',\n",
       " '_c11',\n",
       " '_c12',\n",
       " '_c13']"
      ]
     },
     "execution_count": 42,
     "metadata": {},
     "output_type": "execute_result"
    }
   ],
   "source": [
    "nodes.columns"
   ]
  },
  {
   "cell_type": "code",
   "execution_count": 43,
   "metadata": {},
   "outputs": [],
   "source": [
    "cleaned_nodes = (nodes.select(\"_c1\", \"_c3\", \"_c4\", \"_c6\", \"_c7\")\n",
    "                 .filter(\"_c3 = 'United States'\")\n",
    "                 .withColumnRenamed(\"_c1\", \"name\")\n",
    "                 .withColumnRenamed(\"_c4\", \"id\")\n",
    "                 .withColumnRenamed(\"_c6\", \"latitude\")\n",
    "                 .withColumnRenamed(\"_c7\", \"longitude\")\n",
    "                 .drop(\"_c3\"))"
   ]
  },
  {
   "cell_type": "code",
   "execution_count": 44,
   "metadata": {},
   "outputs": [],
   "source": [
    "cleaned_nodes = cleaned_nodes[cleaned_nodes[\"id\"] != \"\\\\N\"]"
   ]
  },
  {
   "cell_type": "code",
   "execution_count": 45,
   "metadata": {},
   "outputs": [],
   "source": [
    "relationships = spark.read.csv(\"/home/spark/lab04/task4/188591317_T_ONTIME.csv\", header=True)"
   ]
  },
  {
   "cell_type": "code",
   "execution_count": 46,
   "metadata": {},
   "outputs": [],
   "source": [
    "\n",
    "cleaned_relationships = (relationships\n",
    "                         .select(\"ORIGIN\", \"DEST\", \"FL_DATE\", \"DEP_DELAY\", \"ARR_DELAY\",\n",
    "                                 \"DISTANCE\", \"TAIL_NUM\", \"FL_NUM\", \"CRS_DEP_TIME\",\n",
    "                                 \"CRS_ARR_TIME\", \"UNIQUE_CARRIER\")\n",
    "                         .withColumnRenamed(\"ORIGIN\", \"src\")\n",
    "                         .withColumnRenamed(\"DEST\", \"dst\")\n",
    "                         .withColumnRenamed(\"DEP_DELAY\", \"deptDelay\")\n",
    "                         .withColumnRenamed(\"ARR_DELAY\", \"arrDelay\")\n",
    "                         .withColumnRenamed(\"TAIL_NUM\", \"tailNumber\")\n",
    "                         .withColumnRenamed(\"FL_NUM\", \"flightNumber\")\n",
    "                         .withColumnRenamed(\"FL_DATE\", \"date\")\n",
    "                         .withColumnRenamed(\"CRS_DEP_TIME\", \"time\")\n",
    "                         .withColumnRenamed(\"CRS_ARR_TIME\", \"arrivalTime\")\n",
    "                         .withColumnRenamed(\"DISTANCE\", \"distance\")\n",
    "                         .withColumnRenamed(\"UNIQUE_CARRIER\", \"airline\")\n",
    "                         .withColumn(\"deptDelay\", F.col(\"deptDelay\").cast(FloatType()))\n",
    "                         .withColumn(\"arrDelay\", F.col(\"arrDelay\").cast(FloatType()))\n",
    "                         .withColumn(\"time\", F.col(\"time\").cast(IntegerType()))\n",
    "                         .withColumn(\"arrivalTime\", F.col(\"arrivalTime\").cast(IntegerType()))\n",
    "                         )"
   ]
  },
  {
   "cell_type": "code",
   "execution_count": 47,
   "metadata": {},
   "outputs": [],
   "source": [
    "g = GraphFrame(cleaned_nodes, cleaned_relationships)"
   ]
  },
  {
   "cell_type": "code",
   "execution_count": 48,
   "metadata": {},
   "outputs": [],
   "source": [
    "airlines_reference = (spark.read.csv(\"/home/spark/lab04/task4/airlines.csv\")\n",
    "      .select(\"_c1\", \"_c3\")\n",
    "      .withColumnRenamed(\"_c1\", \"name\")\n",
    "      .withColumnRenamed(\"_c3\", \"code\"))"
   ]
  },
  {
   "cell_type": "code",
   "execution_count": 49,
   "metadata": {},
   "outputs": [],
   "source": [
    "airlines_reference = airlines_reference[airlines_reference[\"code\"] != \"null\"]"
   ]
  },
  {
   "cell_type": "code",
   "execution_count": 50,
   "metadata": {},
   "outputs": [],
   "source": [
    "df = spark.read.option(\"multiline\", \"true\").json(\"/home/spark/lab04/task4/airlines.json\")\n",
    "dummyDf = spark.createDataFrame([(\"test\", \"test\")], [\"code\", \"name\"])"
   ]
  },
  {
   "cell_type": "code",
   "execution_count": 51,
   "metadata": {},
   "outputs": [],
   "source": [
    "for code in df.schema.fieldNames():\n",
    "    tempDf = (df.withColumn(\"code\", F.lit(code))\n",
    "              .withColumn(\"name\", df[code]))\n",
    "    tdf = tempDf.select(\"code\", \"name\")\n",
    "    dummyDf = dummyDf.union(tdf)"
   ]
  },
  {
   "cell_type": "code",
   "execution_count": 52,
   "metadata": {},
   "outputs": [
    {
     "data": {
      "text/plain": [
       "1333"
      ]
     },
     "execution_count": 52,
     "metadata": {},
     "output_type": "execute_result"
    }
   ],
   "source": [
    "g.vertices.count()"
   ]
  },
  {
   "cell_type": "code",
   "execution_count": 53,
   "metadata": {},
   "outputs": [
    {
     "data": {
      "text/plain": [
       "616529"
      ]
     },
     "execution_count": 53,
     "metadata": {},
     "output_type": "execute_result"
    }
   ],
   "source": [
    "g.edges.count()"
   ]
  },
  {
   "cell_type": "code",
   "execution_count": 54,
   "metadata": {},
   "outputs": [
    {
     "name": "stdout",
     "output_type": "stream",
     "text": [
      "+--------------+\n",
      "|max(deptDelay)|\n",
      "+--------------+\n",
      "|        1632.0|\n",
      "+--------------+\n",
      "\n"
     ]
    }
   ],
   "source": [
    "g.edges.groupBy().max(\"deptDelay\").show()"
   ]
  },
  {
   "cell_type": "code",
   "execution_count": 55,
   "metadata": {},
   "outputs": [],
   "source": [
    "airports_degree = g.outDegrees.withColumnRenamed(\"id\", \"oId\")"
   ]
  },
  {
   "cell_type": "code",
   "execution_count": 56,
   "metadata": {},
   "outputs": [],
   "source": [
    "full_airports_degree = (airports_degree\n",
    "                        .join(g.vertices, airports_degree.oId == g.vertices.id)\n",
    "                        .sort(\"outDegree\", ascending=False)\n",
    "                        .select(\"id\", \"name\", \"outDegree\"))"
   ]
  },
  {
   "cell_type": "code",
   "execution_count": 57,
   "metadata": {},
   "outputs": [
    {
     "name": "stdout",
     "output_type": "stream",
     "text": [
      "+---+------------------------------------------------+---------+\n",
      "|id |name                                            |outDegree|\n",
      "+---+------------------------------------------------+---------+\n",
      "|ATL|Hartsfield Jackson Atlanta International Airport|33837    |\n",
      "|ORD|Chicago O'Hare International Airport            |28338    |\n",
      "|DFW|Dallas Fort Worth International Airport         |23765    |\n",
      "|CLT|Charlotte Douglas International Airport         |20251    |\n",
      "|DEN|Denver International Airport                    |19836    |\n",
      "|LAX|Los Angeles International Airport               |19059    |\n",
      "|PHX|Phoenix Sky Harbor International Airport        |15103    |\n",
      "|SFO|San Francisco International Airport             |14934    |\n",
      "|LGA|La Guardia Airport                              |14709    |\n",
      "|IAH|George Bush Intercontinental Houston Airport    |14407    |\n",
      "+---+------------------------------------------------+---------+\n",
      "only showing top 10 rows\n",
      "\n"
     ]
    }
   ],
   "source": [
    "full_airports_degree.show(n=10, truncate=False)"
   ]
  },
  {
   "cell_type": "code",
   "execution_count": 58,
   "metadata": {},
   "outputs": [
    {
     "data": {
      "image/png": "[encoded data removed]",
      "text/plain": [
       "<Figure size 432x288 with 1 Axes>"
      ]
     },
     "metadata": {},
     "output_type": "display_data"
    }
   ],
   "source": [
    "plt.style.use('fivethirtyeight')\n",
    "\n",
    "ax = (full_airports_degree\n",
    "      .toPandas()\n",
    "      .head(10)\n",
    "      .plot(kind='bar', x='id', y='outDegree', legend=None))\n",
    "\n",
    "ax.xaxis.set_label_text(\"\")\n",
    "plt.xticks(rotation=45)\n",
    "plt.tight_layout()\n",
    "plt.show()"
   ]
  },
  {
   "cell_type": "code",
   "execution_count": 59,
   "metadata": {},
   "outputs": [],
   "source": [
    "delayed_flights = (g.edges\n",
    "                   .filter(\"src = 'ORD' and deptDelay > 0\")\n",
    "                   .groupBy(\"dst\")\n",
    "                   .agg(F.avg(\"deptDelay\"), F.count(\"deptDelay\"))\n",
    "                   .withColumn(\"averageDelay\", F.round(F.col(\"avg(deptDelay)\"), 2))\n",
    "                   .withColumn(\"numberOfDelays\", F.col(\"count(deptDelay)\")))"
   ]
  },
  {
   "cell_type": "code",
   "execution_count": 60,
   "metadata": {},
   "outputs": [
    {
     "name": "stdout",
     "output_type": "stream",
     "text": [
      "+---+-------------------------------------------+------------+--------------+\n",
      "|dst|name                                       |averageDelay|numberOfDelays|\n",
      "+---+-------------------------------------------+------------+--------------+\n",
      "|CKB|North Central West Virginia Airport        |145.08      |12            |\n",
      "|OGG|Kahului Airport                            |119.67      |9             |\n",
      "|MQT|Sawyer International Airport               |114.75      |12            |\n",
      "|MOB|Mobile Regional Airport                    |102.2       |10            |\n",
      "|TTN|Trenton Mercer Airport                     |101.18      |17            |\n",
      "|AVL|Asheville Regional Airport                 |98.5        |28            |\n",
      "|ISP|Long Island Mac Arthur Airport             |94.08       |13            |\n",
      "|ANC|Ted Stevens Anchorage International Airport|83.74       |23            |\n",
      "|BTV|Burlington International Airport           |83.2        |25            |\n",
      "|CMX|Houghton County Memorial Airport           |79.18       |17            |\n",
      "+---+-------------------------------------------+------------+--------------+\n",
      "only showing top 10 rows\n",
      "\n"
     ]
    }
   ],
   "source": [
    "(delayed_flights\n",
    " .join(g.vertices, delayed_flights.dst == g.vertices.id)\n",
    " .sort(F.desc(\"averageDelay\"))\n",
    " .select(\"dst\", \"name\", \"averageDelay\", \"numberOfDelays\")\n",
    " .show(n=10, truncate=False))"
   ]
  },
  {
   "cell_type": "code",
   "execution_count": 61,
   "metadata": {},
   "outputs": [],
   "source": [
    "from_expr = 'id = \"ORD\"'\n",
    "to_expr = 'id = \"CKB\"'\n",
    "ord_to_ckb = g.bfs(from_expr, to_expr)"
   ]
  },
  {
   "cell_type": "code",
   "execution_count": 62,
   "metadata": {},
   "outputs": [],
   "source": [
    "ord_to_ckb = ord_to_ckb.select(\n",
    "  F.col(\"e0.date\"),\n",
    "  F.col(\"e0.time\"),\n",
    "  F.col(\"e0.flightNumber\"),\n",
    "  F.col(\"e0.deptDelay\"))"
   ]
  },
  {
   "cell_type": "code",
   "execution_count": 63,
   "metadata": {},
   "outputs": [
    {
     "data": {
      "image/png": "[encoded data removed]",
      "text/plain": [
       "<Figure size 432x288 with 1 Axes>"
      ]
     },
     "metadata": {},
     "output_type": "display_data"
    }
   ],
   "source": [
    "ax = (ord_to_ckb\n",
    "      .sort(\"date\")\n",
    "      .toPandas()\n",
    "      .plot(kind='bar', x='date', y='deptDelay', legend=None))\n",
    "\n",
    "ax.xaxis.set_label_text(\"\")\n",
    "plt.tight_layout()\n",
    "plt.show()"
   ]
  },
  {
   "cell_type": "code",
   "execution_count": 64,
   "metadata": {},
   "outputs": [],
   "source": [
    "motifs = (g.find(\"(a)-[ab]->(b); (b)-[bc]->(c)\")\n",
    "          .filter(\"\"\"(b.id = 'SFO') and\n",
    "                  (ab.date = '2018-05-11' and bc.date = '2018-05-11') and\n",
    "                  (ab.arrDelay > 30 or bc.deptDelay > 30) and\n",
    "                  (ab.flightNumber = bc.flightNumber) and\n",
    "                  (ab.airline = bc.airline) and\n",
    "                  (ab.time < bc.time)\"\"\"))"
   ]
  },
  {
   "cell_type": "code",
   "execution_count": 65,
   "metadata": {},
   "outputs": [],
   "source": [
    "def sum_dist(dist1, dist2):\n",
    "    return sum([value for value in [dist1, dist2] if value is not None])"
   ]
  },
  {
   "cell_type": "code",
   "execution_count": 66,
   "metadata": {},
   "outputs": [],
   "source": [
    "sum_dist_udf = F.udf(sum_dist, FloatType())\n"
   ]
  },
  {
   "cell_type": "code",
   "execution_count": 67,
   "metadata": {},
   "outputs": [],
   "source": [
    "result = (motifs.withColumn(\"delta\", motifs.bc.deptDelay - motifs.ab.arrDelay)\n",
    "          .select(\"ab\", \"bc\", \"delta\")\n",
    "          .sort(\"delta\", ascending=False))"
   ]
  },
  {
   "cell_type": "code",
   "execution_count": 68,
   "metadata": {},
   "outputs": [
    {
     "name": "stdout",
     "output_type": "stream",
     "text": [
      "+---+----------+--------+---+----------+---------+---+-------+------------+-----+\n",
      "| a1|a1DeptTime|arrDelay| a2|a2DeptTime|deptDelay| a3|airline|flightNumber|delta|\n",
      "+---+----------+--------+---+----------+---------+---+-------+------------+-----+\n",
      "|PDX|      1130|   -18.0|SFO|      1350|    178.0|BUR|     WN|        1454|196.0|\n",
      "|ACV|      1755|    -9.0|SFO|      2235|     64.0|RDM|     OO|        5700| 73.0|\n",
      "|BWI|       700|    -3.0|SFO|      1125|     49.0|IAD|     UA|         753| 52.0|\n",
      "|ATL|       740|    40.0|SFO|      1110|     77.0|SAN|     UA|        1900| 37.0|\n",
      "|BUR|      1405|    25.0|SFO|      1600|     39.0|PDX|     WN|         157| 14.0|\n",
      "|DTW|       835|    34.0|SFO|      1135|     44.0|DTW|     DL|         745| 10.0|\n",
      "|DEN|      1830|    25.0|SFO|      2045|     33.0|BUR|     WN|        1783|  8.0|\n",
      "|PDX|      1855|   119.0|SFO|      2120|    117.0|DEN|     WN|        5789| -2.0|\n",
      "|BUR|      2025|    31.0|SFO|      2230|     11.0|PHX|     WN|        1585|-20.0|\n",
      "+---+----------+--------+---+----------+---------+---+-------+------------+-----+\n",
      "\n"
     ]
    }
   ],
   "source": [
    "result.select(\n",
    "    F.col(\"ab.src\").alias(\"a1\"),\n",
    "    F.col(\"ab.time\").alias(\"a1DeptTime\"),\n",
    "    F.col(\"ab.arrDelay\"),\n",
    "    F.col(\"ab.dst\").alias(\"a2\"),\n",
    "    F.col(\"bc.time\").alias(\"a2DeptTime\"),\n",
    "    F.col(\"bc.deptDelay\"),\n",
    "    F.col(\"bc.dst\").alias(\"a3\"),\n",
    "    F.col(\"ab.airline\"),\n",
    "    F.col(\"ab.flightNumber\"),\n",
    "    F.col(\"delta\")\n",
    ").show()"
   ]
  },
  {
   "cell_type": "code",
   "execution_count": 69,
   "metadata": {},
   "outputs": [
    {
     "name": "stdout",
     "output_type": "stream",
     "text": [
      "+------------------------------------------------------------+---+------------------+-------------------+--------+\n",
      "|name                                                        |id |latitude          |longitude          |pagerank|\n",
      "+------------------------------------------------------------+---+------------------+-------------------+--------+\n",
      "|Hartsfield Jackson Atlanta International Airport            |ATL|33.63669967651367 |-84.4281005859375  |45.17   |\n",
      "|Chicago O'Hare International Airport                        |ORD|41.97859955       |-87.90480042       |40.35   |\n",
      "|Dallas Fort Worth International Airport                     |DFW|32.89680099487305 |-97.03800201416016 |37.18   |\n",
      "|Denver International Airport                                |DEN|39.861698150635   |-104.672996521     |28.93   |\n",
      "|Charlotte Douglas International Airport                     |CLT|35.2140007019043  |-80.94309997558594 |27.65   |\n",
      "|Los Angeles International Airport                           |LAX|33.94250107       |-118.4079971       |22.29   |\n",
      "|Minneapolis-St Paul International/Wold-Chamberlain Airport  |MSP|44.881999969499994|-93.22180175780001 |22.0    |\n",
      "|Detroit Metropolitan Wayne County Airport                   |DTW|42.212398529052734|-83.35340118408203 |20.42   |\n",
      "|Phoenix Sky Harbor International Airport                    |PHX|33.43429946899414 |-112.01200103759766|19.09   |\n",
      "|George Bush Intercontinental Houston Airport                |IAH|29.984399795532227|-95.34140014648438 |19.03   |\n",
      "|San Francisco International Airport                         |SFO|37.61899948120117 |-122.375           |18.87   |\n",
      "|McCarran International Airport                              |LAS|36.08010101       |-115.1520004       |17.23   |\n",
      "|Seattle Tacoma International Airport                        |SEA|47.44900131225586 |-122.30899810791016|17.18   |\n",
      "|La Guardia Airport                                          |LGA|40.77719879       |-73.87259674       |17.1    |\n",
      "|Salt Lake City International Airport                        |SLC|40.78839874267578 |-111.97799682617188|16.24   |\n",
      "|General Edward Lawrence Logan International Airport         |BOS|42.36429977       |-71.00520325       |14.61   |\n",
      "|Newark Liberty International Airport                        |EWR|40.692501068115234|-74.168701171875   |14.43   |\n",
      "|John F Kennedy International Airport                        |JFK|40.63980103       |-73.77890015       |13.35   |\n",
      "|Orlando International Airport                               |MCO|28.429399490356445|-81.30899810791016 |13.16   |\n",
      "|Ronald Reagan Washington National Airport                   |DCA|38.8521           |-77.037697         |12.96   |\n",
      "|Philadelphia International Airport                          |PHL|39.87189865112305 |-75.24109649658203 |12.4    |\n",
      "|Baltimore/Washington International Thurgood Marshall Airport|BWI|39.17539978       |-76.66829681       |10.88   |\n",
      "|Fort Lauderdale Hollywood International Airport             |FLL|26.072599411010742|-80.15270233154297 |9.52    |\n",
      "|San Diego International Airport                             |SAN|32.7336006165     |-117.190002441     |9.05    |\n",
      "|Chicago Midway International Airport                        |MDW|41.7859992980957  |-87.75240325927734 |8.76    |\n",
      "|Miami International Airport                                 |MIA|25.79319953918457 |-80.29060363769531 |8.28    |\n",
      "|Washington Dulles International Airport                     |IAD|38.94449997       |-77.45580292       |7.35    |\n",
      "|Nashville International Airport                             |BNA|36.1245002746582  |-86.6781997680664  |7.26    |\n",
      "|Tampa International Airport                                 |TPA|27.975500106811523|-82.533203125      |7.23    |\n",
      "|Dallas Love Field                                           |DAL|32.84709930419922 |-96.85179901123047 |7.09    |\n",
      "|Lambert St Louis International Airport                      |STL|38.74869918823242 |-90.37000274658203 |6.74    |\n",
      "|Austin Bergstrom International Airport                      |AUS|30.194499969482422|-97.6698989868164  |6.68    |\n",
      "|Portland International Airport                              |PDX|45.58869934       |-122.5979996       |6.58    |\n",
      "|Raleigh Durham International Airport                        |RDU|35.877601623535156|-78.7874984741211  |6.25    |\n",
      "|Ted Stevens Anchorage International Airport                 |ANC|61.174400329589844|-149.99600219726562|6.03    |\n",
      "|William P Hobby Airport                                     |HOU|29.64539909       |-95.27890015       |5.9     |\n",
      "|Kansas City International Airport                           |MCI|39.2976           |-94.713898         |5.84    |\n",
      "|Louis Armstrong New Orleans International Airport           |MSY|29.99340057373047 |-90.25800323486328 |5.83    |\n",
      "|Norman Y. Mineta San Jose International Airport             |SJC|37.36259841918945 |-121.92900085449219|5.68    |\n",
      "|Cincinnati Northern Kentucky International Airport          |CVG|39.0488014221     |-84.6678009033     |5.55    |\n",
      "|Metropolitan Oakland International Airport                  |OAK|37.72129821777344 |-122.22100067138672|5.48    |\n",
      "|Honolulu International Airport                              |HNL|21.318700790405273|-157.9219970703125 |5.37    |\n",
      "|Indianapolis International Airport                          |IND|39.7173           |-86.294403         |5.29    |\n",
      "|Pittsburgh International Airport                            |PIT|40.49150085       |-80.23290253       |5.11    |\n",
      "|Cleveland Hopkins International Airport                     |CLE|41.4117012024     |-81.8498001099     |4.99    |\n",
      "|Sacramento International Airport                            |SMF|38.69540023803711 |-121.59100341796875|4.98    |\n",
      "|Port Columbus International Airport                         |CMH|39.99800109863281 |-82.89189910888672 |4.57    |\n",
      "|John Wayne Airport-Orange County Airport                    |SNA|33.67570114       |-117.8679962       |4.48    |\n",
      "|San Antonio International Airport                           |SAT|29.533700942993164|-98.46980285644531 |4.09    |\n",
      "|General Mitchell International Airport                      |MKE|42.947200775146484|-87.89659881591797 |3.63    |\n",
      "|Jacksonville International Airport                          |JAX|30.49410057067871 |-81.68789672851562 |3.51    |\n",
      "|Orlando Sanford International Airport                       |SFB|28.777599334716797|-81.23750305175781 |3.18    |\n",
      "|Bradley International Airport                               |BDL|41.9388999939     |-72.68319702149999 |3.04    |\n",
      "|Eppley Airfield                                             |OMA|41.303199768066406|-95.89409637451172 |2.99    |\n",
      "|Southwest Florida International Airport                     |RSW|26.53619956970215 |-81.75520324707031 |2.96    |\n",
      "|Bob Hope Airport                                            |BUR|34.20069885253906 |-118.35900115966797|2.91    |\n",
      "|Charleston Air Force Base-International Airport             |CHS|32.89860153       |-80.04049683       |2.82    |\n",
      "|Buffalo Niagara International Airport                       |BUF|42.94049835       |-78.73220062       |2.82    |\n",
      "|Kahului Airport                                             |OGG|20.89859962463379 |-156.42999267578125|2.8     |\n",
      "|Will Rogers World Airport                                   |OKC|35.39310073852539 |-97.60070037841797 |2.8     |\n",
      "|Memphis International Airport                               |MEM|35.04240036010742 |-89.97669982910156 |2.76    |\n",
      "|Palm Beach International Airport                            |PBI|26.68320083618164 |-80.09559631347656 |2.75    |\n",
      "|Albuquerque International Sunport Airport                   |ABQ|35.040199279785156|-106.60900115966797|2.74    |\n",
      "|Louisville International Standiford Field                   |SDF|38.1744           |-85.736            |2.74    |\n",
      "|Richmond International Airport                              |RIC|37.50519943237305 |-77.3197021484375  |2.62    |\n",
      "|Norfolk International Airport                               |ORF|36.89459991455078 |-76.20120239257812 |2.6     |\n",
      "|Ontario International Airport                               |ONT|34.055999755859375|-117.60099792480469|2.49    |\n",
      "|Phoenix-Mesa-Gateway Airport                                |AZA|33.30780029       |-111.6549988       |2.47    |\n",
      "|Boise Air Terminal/Gowen field                              |BOI|43.56439972       |-116.2229996       |2.4     |\n",
      "|St Petersburg Clearwater International Airport              |PIE|27.91020012       |-82.68740082       |2.37    |\n",
      "|Juneau International Airport                                |JNU|58.35499954223633 |-134.5760040283203 |2.29    |\n",
      "|Tucson International Airport                                |TUS|32.1161003112793  |-110.94100189208984|2.25    |\n",
      "|Myrtle Beach International Airport                          |MYR|33.6796989441     |-78.9282989502     |2.23    |\n",
      "|Theodore Francis Green State Airport                        |PVD|41.732601165771484|-71.42040252685547 |2.2     |\n",
      "|McGhee Tyson Airport                                        |TYS|35.81100082       |-83.9940033        |2.18    |\n",
      "|Des Moines International Airport                            |DSM|41.534000396728516|-93.66310119628906 |2.17    |\n",
      "|Tulsa International Airport                                 |TUL|36.19839859008789 |-95.88809967041016 |2.16    |\n",
      "|El Paso International Airport                               |ELP|31.80719948       |-106.3779984       |2.16    |\n",
      "|Birmingham-Shuttlesworth International Airport              |BHM|33.56290054       |-86.75350189       |2.16    |\n",
      "|Reno Tahoe International Airport                            |RNO|39.49909973144531 |-119.76799774169922|2.12    |\n",
      "|Gerald R. Ford International Airport                        |GRR|42.88079834       |-85.52279663       |2.1     |\n",
      "|Long Beach /Daugherty Field/ Airport                        |LGB|33.81769943       |-118.1520004       |2.09    |\n",
      "|Savannah Hilton Head International Airport                  |SAV|32.12760162       |-81.20210266       |2.0     |\n",
      "|Bill & Hillary Clinton National Airport/Adams Field         |LIT|34.729400634799994|-92.2242965698     |1.83    |\n",
      "|James M Cox Dayton International Airport                    |DAY|39.902400970458984|-84.21939849853516 |1.83    |\n",
      "|Kona International At Keahole Airport                       |KOA|19.738800048828125|-156.04600524902344|1.82    |\n",
      "|Northwest Arkansas Regional Airport                         |XNA|36.281898         |-94.306801         |1.75    |\n",
      "|Dane County Regional Truax Field                            |MSN|43.13990020751953 |-89.3375015258789  |1.75    |\n",
      "|Greater Rochester International Airport                     |ROC|43.118900299072266|-77.67240142822266 |1.75    |\n",
      "|Syracuse Hancock International Airport                      |SYR|43.11119842529297 |-76.1063003540039  |1.74    |\n",
      "|Greenville Spartanburg International Airport                |GSP|34.8956985474     |-82.2189025879     |1.73    |\n",
      "|Lihue Airport                                               |LIH|21.97599983215332 |-159.33900451660156|1.72    |\n",
      "|Spokane International Airport                               |GEG|47.61989974975586 |-117.53399658203125|1.7     |\n",
      "|Piedmont Triad International Airport                        |GSO|36.097801208496094|-79.93730163574219 |1.68    |\n",
      "|Albany International Airport                                |ALB|42.74829864501953 |-73.80169677734375 |1.67    |\n",
      "|Fairbanks International Airport                             |FAI|64.81510162       |-147.8560028       |1.65    |\n",
      "|Pensacola Regional Airport                                  |PNS|30.473400115967   |-87.186599731445   |1.59    |\n",
      "|Blue Grass Airport                                          |LEX|38.0364990234375  |-84.60590362548828 |1.57    |\n",
      "|Fresno Yosemite International Airport                       |FAT|36.77619934082031 |-119.71800231933594|1.52    |\n",
      "|Charlotte County Airport                                    |PGD|26.92020035       |-81.9905014        |1.51    |\n",
      "+------------------------------------------------------------+---+------------------+-------------------+--------+\n",
      "only showing top 100 rows\n",
      "\n"
     ]
    }
   ],
   "source": [
    "result = g.pageRank(resetProbability=0.15, maxIter=20)\n",
    "(result.vertices\n",
    " .sort(\"pagerank\", ascending=False)\n",
    " .withColumn(\"pagerank\", F.round(F.col(\"pagerank\"), 2))\n",
    " .show(truncate=False, n=100))"
   ]
  },
  {
   "cell_type": "code",
   "execution_count": 70,
   "metadata": {},
   "outputs": [
    {
     "name": "stdout",
     "output_type": "stream",
     "text": [
      "+---+------------------------------------------------------------+--------+-----+\n",
      "|id |name                                                        |pagerank|count|\n",
      "+---+------------------------------------------------------------+--------+-----+\n",
      "|ATL|Hartsfield Jackson Atlanta International Airport            |45.17   |1783 |\n",
      "|DEN|Denver International Airport                                |28.93   |1706 |\n",
      "|ORD|Chicago O'Hare International Airport                        |40.35   |1669 |\n",
      "|CLT|Charlotte Douglas International Airport                     |27.65   |1595 |\n",
      "|DFW|Dallas Fort Worth International Airport                     |37.18   |1595 |\n",
      "|LAS|McCarran International Airport                              |17.23   |1448 |\n",
      "|MSP|Minneapolis-St Paul International/Wold-Chamberlain Airport  |22.0    |1412 |\n",
      "|DTW|Detroit Metropolitan Wayne County Airport                   |20.42   |1401 |\n",
      "|PHX|Phoenix Sky Harbor International Airport                    |19.09   |1333 |\n",
      "|IAH|George Bush Intercontinental Houston Airport                |19.03   |1266 |\n",
      "|DCA|Ronald Reagan Washington National Airport                   |12.96   |1194 |\n",
      "|EWR|Newark Liberty International Airport                        |14.43   |1191 |\n",
      "|LAX|Los Angeles International Airport                           |22.29   |1191 |\n",
      "|MCO|Orlando International Airport                               |13.16   |1172 |\n",
      "|PHL|Philadelphia International Airport                          |12.4    |1109 |\n",
      "|SEA|Seattle Tacoma International Airport                        |17.18   |1072 |\n",
      "|BWI|Baltimore/Washington International Thurgood Marshall Airport|10.88   |1065 |\n",
      "|BOS|General Edward Lawrence Logan International Airport         |14.61   |1061 |\n",
      "|AUS|Austin Bergstrom International Airport                      |6.68    |1056 |\n",
      "|FLL|Fort Lauderdale Hollywood International Airport             |9.52    |1025 |\n",
      "+---+------------------------------------------------------------+--------+-----+\n",
      "only showing top 20 rows\n",
      "\n"
     ]
    }
   ],
   "source": [
    "triangles = g.triangleCount().cache()\n",
    "pagerank = g.pageRank(resetProbability=0.15, maxIter=20).cache()\n",
    "\n",
    "(triangles.select(F.col(\"id\").alias(\"tId\"), \"count\")\n",
    " .join(pagerank.vertices, F.col(\"tId\") == F.col(\"id\"))\n",
    " .select(\"id\", \"name\", \"pagerank\", \"count\")\n",
    " .sort(\"count\", ascending=False)\n",
    " .withColumn(\"pagerank\", F.round(F.col(\"pagerank\"), 2))\n",
    " .show(truncate=False))"
   ]
  },
  {
   "cell_type": "code",
   "execution_count": 71,
   "metadata": {},
   "outputs": [],
   "source": [
    "airlines = (g.edges\n",
    "  .groupBy(\"airline\")\n",
    "  .agg(F.count(\"airline\").alias(\"flights\"))\n",
    "  .sort(\"flights\", ascending=False))\n",
    "full_name_airlines = (airlines_reference\n",
    "  .join(airlines, airlines.airline == airlines_reference.code)\n",
    "  .select(\"code\", \"name\", \"flights\"))"
   ]
  },
  {
   "cell_type": "code",
   "execution_count": 72,
   "metadata": {},
   "outputs": [
    {
     "data": {
      "image/png": "[encoded data removed]",
      "text/plain": [
       "<Figure size 432x288 with 1 Axes>"
      ]
     },
     "metadata": {},
     "output_type": "display_data"
    }
   ],
   "source": [
    "ax = (full_name_airlines.toPandas()\n",
    "  .plot(kind='bar', x='name', y='flights', legend=None))\n",
    "ax.xaxis.set_label_text(\"\")\n",
    "plt.tight_layout()\n",
    "plt.show()"
   ]
  },
  {
   "cell_type": "code",
   "execution_count": 73,
   "metadata": {},
   "outputs": [],
   "source": [
    "def find_scc_components(g, airline):\n",
    "   # Create a subgraph containing only flights on the provided airline\n",
    "   airline_relationships = g.edges[g.edges.airline == airline]\n",
    "   airline_graph = GraphFrame(g.vertices, airline_relationships)\n",
    "   # Calculate the Strongly Connected Components\n",
    "   scc = airline_graph.stronglyConnectedComponents(maxIter=10)\n",
    "   # Find the size of the biggest component and return that\n",
    "   return (scc\n",
    "     .groupBy(\"component\")\n",
    "     .agg(F.count(\"id\").alias(\"size\"))\n",
    "     .sort(\"size\", ascending=False)\n",
    "     .take(1)[0][\"size\"])"
   ]
  },
  {
   "cell_type": "code",
   "execution_count": 74,
   "metadata": {},
   "outputs": [],
   "source": [
    "# Calculate the largest strongly connected component for each airline\n",
    "airline_scc = [(airline, find_scc_components(g, airline))\n",
    "for airline in airlines.toPandas()[\"airline\"].tolist()]\n",
    "airline_scc_df = spark.createDataFrame(airline_scc, ['id', 'sccCount'])\n",
    "# Join the SCC DataFrame with the airlines DataFrame so that we can show\n",
    "# the number of flights an airline has alongside the number of\n",
    "# airports reachable in its biggest component\n",
    "airline_reach = (airline_scc_df\n",
    ".join(full_name_airlines, full_name_airlines.code == airline_scc_df.id)\n",
    ".select(\"code\", \"name\", \"flights\", \"sccCount\")\n",
    ".sort(\"sccCount\", ascending=False))"
   ]
  },
  {
   "cell_type": "code",
   "execution_count": 75,
   "metadata": {},
   "outputs": [
    {
     "data": {
      "image/png": "[encoded data removed]",
      "text/plain": [
       "<Figure size 432x288 with 1 Axes>"
      ]
     },
     "metadata": {},
     "output_type": "display_data"
    }
   ],
   "source": [
    "ax = (airline_reach.toPandas()\n",
    ".plot(kind='bar', x='name', y='sccCount', legend=None))\n",
    "ax.xaxis.set_label_text(\"\")\n",
    "plt.tight_layout()\n",
    "plt.show()"
   ]
  },
  {
   "cell_type": "code",
   "execution_count": 76,
   "metadata": {},
   "outputs": [
    {
     "name": "stdout",
     "output_type": "stream",
     "text": [
      "+-------------+----------------------------------------------------------------------+-----+\n",
      "|        label|                                                              airports|count|\n",
      "+-------------+----------------------------------------------------------------------+-----+\n",
      "|1606317768706|[IND, ORF, ATW, RIC, TRI, XNA, ECP, AVL, JAX, SYR, BHM, GSO, MEM, C...|   89|\n",
      "|1219770712067|[GEG, SLC, DTW, LAS, SEA, BOS, MSN, SNA, JFK, TVC, LIH, JAC, FLL, M...|   53|\n",
      "|  94489280515|                                                                 [KYK]|    1|\n",
      "|  94489280517|                                                                 [RIV]|    1|\n",
      "|  94489280516|                                                                 [LZZ]|    1|\n",
      "|  85899345920|                                                                 [ARA]|    1|\n",
      "|  94489280518|                                                                 [SDC]|    1|\n",
      "| 103079215104|                                                                 [CNW]|    1|\n",
      "| 103079215105|                                                                 [GMU]|    1|\n",
      "|  85899345921|                                                                 [EUG]|    1|\n",
      "+-------------+----------------------------------------------------------------------+-----+\n",
      "only showing top 10 rows\n",
      "\n"
     ]
    }
   ],
   "source": [
    "airline_relationships = g.edges.filter(\"airline = 'DL'\")\n",
    "airline_graph = GraphFrame(g.vertices, airline_relationships)\n",
    "\n",
    "clusters = airline_graph.labelPropagation(maxIter=10)\n",
    "(clusters\n",
    " .sort(\"label\")\n",
    " .groupby(\"label\")\n",
    " .agg(F.collect_list(\"id\").alias(\"airports\"),\n",
    "      F.count(\"id\").alias(\"count\"))\n",
    " .sort(\"count\", ascending=False)\n",
    " .show(truncate=70, n=10))"
   ]
  },
  {
   "cell_type": "code",
   "execution_count": 77,
   "metadata": {},
   "outputs": [],
   "source": [
    "all_flights = g.degrees.withColumnRenamed(\"id\", \"aId\")"
   ]
  },
  {
   "cell_type": "code",
   "execution_count": 78,
   "metadata": {},
   "outputs": [
    {
     "name": "stdout",
     "output_type": "stream",
     "text": [
      "+---+------------------------------------------------------------+------+\n",
      "|id |name                                                        |degree|\n",
      "+---+------------------------------------------------------------+------+\n",
      "|DFW|Dallas Fort Worth International Airport                     |47514 |\n",
      "|CLT|Charlotte Douglas International Airport                     |40495 |\n",
      "|IAH|George Bush Intercontinental Houston Airport                |28814 |\n",
      "|EWR|Newark Liberty International Airport                        |25131 |\n",
      "|PHL|Philadelphia International Airport                          |20804 |\n",
      "|BWI|Baltimore/Washington International Thurgood Marshall Airport|18989 |\n",
      "|MDW|Chicago Midway International Airport                        |15178 |\n",
      "|BNA|Nashville International Airport                             |12455 |\n",
      "|DAL|Dallas Love Field                                           |12084 |\n",
      "|IAD|Washington Dulles International Airport                     |11566 |\n",
      "|STL|Lambert St Louis International Airport                      |11439 |\n",
      "|HOU|William P Hobby Airport                                     |9742  |\n",
      "|IND|Indianapolis International Airport                          |8543  |\n",
      "|PIT|Pittsburgh International Airport                            |8410  |\n",
      "|CLE|Cleveland Hopkins International Airport                     |8238  |\n",
      "|CMH|Port Columbus International Airport                         |7640  |\n",
      "|SAT|San Antonio International Airport                           |6532  |\n",
      "|JAX|Jacksonville International Airport                          |5495  |\n",
      "|BDL|Bradley International Airport                               |4866  |\n",
      "|RSW|Southwest Florida International Airport                     |4569  |\n",
      "+---+------------------------------------------------------------+------+\n",
      "only showing top 20 rows\n",
      "\n"
     ]
    }
   ],
   "source": [
    "(clusters\n",
    ".filter(\"label=1606317768706\")\n",
    ".join(all_flights, all_flights.aId == clusters.id)\n",
    " .sort(\"degree\", ascending=False)\n",
    ".select(\"id\", \"name\", \"degree\")\n",
    ".show(truncate=False))"
   ]
  }
 ],
 "metadata": {
  "kernelspec": {
   "display_name": "Python 3",
   "language": "python",
   "name": "python3"
  },
  "language_info": {
   "codemirror_mode": {
    "name": "ipython",
    "version": 3
   },
   "file_extension": ".py",
   "mimetype": "text/x-python",
   "name": "python",
   "nbconvert_exporter": "python",
   "pygments_lexer": "ipython3",
   "version": "3.8.0"
  }
 },
 "nbformat": 4,
 "nbformat_minor": 4
}
