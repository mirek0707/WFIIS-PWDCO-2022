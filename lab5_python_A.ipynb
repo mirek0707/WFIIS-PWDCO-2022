{
 "cells": [
  {
   "cell_type": "code",
   "execution_count": 1,
   "metadata": {},
   "outputs": [],
   "source": [
    "import findspark\n",
    "findspark.init()"
   ]
  },
  {
   "cell_type": "code",
   "execution_count": 2,
   "metadata": {},
   "outputs": [],
   "source": [
    "from graphframes import *\n",
    "from pyspark.sql.types import *\n",
    "from pyspark.sql import functions as F"
   ]
  },
  {
   "cell_type": "code",
   "execution_count": 3,
   "metadata": {},
   "outputs": [],
   "source": [
    "import matplotlib\n",
    "import matplotlib.pyplot as plt\n",
    "plt.style.use('fivethirtyeight')"
   ]
  },
  {
   "cell_type": "code",
   "execution_count": 4,
   "metadata": {},
   "outputs": [],
   "source": [
    "from pyspark.sql import SparkSession\n",
    "spark = SparkSession.builder.appName('baza').getOrCreate()"
   ]
  },
  {
   "cell_type": "code",
   "execution_count": 5,
   "metadata": {},
   "outputs": [],
   "source": [
    "nodes = spark.read.csv(\"/home/spark/lab04/task4/airports.csv\", header=False)"
   ]
  },
  {
   "cell_type": "code",
   "execution_count": 6,
   "metadata": {},
   "outputs": [
    {
     "data": {
      "text/plain": [
       "['_c0',\n",
       " '_c1',\n",
       " '_c2',\n",
       " '_c3',\n",
       " '_c4',\n",
       " '_c5',\n",
       " '_c6',\n",
       " '_c7',\n",
       " '_c8',\n",
       " '_c9',\n",
       " '_c10',\n",
       " '_c11',\n",
       " '_c12',\n",
       " '_c13']"
      ]
     },
     "execution_count": 6,
     "metadata": {},
     "output_type": "execute_result"
    }
   ],
   "source": [
    "nodes.columns"
   ]
  },
  {
   "cell_type": "code",
   "execution_count": 7,
   "metadata": {},
   "outputs": [],
   "source": [
    "cleaned_nodes = (nodes.select(\"_c1\", \"_c3\", \"_c4\", \"_c6\", \"_c7\")\n",
    "                 .filter(\"_c3 = 'United States'\")\n",
    "                 .withColumnRenamed(\"_c1\", \"name\")\n",
    "                 .withColumnRenamed(\"_c4\", \"id\")\n",
    "                 .withColumnRenamed(\"_c6\", \"latitude\")\n",
    "                 .withColumnRenamed(\"_c7\", \"longitude\")\n",
    "                 .drop(\"_c3\"))"
   ]
  },
  {
   "cell_type": "code",
   "execution_count": 8,
   "metadata": {},
   "outputs": [],
   "source": [
    "cleaned_nodes = cleaned_nodes[cleaned_nodes[\"id\"] != \"\\\\N\"]"
   ]
  },
  {
   "cell_type": "code",
   "execution_count": 9,
   "metadata": {},
   "outputs": [],
   "source": [
    "relationships = spark.read.csv(\"/home/spark/lab04/task4/188591317_T_ONTIME.csv\", header=True)"
   ]
  },
  {
   "cell_type": "code",
   "execution_count": 10,
   "metadata": {},
   "outputs": [],
   "source": [
    "cleaned_relationships = (relationships\n",
    "                         .select(\"ORIGIN\", \"DEST\", \"FL_DATE\", \"DEP_DELAY\", \"ARR_DELAY\",\n",
    "                                 \"DISTANCE\", \"TAIL_NUM\", \"FL_NUM\", \"CRS_DEP_TIME\",\n",
    "                                 \"CRS_ARR_TIME\", \"UNIQUE_CARRIER\")\n",
    "                         .withColumnRenamed(\"ORIGIN\", \"src\")\n",
    "                         .withColumnRenamed(\"DEST\", \"dst\")\n",
    "                         .withColumnRenamed(\"DEP_DELAY\", \"deptDelay\")\n",
    "                         .withColumnRenamed(\"ARR_DELAY\", \"arrDelay\")\n",
    "                         .withColumnRenamed(\"TAIL_NUM\", \"tailNumber\")\n",
    "                         .withColumnRenamed(\"FL_NUM\", \"flightNumber\")\n",
    "                         .withColumnRenamed(\"FL_DATE\", \"date\")\n",
    "                         .withColumnRenamed(\"CRS_DEP_TIME\", \"time\")\n",
    "                         .withColumnRenamed(\"CRS_ARR_TIME\", \"arrivalTime\")\n",
    "                         .withColumnRenamed(\"DISTANCE\", \"distance\")\n",
    "                         .withColumnRenamed(\"UNIQUE_CARRIER\", \"airline\")\n",
    "                         .withColumn(\"deptDelay\", F.col(\"deptDelay\").cast(FloatType()))\n",
    "                         .withColumn(\"arrDelay\", F.col(\"arrDelay\").cast(FloatType()))\n",
    "                         .withColumn(\"time\", F.col(\"time\").cast(IntegerType()))\n",
    "                         .withColumn(\"arrivalTime\", F.col(\"arrivalTime\").cast(IntegerType()))\n",
    "                         )"
   ]
  },
  {
   "cell_type": "code",
   "execution_count": 11,
   "metadata": {},
   "outputs": [],
   "source": [
    "g = GraphFrame(cleaned_nodes, cleaned_relationships)"
   ]
  },
  {
   "cell_type": "code",
   "execution_count": 12,
   "metadata": {},
   "outputs": [],
   "source": [
    "airlines_reference = (spark.read.csv(\"/home/spark/lab04/task4/airlines.csv\")\n",
    "      .select(\"_c1\", \"_c3\")\n",
    "      .withColumnRenamed(\"_c1\", \"name\")\n",
    "      .withColumnRenamed(\"_c3\", \"code\"))"
   ]
  },
  {
   "cell_type": "code",
   "execution_count": 13,
   "metadata": {},
   "outputs": [],
   "source": [
    "airlines_reference = airlines_reference[airlines_reference[\"code\"] != \"null\"]"
   ]
  },
  {
   "cell_type": "code",
   "execution_count": 14,
   "metadata": {},
   "outputs": [],
   "source": [
    "df = spark.read.option(\"multiline\", \"true\").json(\"/home/spark/lab04/task4/airlines.json\")\n",
    "dummyDf = spark.createDataFrame([(\"test\", \"test\")], [\"code\", \"name\"])"
   ]
  },
  {
   "cell_type": "code",
   "execution_count": 16,
   "metadata": {},
   "outputs": [],
   "source": [
    "\n",
    "for code in df.schema.fieldNames():\n",
    "    tempDf = (df.withColumn(\"code\", F.lit(code))\n",
    "              .withColumn(\"name\", df[code]))\n",
    "    tdf = tempDf.select(\"code\", \"name\")\n",
    "    dummyDf = dummyDf.union(tdf)"
   ]
  },
  {
   "cell_type": "code",
   "execution_count": 17,
   "metadata": {},
   "outputs": [],
   "source": [
    "airlines = (g.edges\n",
    " .groupBy(\"airline\")\n",
    " .agg(F.count(\"airline\").alias(\"flights\"))\n",
    " .sort(\"flights\", ascending=False))\n",
    "\n",
    "full_name_airlines = (airlines_reference\n",
    "                      .join(airlines, airlines.airline == airlines_reference.code)\n",
    "                      .select(\"code\", \"name\", \"flights\"))"
   ]
  },
  {
   "cell_type": "code",
   "execution_count": 18,
   "metadata": {},
   "outputs": [
    {
     "data": {
      "image/png": "[encoded data removed]",
      "text/plain": [
       "<Figure size 432x288 with 1 Axes>"
      ]
     },
     "metadata": {},
     "output_type": "display_data"
    }
   ],
   "source": [
    "ax = (full_name_airlines.toPandas()\n",
    "      .plot(kind='bar', x='name', y='flights', legend=None))\n",
    "\n",
    "ax.xaxis.set_label_text(\"\")\n",
    "plt.tight_layout()\n",
    "plt.show()"
   ]
  },
  {
   "cell_type": "code",
   "execution_count": 19,
   "metadata": {},
   "outputs": [],
   "source": [
    "# podpunkt 7 pominiety"
   ]
  },
  {
   "cell_type": "code",
   "execution_count": 20,
   "metadata": {},
   "outputs": [],
   "source": [
    "airline_relationships = g.edges.filter(\"airline = 'DL'\")\n",
    "airline_graph = GraphFrame(g.vertices, airline_relationships)"
   ]
  },
  {
   "cell_type": "code",
   "execution_count": 21,
   "metadata": {},
   "outputs": [
    {
     "name": "stdout",
     "output_type": "stream",
     "text": [
      "+-------------+----------------------------------------------------------------------+-----+\n",
      "|        label|                                                              airports|count|\n",
      "+-------------+----------------------------------------------------------------------+-----+\n",
      "|1606317768706|[IND, ORF, ATW, RIC, TRI, XNA, ECP, AVL, JAX, SYR, BHM, GSO, MEM, C...|   89|\n",
      "|1219770712067|[GEG, SLC, DTW, LAS, SEA, BOS, MSN, SNA, JFK, TVC, LIH, JAC, FLL, M...|   53|\n",
      "| 146028888064|                                                                 [CXY]|    1|\n",
      "| 146028888066|                                                                 [RAC]|    1|\n",
      "| 146028888065|                                                                 [JOT]|    1|\n",
      "|   8589934592|                                                                 [4A7]|    1|\n",
      "| 146028888067|                                                                 [RCA]|    1|\n",
      "| 146028888068|                                                                 [RKD]|    1|\n",
      "| 146028888069|                                                                 [SBD]|    1|\n",
      "|   8589934593|                                                                 [AVX]|    1|\n",
      "+-------------+----------------------------------------------------------------------+-----+\n",
      "only showing top 10 rows\n",
      "\n"
     ]
    }
   ],
   "source": [
    " \n",
    "clusters = airline_graph.labelPropagation(maxIter=10)\n",
    "(clusters\n",
    "  .sort(\"label\")\n",
    "  .groupby(\"label\")\n",
    "  .agg(F.collect_list(\"id\").alias(\"airports\"),\n",
    "    F.count(\"id\").alias(\"count\"))\n",
    "  .sort(\"count\", ascending=False)\n",
    "  .show(truncate=70, n=10))"
   ]
  },
  {
   "cell_type": "code",
   "execution_count": 22,
   "metadata": {},
   "outputs": [],
   "source": [
    "from bokeh.sampledata import us_states\n",
    "from bokeh.plotting import *"
   ]
  },
  {
   "cell_type": "code",
   "execution_count": 23,
   "metadata": {},
   "outputs": [],
   "source": [
    "us_states = us_states.data.copy()"
   ]
  },
  {
   "cell_type": "code",
   "execution_count": 24,
   "metadata": {},
   "outputs": [],
   "source": [
    " \n",
    "del us_states[\"HI\"]\n",
    "del us_states[\"AK\"]\n",
    "# separate latitude and longitude points for the borders of the states.\n",
    "state_xs = [us_states[code][\"lons\"] for code in us_states]\n",
    "state_ys = [us_states[code][\"lats\"] for code in us_states]"
   ]
  },
  {
   "cell_type": "code",
   "execution_count": 25,
   "metadata": {},
   "outputs": [
    {
     "data": {
      "text/html": [
       "<div style=\"display: table;\"><div style=\"display: table-row;\"><div style=\"display: table-cell;\"><b title=\"bokeh.models.renderers.GlyphRenderer\">GlyphRenderer</b>(</div><div style=\"display: table-cell;\">id&nbsp;=&nbsp;'1042', <span id=\"1045\" style=\"cursor: pointer;\">&hellip;)</span></div></div><div class=\"1044\" style=\"display: none;\"><div style=\"display: table-cell;\"></div><div style=\"display: table-cell;\">data_source&nbsp;=&nbsp;ColumnDataSource(id='1039', ...),</div></div><div class=\"1044\" style=\"display: none;\"><div style=\"display: table-cell;\"></div><div style=\"display: table-cell;\">glyph&nbsp;=&nbsp;Circle(id='1040', ...),</div></div><div class=\"1044\" style=\"display: none;\"><div style=\"display: table-cell;\"></div><div style=\"display: table-cell;\">hover_glyph&nbsp;=&nbsp;None,</div></div><div class=\"1044\" style=\"display: none;\"><div style=\"display: table-cell;\"></div><div style=\"display: table-cell;\">js_event_callbacks&nbsp;=&nbsp;{},</div></div><div class=\"1044\" style=\"display: none;\"><div style=\"display: table-cell;\"></div><div style=\"display: table-cell;\">js_property_callbacks&nbsp;=&nbsp;{},</div></div><div class=\"1044\" style=\"display: none;\"><div style=\"display: table-cell;\"></div><div style=\"display: table-cell;\">level&nbsp;=&nbsp;'glyph',</div></div><div class=\"1044\" style=\"display: none;\"><div style=\"display: table-cell;\"></div><div style=\"display: table-cell;\">muted&nbsp;=&nbsp;False,</div></div><div class=\"1044\" style=\"display: none;\"><div style=\"display: table-cell;\"></div><div style=\"display: table-cell;\">muted_glyph&nbsp;=&nbsp;None,</div></div><div class=\"1044\" style=\"display: none;\"><div style=\"display: table-cell;\"></div><div style=\"display: table-cell;\">name&nbsp;=&nbsp;None,</div></div><div class=\"1044\" style=\"display: none;\"><div style=\"display: table-cell;\"></div><div style=\"display: table-cell;\">nonselection_glyph&nbsp;=&nbsp;Circle(id='1041', ...),</div></div><div class=\"1044\" style=\"display: none;\"><div style=\"display: table-cell;\"></div><div style=\"display: table-cell;\">selection_glyph&nbsp;=&nbsp;None,</div></div><div class=\"1044\" style=\"display: none;\"><div style=\"display: table-cell;\"></div><div style=\"display: table-cell;\">subscribed_events&nbsp;=&nbsp;[],</div></div><div class=\"1044\" style=\"display: none;\"><div style=\"display: table-cell;\"></div><div style=\"display: table-cell;\">tags&nbsp;=&nbsp;[],</div></div><div class=\"1044\" style=\"display: none;\"><div style=\"display: table-cell;\"></div><div style=\"display: table-cell;\">view&nbsp;=&nbsp;CDSView(id='1043', ...),</div></div><div class=\"1044\" style=\"display: none;\"><div style=\"display: table-cell;\"></div><div style=\"display: table-cell;\">visible&nbsp;=&nbsp;True,</div></div><div class=\"1044\" style=\"display: none;\"><div style=\"display: table-cell;\"></div><div style=\"display: table-cell;\">x_range_name&nbsp;=&nbsp;'default',</div></div><div class=\"1044\" style=\"display: none;\"><div style=\"display: table-cell;\"></div><div style=\"display: table-cell;\">y_range_name&nbsp;=&nbsp;'default')</div></div></div>\n",
       "<script>\n",
       "(function() {\n",
       "  var expanded = false;\n",
       "  var ellipsis = document.getElementById(\"1045\");\n",
       "  ellipsis.addEventListener(\"click\", function() {\n",
       "    var rows = document.getElementsByClassName(\"1044\");\n",
       "    for (var i = 0; i < rows.length; i++) {\n",
       "      var el = rows[i];\n",
       "      el.style.display = expanded ? \"none\" : \"table-row\";\n",
       "    }\n",
       "    ellipsis.innerHTML = expanded ? \"&hellip;)\" : \"&lsaquo;&lsaquo;&lsaquo;\";\n",
       "    expanded = !expanded;\n",
       "  });\n",
       "})();\n",
       "</script>\n"
      ],
      "text/plain": [
       "GlyphRenderer(id='1042', ...)"
      ]
     },
     "execution_count": 25,
     "metadata": {},
     "output_type": "execute_result"
    }
   ],
   "source": [
    "# init figure\n",
    "import csv\n",
    "p = figure(title=\"Prezentacja lotnisk dla klastra 1606317768706\",\n",
    "toolbar_location=\"left\", plot_width=1100, plot_height=700)\n",
    "# Draw state lines\n",
    "p.patches(state_xs, state_ys, fill_alpha=0.0, line_color=\"#884444\", line_width=1.5)\n",
    "x = []\n",
    "y = []\n",
    "with open(\"/home/spark/lab04/task4/latlongs-cluster1.csv\", \"r\") as latlongs_file:\n",
    "  reader = csv.reader(latlongs_file, delimiter=\",\")\n",
    "  for row in reader:\n",
    "    x.append(float(row[3]))\n",
    "    y.append(float(row[2]))\n",
    "    # The scatter markers\n",
    "p.circle(x, y, size=6, color='navy', alpha=1)"
   ]
  },
  {
   "cell_type": "code",
   "execution_count": 26,
   "metadata": {},
   "outputs": [],
   "source": [
    "output_file(\"cluster1.html\")\n",
    "# show results\n",
    "show(p)"
   ]
  },
  {
   "cell_type": "code",
   "execution_count": null,
   "metadata": {},
   "outputs": [],
   "source": []
  }
 ],
 "metadata": {
  "kernelspec": {
   "display_name": "Python 3",
   "language": "python",
   "name": "python3"
  },
  "language_info": {
   "codemirror_mode": {
    "name": "ipython",
    "version": 3
   },
   "file_extension": ".py",
   "mimetype": "text/x-python",
   "name": "python",
   "nbconvert_exporter": "python",
   "pygments_lexer": "ipython3",
   "version": "3.8.8"
  }
 },
 "nbformat": 4,
 "nbformat_minor": 4
}
