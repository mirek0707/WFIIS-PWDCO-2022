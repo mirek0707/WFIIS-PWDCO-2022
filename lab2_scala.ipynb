{
 "cells": [
  {
   "cell_type": "code",
   "execution_count": 1,
   "metadata": {},
   "outputs": [],
   "source": [
    "import org.apache.spark.sql._\n",
    "import org.apache.spark.sql.types.StructType\n",
    "import org.apache.spark.sql.types.{IntegerType, StringType, ArrayType}\n"
   ]
  },
  {
   "cell_type": "code",
   "execution_count": 2,
   "metadata": {},
   "outputs": [
    {
     "data": {
      "text/plain": [
       "arrayStructureData = List([[James,,Smith],List(Java, Scala, C++),OH,M], [[Anna,Rose,],List(Spark, Java, C++),NY,F], [[Julia,,Williams],List(CSharp, VB),OH,F], [[Maria,Anne,Jones],List(CSharp, VB),NY,M], [[Jen,Mary,Brown],List(CSharp, VB),NY,M], [[Mike,Mary,Williams],List(Python, VB),OH,M])\n"
      ]
     },
     "metadata": {},
     "output_type": "display_data"
    },
    {
     "data": {
      "text/plain": [
       "List([[James,,Smith],List(Java, Scala, C++),OH,M], [[Anna,Rose,],List(Spark, Java, C++),NY,F], [[Julia,,Williams],List(CSharp, VB),OH,F], [[Maria,Anne,Jones],List(CSharp, VB),NY,M], [[Jen,Mary,Brown],List(CSharp, VB),NY,M], [[Mike,Mary,Williams],List(Python, VB),OH,M])"
      ]
     },
     "execution_count": 2,
     "metadata": {},
     "output_type": "execute_result"
    }
   ],
   "source": [
    "val arrayStructureData = Seq(\n",
    "    Row(Row(\"James\",\"\",\"Smith\"),List(\"Java\",\"Scala\",\"C++\"),\"OH\",\"M\"),\n",
    "    Row(Row(\"Anna\",\"Rose\",\"\"),List(\"Spark\",\"Java\",\"C++\"),\"NY\",\"F\"),\n",
    "    Row(Row(\"Julia\",\"\",\"Williams\"),List(\"CSharp\",\"VB\"),\"OH\",\"F\"),\n",
    "    Row(Row(\"Maria\",\"Anne\",\"Jones\"),List(\"CSharp\",\"VB\"),\"NY\",\"M\"),\n",
    "    Row(Row(\"Jen\",\"Mary\",\"Brown\"),List(\"CSharp\",\"VB\"),\"NY\",\"M\"),\n",
    "    Row(Row(\"Mike\",\"Mary\",\"Williams\"),List(\"Python\",\"VB\"),\"OH\",\"M\")\n",
    ")"
   ]
  },
  {
   "cell_type": "code",
   "execution_count": 3,
   "metadata": {},
   "outputs": [
    {
     "data": {
      "text/plain": [
       "arrayStructureSchema = StructType(StructField(name,StructType(StructField(firstname,StringType,true), StructField(middlename,StringType,true), StructField(lastname,StringType,true)),true), StructField(languages,ArrayType(StringType,true),true), StructField(state,StringType,true), StructField(gender,StringType,true))\n"
      ]
     },
     "metadata": {},
     "output_type": "display_data"
    },
    {
     "data": {
      "text/plain": [
       "StructType(StructField(name,StructType(StructField(firstname,StringType,true), StructField(middlename,StringType,true), StructField(lastname,StringType,true)),true), StructField(languages,ArrayType(StringType,true),true), StructField(state,StringType,true), StructField(gender,StringType,true))"
      ]
     },
     "execution_count": 3,
     "metadata": {},
     "output_type": "execute_result"
    }
   ],
   "source": [
    "val arrayStructureSchema = new StructType(). \n",
    "    add(\"name\",new StructType().\n",
    "    add(\"firstname\",StringType).\n",
    "    add(\"middlename\",StringType).\n",
    "    add(\"lastname\",StringType)).\n",
    "    add(\"languages\", ArrayType(StringType)).\n",
    "    add(\"state\", StringType).\n",
    "    add(\"gender\", StringType)"
   ]
  },
  {
   "cell_type": "code",
   "execution_count": 4,
   "metadata": {},
   "outputs": [
    {
     "name": "stdout",
     "output_type": "stream",
     "text": [
      "root\n",
      " |-- name: struct (nullable = true)\n",
      " |    |-- firstname: string (nullable = true)\n",
      " |    |-- middlename: string (nullable = true)\n",
      " |    |-- lastname: string (nullable = true)\n",
      " |-- languages: array (nullable = true)\n",
      " |    |-- element: string (containsNull = true)\n",
      " |-- state: string (nullable = true)\n",
      " |-- gender: string (nullable = true)\n",
      "\n",
      "+--------------------+------------------+-----+------+\n",
      "|                name|         languages|state|gender|\n",
      "+--------------------+------------------+-----+------+\n",
      "|    [James, , Smith]|[Java, Scala, C++]|   OH|     M|\n",
      "|      [Anna, Rose, ]|[Spark, Java, C++]|   NY|     F|\n",
      "| [Julia, , Williams]|      [CSharp, VB]|   OH|     F|\n",
      "|[Maria, Anne, Jones]|      [CSharp, VB]|   NY|     M|\n",
      "|  [Jen, Mary, Brown]|      [CSharp, VB]|   NY|     M|\n",
      "|[Mike, Mary, Will...|      [Python, VB]|   OH|     M|\n",
      "+--------------------+------------------+-----+------+\n",
      "\n"
     ]
    },
    {
     "data": {
      "text/plain": [
       "df = [name: struct<firstname: string, middlename: string ... 1 more field>, languages: array<string> ... 2 more fields]\n"
      ]
     },
     "metadata": {},
     "output_type": "display_data"
    },
    {
     "data": {
      "text/plain": [
       "[name: struct<firstname: string, middlename: string ... 1 more field>, languages: array<string> ... 2 more fields]"
      ]
     },
     "execution_count": 4,
     "metadata": {},
     "output_type": "execute_result"
    }
   ],
   "source": [
    "val df = spark.createDataFrame(spark.sparkContext.parallelize(arrayStructureData),arrayStructureSchema)\n",
    "df.printSchema()\n",
    "df.show()"
   ]
  },
  {
   "cell_type": "code",
   "execution_count": 5,
   "metadata": {},
   "outputs": [
    {
     "name": "stdout",
     "output_type": "stream",
     "text": [
      "+----------------------+------------------+-----+------+\n",
      "|name                  |languages         |state|gender|\n",
      "+----------------------+------------------+-----+------+\n",
      "|[James, , Smith]      |[Java, Scala, C++]|OH   |M     |\n",
      "|[Julia, , Williams]   |[CSharp, VB]      |OH   |F     |\n",
      "|[Mike, Mary, Williams]|[Python, VB]      |OH   |M     |\n",
      "+----------------------+------------------+-----+------+\n",
      "\n",
      "+----------------------+------------------+-----+------+\n",
      "|name                  |languages         |state|gender|\n",
      "+----------------------+------------------+-----+------+\n",
      "|[James, , Smith]      |[Java, Scala, C++]|OH   |M     |\n",
      "|[Julia, , Williams]   |[CSharp, VB]      |OH   |F     |\n",
      "|[Mike, Mary, Williams]|[Python, VB]      |OH   |M     |\n",
      "+----------------------+------------------+-----+------+\n",
      "\n",
      "+----------------------+------------------+-----+------+\n",
      "|name                  |languages         |state|gender|\n",
      "+----------------------+------------------+-----+------+\n",
      "|[James, , Smith]      |[Java, Scala, C++]|OH   |M     |\n",
      "|[Julia, , Williams]   |[CSharp, VB]      |OH   |F     |\n",
      "|[Mike, Mary, Williams]|[Python, VB]      |OH   |M     |\n",
      "+----------------------+------------------+-----+------+\n",
      "\n",
      "+----------------------+------------------+-----+------+\n",
      "|name                  |languages         |state|gender|\n",
      "+----------------------+------------------+-----+------+\n",
      "|[James, , Smith]      |[Java, Scala, C++]|OH   |M     |\n",
      "|[Julia, , Williams]   |[CSharp, VB]      |OH   |F     |\n",
      "|[Mike, Mary, Williams]|[Python, VB]      |OH   |M     |\n",
      "+----------------------+------------------+-----+------+\n",
      "\n",
      "+----------------------+------------------+-----+------+\n",
      "|name                  |languages         |state|gender|\n",
      "+----------------------+------------------+-----+------+\n",
      "|[James, , Smith]      |[Java, Scala, C++]|OH   |M     |\n",
      "|[Julia, , Williams]   |[CSharp, VB]      |OH   |F     |\n",
      "|[Mike, Mary, Williams]|[Python, VB]      |OH   |M     |\n",
      "+----------------------+------------------+-----+------+\n",
      "\n",
      "+----------------------+------------------+-----+------+\n",
      "|name                  |languages         |state|gender|\n",
      "+----------------------+------------------+-----+------+\n",
      "|[James, , Smith]      |[Java, Scala, C++]|OH   |M     |\n",
      "|[Julia, , Williams]   |[CSharp, VB]      |OH   |F     |\n",
      "|[Mike, Mary, Williams]|[Python, VB]      |OH   |M     |\n",
      "+----------------------+------------------+-----+------+\n",
      "\n",
      "+----------------------+------------------+-----+------+\n",
      "|name                  |languages         |state|gender|\n",
      "+----------------------+------------------+-----+------+\n",
      "|[James, , Smith]      |[Java, Scala, C++]|OH   |M     |\n",
      "|[Julia, , Williams]   |[CSharp, VB]      |OH   |F     |\n",
      "|[Mike, Mary, Williams]|[Python, VB]      |OH   |M     |\n",
      "+----------------------+------------------+-----+------+\n",
      "\n",
      "+----------------------+------------------+-----+------+\n",
      "|name                  |languages         |state|gender|\n",
      "+----------------------+------------------+-----+------+\n",
      "|[James, , Smith]      |[Java, Scala, C++]|OH   |M     |\n",
      "|[Julia, , Williams]   |[CSharp, VB]      |OH   |F     |\n",
      "|[Mike, Mary, Williams]|[Python, VB]      |OH   |M     |\n",
      "+----------------------+------------------+-----+------+\n",
      "\n"
     ]
    }
   ],
   "source": [
    "df.filter(df(\"state\") === \"OH\").show(false)\n",
    "df.filter('state === \"OH\").show(false)\n",
    "df.filter($\"state\" === \"OH\").show(false)\n",
    "df.filter(df.col(\"state\") === \"OH\").show(false)\n",
    "df.where(df(\"state\") === \"OH\").show(false)\n",
    "df.where('state === \"OH\").show(false)\n",
    "df.where($\"state\" === \"OH\").show(false)\n",
    "df.where(df.col(\"state\") === \"OH\").show(false)"
   ]
  },
  {
   "cell_type": "code",
   "execution_count": 6,
   "metadata": {},
   "outputs": [
    {
     "name": "stdout",
     "output_type": "stream",
     "text": [
      "+----------------------+------------------+-----+------+\n",
      "|name                  |languages         |state|gender|\n",
      "+----------------------+------------------+-----+------+\n",
      "|[James, , Smith]      |[Java, Scala, C++]|OH   |M     |\n",
      "|[Maria, Anne, Jones]  |[CSharp, VB]      |NY   |M     |\n",
      "|[Jen, Mary, Brown]    |[CSharp, VB]      |NY   |M     |\n",
      "|[Mike, Mary, Williams]|[Python, VB]      |OH   |M     |\n",
      "+----------------------+------------------+-----+------+\n",
      "\n",
      "+----------------------+------------------+-----+------+\n",
      "|name                  |languages         |state|gender|\n",
      "+----------------------+------------------+-----+------+\n",
      "|[James, , Smith]      |[Java, Scala, C++]|OH   |M     |\n",
      "|[Maria, Anne, Jones]  |[CSharp, VB]      |NY   |M     |\n",
      "|[Jen, Mary, Brown]    |[CSharp, VB]      |NY   |M     |\n",
      "|[Mike, Mary, Williams]|[Python, VB]      |OH   |M     |\n",
      "+----------------------+------------------+-----+------+\n",
      "\n"
     ]
    }
   ],
   "source": [
    "df.filter(\"gender == 'M'\").show(false)\n",
    "df.where(\"gender == 'M'\").show(false)"
   ]
  },
  {
   "cell_type": "code",
   "execution_count": 7,
   "metadata": {},
   "outputs": [
    {
     "name": "stdout",
     "output_type": "stream",
     "text": [
      "+----------------------+------------------+-----+------+\n",
      "|name                  |languages         |state|gender|\n",
      "+----------------------+------------------+-----+------+\n",
      "|[James, , Smith]      |[Java, Scala, C++]|OH   |M     |\n",
      "|[Mike, Mary, Williams]|[Python, VB]      |OH   |M     |\n",
      "+----------------------+------------------+-----+------+\n",
      "\n",
      "+----------------------+------------------+-----+------+\n",
      "|name                  |languages         |state|gender|\n",
      "+----------------------+------------------+-----+------+\n",
      "|[James, , Smith]      |[Java, Scala, C++]|OH   |M     |\n",
      "|[Mike, Mary, Williams]|[Python, VB]      |OH   |M     |\n",
      "+----------------------+------------------+-----+------+\n",
      "\n"
     ]
    }
   ],
   "source": [
    "df.filter(df(\"state\") === \"OH\" && df(\"gender\") === \"M\").show(false)\n",
    "df.where(df(\"state\") === \"OH\" && df(\"gender\") === \"M\").show(false)"
   ]
  },
  {
   "cell_type": "code",
   "execution_count": 8,
   "metadata": {},
   "outputs": [
    {
     "name": "stdout",
     "output_type": "stream",
     "text": [
      "+----------------+------------------+-----+------+\n",
      "|name            |languages         |state|gender|\n",
      "+----------------+------------------+-----+------+\n",
      "|[James, , Smith]|[Java, Scala, C++]|OH   |M     |\n",
      "|[Anna, Rose, ]  |[Spark, Java, C++]|NY   |F     |\n",
      "+----------------+------------------+-----+------+\n",
      "\n",
      "+----------------------+------------+-----+------+\n",
      "|name                  |languages   |state|gender|\n",
      "+----------------------+------------+-----+------+\n",
      "|[Julia, , Williams]   |[CSharp, VB]|OH   |F     |\n",
      "|[Mike, Mary, Williams]|[Python, VB]|OH   |M     |\n",
      "+----------------------+------------+-----+------+\n",
      "\n"
     ]
    }
   ],
   "source": [
    "import org.apache.spark.sql.functions.array_contains\n",
    "df.filter(array_contains(df(\"languages\"),\"Java\")).show(false)\n",
    "df.filter(df(\"name.lastname\") === \"Williams\").show(false)"
   ]
  },
  {
   "cell_type": "code",
   "execution_count": 9,
   "metadata": {},
   "outputs": [
    {
     "name": "stdout",
     "output_type": "stream",
     "text": [
      "== Physical Plan ==\n",
      "*(1) Filter (isnotnull(name#4) AND (name#4.lastname = Williams))\n",
      "+- *(1) Scan ExistingRDD[name#4,languages#5,state#6,gender#7]\n",
      "\n",
      "\n",
      "== Physical Plan ==\n",
      "*(1) Filter array_contains(languages#5, Java)\n",
      "+- *(1) Scan ExistingRDD[name#4,languages#5,state#6,gender#7]\n",
      "\n",
      "\n",
      "== Physical Plan ==\n",
      "*(1) Filter (((isnotnull(state#6) AND isnotnull(gender#7)) AND (state#6 = OH)) AND (gender#7 = M))\n",
      "+- *(1) Scan ExistingRDD[name#4,languages#5,state#6,gender#7]\n",
      "\n",
      "\n"
     ]
    }
   ],
   "source": [
    "df.filter(df(\"name.lastname\") === \"Williams\").explain()\n",
    "df.filter(array_contains(df(\"languages\"),\"Java\")).explain()\n",
    "df.filter(df(\"state\") === \"OH\" && df(\"gender\") === \"M\").explain()"
   ]
  },
  {
   "cell_type": "code",
   "execution_count": 10,
   "metadata": {},
   "outputs": [],
   "source": [
    "import org.apache.spark.sql._\n",
    "import org.apache.spark.sql.types.StructType\n",
    "import org.apache.spark.sql.types.{IntegerType, StringType, ArrayType}\n",
    "import org.apache.spark.sql.SparkSession"
   ]
  },
  {
   "cell_type": "code",
   "execution_count": 11,
   "metadata": {},
   "outputs": [
    {
     "data": {
      "text/plain": [
       "session = org.apache.spark.sql.SparkSession@1a2e9027\n"
      ]
     },
     "metadata": {},
     "output_type": "display_data"
    },
    {
     "data": {
      "text/plain": [
       "org.apache.spark.sql.SparkSession@1a2e9027"
      ]
     },
     "execution_count": 11,
     "metadata": {},
     "output_type": "execute_result"
    }
   ],
   "source": [
    "val session = SparkSession.builder.config(\"spark.master\",\"local[1]\").getOrCreate\n"
   ]
  },
  {
   "cell_type": "code",
   "execution_count": 12,
   "metadata": {},
   "outputs": [
    {
     "data": {
      "text/plain": [
       "schema = StructType(StructField(fname,StringType,true), StructField(lname,StringType,true), StructField(courses,StringType,true), StructField(grade,IntegerType,true), StructField(year,IntegerType,true))\n"
      ]
     },
     "metadata": {},
     "output_type": "display_data"
    },
    {
     "data": {
      "text/plain": [
       "StructType(StructField(fname,StringType,true), StructField(lname,StringType,true), StructField(courses,StringType,true), StructField(grade,IntegerType,true), StructField(year,IntegerType,true))"
      ]
     },
     "execution_count": 12,
     "metadata": {},
     "output_type": "execute_result"
    }
   ],
   "source": [
    "val schema = new StructType().\n",
    "        add(\"fname\",StringType).\n",
    "        add(\"lname\",StringType).\n",
    "        add(\"courses\",StringType).\n",
    "        add(\"grade\",IntegerType).\n",
    "        add(\"year\",IntegerType)"
   ]
  },
  {
   "cell_type": "code",
   "execution_count": 13,
   "metadata": {},
   "outputs": [
    {
     "name": "stdout",
     "output_type": "stream",
     "text": [
      "root\n",
      " |-- fname: string (nullable = true)\n",
      " |-- lname: string (nullable = true)\n",
      " |-- courses: string (nullable = true)\n",
      " |-- grade: integer (nullable = true)\n",
      " |-- year: integer (nullable = true)\n",
      "\n",
      "+----------+-----------+-----------+-----+----+\n",
      "|     fname|      lname|    courses|grade|year|\n",
      "+----------+-----------+-----------+-----+----+\n",
      "|  Weronika|     Kapłon|     FIZYKA|    1|   5|\n",
      "|   Izabela|     Snażyk|INFORMATYKA|    1|   5|\n",
      "|       Leo|  Brockhuis|     FIZYKA|    2|   2|\n",
      "|    Alicja|     Kawala|     FIZYKA|    1|   7|\n",
      "|   Bartosz|     Piętka|INFORMATYKA|    1|   3|\n",
      "|     Dawid|   Pietruch|     FIZYKA|    1|   5|\n",
      "|     Piotr|   Kukiełka|     FIZYKA|    2|   2|\n",
      "| Stanisław|       Król|     FIZYKA|    2|   2|\n",
      "|Franciszek| Kramarczyk|INFORMATYKA|    1|   5|\n",
      "|Aleksandra|     Popiel|     FIZMED|    2|   2|\n",
      "|     Kamil|    Tomczyk|INFORMATYKA|    1|   7|\n",
      "|    Hubert|      Mazur|INFORMATYKA|    1|   5|\n",
      "| Tymoteusz|       Kruk|INFORMATYKA|    2|   2|\n",
      "|    Robert|      Gałat|INFORMATYKA|    2|   2|\n",
      "|    Patryk|      Śledź|INFORMATYKA|    1|   3|\n",
      "|   Jadwiga|      Bizoń|     FIZMED|    1|   3|\n",
      "|     Rafał|  Tyczyński|     FIZMED|    1|   7|\n",
      "|    Joanna|  Zborowska|     FIZMED|    1|   7|\n",
      "|     Rafał|     Damian|     FIZYKA|    1|   7|\n",
      "|    Michał|Piwowarczyk|INFORMATYKA|    1|   7|\n",
      "+----------+-----------+-----------+-----+----+\n",
      "only showing top 20 rows\n",
      "\n"
     ]
    },
    {
     "data": {
      "text/plain": [
       "data = [fname: string, lname: string ... 3 more fields]\n"
      ]
     },
     "metadata": {},
     "output_type": "display_data"
    },
    {
     "data": {
      "text/plain": [
       "[fname: string, lname: string ... 3 more fields]"
      ]
     },
     "execution_count": 13,
     "metadata": {},
     "output_type": "execute_result"
    }
   ],
   "source": [
    "val data = session.read.option(\"header\",\"true\").option(\"delimiter\",\"|\").schema(schema).csv(\"/home/spark/files/dane1.csv\")  \n",
    "data.printSchema()\n",
    "data.show()"
   ]
  },
  {
   "cell_type": "code",
   "execution_count": 14,
   "metadata": {},
   "outputs": [
    {
     "name": "stdout",
     "output_type": "stream",
     "text": [
      "+--------+----------+-----------+-----+----+\n",
      "|fname   |lname     |courses    |grade|year|\n",
      "+--------+----------+-----------+-----+----+\n",
      "|Weronika|Kapłon    |FIZYKA     |1    |5   |\n",
      "|Weronika|Stanek    |FIZYKA     |1    |5   |\n",
      "|Weronika|Wiszyńska |INFORMATYKA|1    |3   |\n",
      "|Weronika|Mrozińska |FIZYKA     |2    |2   |\n",
      "|Weronika|Szewczyk  |FIZMED     |1    |3   |\n",
      "|Weronika|Szpytma   |INFORMATYKA|1    |7   |\n",
      "|Weronika|Schabowicz|INFORMATYKA|1    |7   |\n",
      "|Weronika|Pastuszka |FIZMED     |1    |7   |\n",
      "|Weronika|Miszczak  |INFORMATYKA|1    |3   |\n",
      "|Weronika|Tracz     |FIZMED     |1    |5   |\n",
      "|Weronika|Ciurej    |INFORMATYKA|1    |3   |\n",
      "+--------+----------+-----------+-----+----+\n",
      "\n",
      "+--------+----------+-----------+-----+----+\n",
      "|fname   |lname     |courses    |grade|year|\n",
      "+--------+----------+-----------+-----+----+\n",
      "|Weronika|Kapłon    |FIZYKA     |1    |5   |\n",
      "|Weronika|Stanek    |FIZYKA     |1    |5   |\n",
      "|Weronika|Wiszyńska |INFORMATYKA|1    |3   |\n",
      "|Weronika|Mrozińska |FIZYKA     |2    |2   |\n",
      "|Weronika|Szewczyk  |FIZMED     |1    |3   |\n",
      "|Weronika|Szpytma   |INFORMATYKA|1    |7   |\n",
      "|Weronika|Schabowicz|INFORMATYKA|1    |7   |\n",
      "|Weronika|Pastuszka |FIZMED     |1    |7   |\n",
      "|Weronika|Miszczak  |INFORMATYKA|1    |3   |\n",
      "|Weronika|Tracz     |FIZMED     |1    |5   |\n",
      "|Weronika|Ciurej    |INFORMATYKA|1    |3   |\n",
      "+--------+----------+-----------+-----+----+\n",
      "\n",
      "+--------+----------+-----------+-----+----+\n",
      "|fname   |lname     |courses    |grade|year|\n",
      "+--------+----------+-----------+-----+----+\n",
      "|Weronika|Kapłon    |FIZYKA     |1    |5   |\n",
      "|Weronika|Stanek    |FIZYKA     |1    |5   |\n",
      "|Weronika|Wiszyńska |INFORMATYKA|1    |3   |\n",
      "|Weronika|Mrozińska |FIZYKA     |2    |2   |\n",
      "|Weronika|Szewczyk  |FIZMED     |1    |3   |\n",
      "|Weronika|Szpytma   |INFORMATYKA|1    |7   |\n",
      "|Weronika|Schabowicz|INFORMATYKA|1    |7   |\n",
      "|Weronika|Pastuszka |FIZMED     |1    |7   |\n",
      "|Weronika|Miszczak  |INFORMATYKA|1    |3   |\n",
      "|Weronika|Tracz     |FIZMED     |1    |5   |\n",
      "|Weronika|Ciurej    |INFORMATYKA|1    |3   |\n",
      "+--------+----------+-----------+-----+----+\n",
      "\n",
      "+-----------+\n",
      "|lname      |\n",
      "+-----------+\n",
      "|Kapłon     |\n",
      "|Snażyk     |\n",
      "|Brockhuis  |\n",
      "|Kawala     |\n",
      "|Piętka     |\n",
      "|Pietruch   |\n",
      "|Kukiełka   |\n",
      "|Król       |\n",
      "|Kramarczyk |\n",
      "|Popiel     |\n",
      "|Tomczyk    |\n",
      "|Mazur      |\n",
      "|Kruk       |\n",
      "|Gałat      |\n",
      "|Śledź      |\n",
      "|Bizoń      |\n",
      "|Tyczyński  |\n",
      "|Zborowska  |\n",
      "|Damian     |\n",
      "|Piwowarczyk|\n",
      "+-----------+\n",
      "only showing top 20 rows\n",
      "\n",
      "+-----------+----------+\n",
      "|lname      |fname     |\n",
      "+-----------+----------+\n",
      "|Kapłon     |Weronika  |\n",
      "|Snażyk     |Izabela   |\n",
      "|Brockhuis  |Leo       |\n",
      "|Kawala     |Alicja    |\n",
      "|Piętka     |Bartosz   |\n",
      "|Pietruch   |Dawid     |\n",
      "|Kukiełka   |Piotr     |\n",
      "|Król       |Stanisław |\n",
      "|Kramarczyk |Franciszek|\n",
      "|Popiel     |Aleksandra|\n",
      "|Tomczyk    |Kamil     |\n",
      "|Mazur      |Hubert    |\n",
      "|Kruk       |Tymoteusz |\n",
      "|Gałat      |Robert    |\n",
      "|Śledź      |Patryk    |\n",
      "|Bizoń      |Jadwiga   |\n",
      "|Tyczyński  |Rafał     |\n",
      "|Zborowska  |Joanna    |\n",
      "|Damian     |Rafał     |\n",
      "|Piwowarczyk|Michał    |\n",
      "+-----------+----------+\n",
      "only showing top 20 rows\n",
      "\n",
      "+-----+----+-----+\n",
      "|grade|year|count|\n",
      "+-----+----+-----+\n",
      "|2    |2   |95   |\n",
      "|1    |7   |137  |\n",
      "|null |null|1    |\n",
      "|1    |3   |203  |\n",
      "|1    |5   |139  |\n",
      "+-----+----+-----+\n",
      "\n",
      "+-----+----+-----+\n",
      "|grade|year|count|\n",
      "+-----+----+-----+\n",
      "|null |null|1    |\n",
      "|1    |3   |203  |\n",
      "|1    |5   |139  |\n",
      "|1    |7   |137  |\n",
      "|2    |2   |95   |\n",
      "+-----+----+-----+\n",
      "\n"
     ]
    }
   ],
   "source": [
    "data.where(\"fname = 'Weronika'\").show(false)\n",
    "data.where('fname === \"Weronika\").show(false)\n",
    "data.where(data.col(\"fname\") === \"Weronika\").show(false)\n",
    "data.select($\"lname\").show(false)\n",
    "data.select($\"lname\",$\"fname\").show(false)\n",
    "data.groupBy($\"grade\",$\"year\").count().show(false)\n",
    "data.groupBy($\"grade\",$\"year\").count().orderBy($\"grade\",$\"year\").show(false)"
   ]
  },
  {
   "cell_type": "code",
   "execution_count": 15,
   "metadata": {},
   "outputs": [
    {
     "name": "stdout",
     "output_type": "stream",
     "text": [
      "+----------+-----------+-----------+-----+----+\n",
      "|     fname|      lname|    courses|grade|year|\n",
      "+----------+-----------+-----------+-----+----+\n",
      "|  Weronika|     Kapłon|     FIZYKA|    1|   5|\n",
      "|   Izabela|     Snażyk|INFORMATYKA|    1|   5|\n",
      "|       Leo|  Brockhuis|     FIZYKA|    2|   2|\n",
      "|    Alicja|     Kawala|     FIZYKA|    1|   7|\n",
      "|   Bartosz|     Piętka|INFORMATYKA|    1|   3|\n",
      "|     Dawid|   Pietruch|     FIZYKA|    1|   5|\n",
      "|     Piotr|   Kukiełka|     FIZYKA|    2|   2|\n",
      "| Stanisław|       Król|     FIZYKA|    2|   2|\n",
      "|Franciszek| Kramarczyk|INFORMATYKA|    1|   5|\n",
      "|Aleksandra|     Popiel|     FIZMED|    2|   2|\n",
      "|     Kamil|    Tomczyk|INFORMATYKA|    1|   7|\n",
      "|    Hubert|      Mazur|INFORMATYKA|    1|   5|\n",
      "| Tymoteusz|       Kruk|INFORMATYKA|    2|   2|\n",
      "|    Robert|      Gałat|INFORMATYKA|    2|   2|\n",
      "|    Patryk|      Śledź|INFORMATYKA|    1|   3|\n",
      "|   Jadwiga|      Bizoń|     FIZMED|    1|   3|\n",
      "|     Rafał|  Tyczyński|     FIZMED|    1|   7|\n",
      "|    Joanna|  Zborowska|     FIZMED|    1|   7|\n",
      "|     Rafał|     Damian|     FIZYKA|    1|   7|\n",
      "|    Michał|Piwowarczyk|INFORMATYKA|    1|   7|\n",
      "+----------+-----------+-----------+-----+----+\n",
      "only showing top 20 rows\n",
      "\n",
      "+-----+----+--------+\n",
      "|grade|year|count(1)|\n",
      "+-----+----+--------+\n",
      "| null|null|       1|\n",
      "|    1|   3|     203|\n",
      "|    1|   5|     139|\n",
      "|    1|   7|     137|\n",
      "|    2|   2|      95|\n",
      "+-----+----+--------+\n",
      "\n"
     ]
    }
   ],
   "source": [
    "data.createGlobalTempView(\"lista\")\n",
    "spark.sql(\"SELECT * from global_temp.lista\").show()\n",
    "spark.sql(\"SELECT grade, year, count(*) from global_temp.lista group by grade, year order by grade, year\").show()"
   ]
  },
  {
   "cell_type": "code",
   "execution_count": 21,
   "metadata": {},
   "outputs": [
    {
     "name": "stdout",
     "output_type": "stream",
     "text": [
      "+-----+----+-----+\n",
      "|grade|year|count|\n",
      "+-----+----+-----+\n",
      "|    1|   3|  203|\n",
      "|    1|   5|  139|\n",
      "|    1|   7|  137|\n",
      "+-----+----+-----+\n",
      "\n"
     ]
    }
   ],
   "source": [
    "spark.sql(\"SELECT grade, year, count(*) as count from global_temp.lista where grade=1 group by grade, year order by count DESC\").show()"
   ]
  },
  {
   "cell_type": "code",
   "execution_count": 22,
   "metadata": {},
   "outputs": [
    {
     "name": "stdout",
     "output_type": "stream",
     "text": [
      "+-----+\n",
      "|count|\n",
      "+-----+\n",
      "|  575|\n",
      "+-----+\n",
      "\n"
     ]
    }
   ],
   "source": [
    "spark.sql(\"SELECT count(*) as count from global_temp.lista\").show()"
   ]
  },
  {
   "cell_type": "code",
   "execution_count": 30,
   "metadata": {},
   "outputs": [
    {
     "data": {
      "text/plain": [
       "136"
      ]
     },
     "execution_count": 30,
     "metadata": {},
     "output_type": "execute_result"
    }
   ],
   "source": [
    "spark.sql(\"SELECT fname from global_temp.lista group by fname\").count()"
   ]
  },
  {
   "cell_type": "code",
   "execution_count": null,
   "metadata": {},
   "outputs": [],
   "source": []
  }
 ],
 "metadata": {
  "kernelspec": {
   "display_name": "Apache Toree - Scala",
   "language": "scala",
   "name": "apache_toree_scala"
  },
  "language_info": {
   "codemirror_mode": "text/x-scala",
   "file_extension": ".scala",
   "mimetype": "text/x-scala",
   "name": "scala",
   "pygments_lexer": "scala",
   "version": "2.12.12"
  }
 },
 "nbformat": 4,
 "nbformat_minor": 4
}
