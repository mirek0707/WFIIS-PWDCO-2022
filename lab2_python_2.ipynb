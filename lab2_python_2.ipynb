{
 "cells": [
  {
   "cell_type": "code",
   "execution_count": 1,
   "metadata": {},
   "outputs": [],
   "source": [
    "import findspark\n",
    "findspark.init()\n",
    "\n",
    "# configure spark variables\n",
    "from pyspark.context import SparkContext\n",
    "from pyspark import SparkConf\n",
    "from pyspark.sql.context import SQLContext\n",
    "from pyspark.sql.session import SparkSession\n",
    "   \n",
    "sc = SparkContext().getOrCreate(SparkConf().setMaster(\"local[4]\"))\n",
    "sqlContext = SQLContext(sc)\n",
    "spark = SparkSession(sc)\n",
    "\n",
    "# load up other dependencies\n",
    "import re\n",
    "import pandas as pd"
   ]
  },
  {
   "cell_type": "code",
   "execution_count": 2,
   "metadata": {},
   "outputs": [
    {
     "name": "stdout",
     "output_type": "stream",
     "text": [
      "<re.Match object; span=(0, 25), match=\"I'm searching for a spark\"> 0 25\n",
      "<re.Match object; span=(25, 36), match=' in PySpark'> 25 36\n"
     ]
    }
   ],
   "source": [
    "m = re.finditer(r'.*?(spark).*?', \"I'm searching for a spark in PySpark\", re.I)\n",
    "for match in m:\n",
    "    print(match, match.start(), match.end())"
   ]
  },
  {
   "cell_type": "code",
   "execution_count": 3,
   "metadata": {},
   "outputs": [
    {
     "name": "stdout",
     "output_type": "stream",
     "text": [
      "root\n",
      " |-- value: string (nullable = true)\n",
      "\n"
     ]
    }
   ],
   "source": [
    "raw_data_files = ['/home/spark/files/access_log1', '/home/spark/files/access_log2']\n",
    "base_df = spark.read.text(raw_data_files)\n",
    "base_df.printSchema()"
   ]
  },
  {
   "cell_type": "code",
   "execution_count": 4,
   "metadata": {},
   "outputs": [
    {
     "data": {
      "text/plain": [
       "pyspark.sql.dataframe.DataFrame"
      ]
     },
     "execution_count": 4,
     "metadata": {},
     "output_type": "execute_result"
    }
   ],
   "source": [
    "type(base_df)"
   ]
  },
  {
   "cell_type": "code",
   "execution_count": 5,
   "metadata": {},
   "outputs": [
    {
     "data": {
      "text/plain": [
       "pyspark.rdd.RDD"
      ]
     },
     "execution_count": 5,
     "metadata": {},
     "output_type": "execute_result"
    }
   ],
   "source": [
    "base_df_rdd = base_df.rdd\n",
    "type(base_df_rdd)"
   ]
  },
  {
   "cell_type": "code",
   "execution_count": 6,
   "metadata": {},
   "outputs": [
    {
     "name": "stdout",
     "output_type": "stream",
     "text": [
      "+-------------------------------------------------------------------------------------------------------------------------------------------------------------------------------------------------------------------------------------+\n",
      "|value                                                                                                                                                                                                                                |\n",
      "+-------------------------------------------------------------------------------------------------------------------------------------------------------------------------------------------------------------------------------------+\n",
      "|2001:6d8:10:4400:451:aebb:715b:b6df - - [10/Nov/2019:03:44:13 +0100] \"GET /wpad.dat HTTP/1.1\" 304 - \"-\" \"-\"                                                                                                                          |\n",
      "|2001:6d8:10:4400::1:100b - - [10/Nov/2019:03:44:13 +0100] \"GET /wpad.dat HTTP/1.1\" 200 137 \"-\" \"Mozilla/5.0 (Windows NT 10.0; WOW64) AppleWebKit/537.36 (KHTML, like Gecko) ReaderServices/19.12.20036 Chrome/80.0.0.0 Safari/537.36\"|\n",
      "|172.30.254.52 - - [10/Nov/2019:03:44:15 +0100] \"GET /wpad.dat HTTP/1.1\" 200 137 \"-\" \"Mozilla/5.0 (Windows NT 6.1; WOW64) AppleWebKit/537.36 (KHTML, like Gecko) ReaderServices/19.12.20036 Chrome/80.0.0.0 Safari/537.36\"            |\n",
      "|2001:6d8:10:4400::1:100b - - [10/Nov/2019:03:44:21 +0100] \"GET /wpad.dat HTTP/1.1\" 200 137 \"-\" \"Mozilla/5.0 (Windows NT 10.0; WOW64) AppleWebKit/537.36 (KHTML, like Gecko) ReaderServices/19.12.20036 Chrome/80.0.0.0 Safari/537.36\"|\n",
      "|172.30.254.52 - - [10/Nov/2019:03:44:23 +0100] \"GET /wpad.dat HTTP/1.1\" 200 137 \"-\" \"Mozilla/5.0 (Windows NT 6.1; WOW64) AppleWebKit/537.36 (KHTML, like Gecko) ReaderServices/19.12.20036 Chrome/80.0.0.0 Safari/537.36\"            |\n",
      "|2001:6d8:10:4401:58:1a77:a67:aaef - - [10/Nov/2019:03:44:28 +0100] \"GET /wpad.dat HTTP/1.1\" 304 - \"-\" \"WinHttp-Autoproxy-Service/5.1\"                                                                                                |\n",
      "|2001:6d8:10:4400::1:100b - - [10/Nov/2019:03:44:29 +0100] \"GET /wpad.dat HTTP/1.1\" 200 137 \"-\" \"Mozilla/5.0 (Windows NT 10.0; WOW64) AppleWebKit/537.36 (KHTML, like Gecko) ReaderServices/19.12.20036 Chrome/80.0.0.0 Safari/537.36\"|\n",
      "|172.30.254.52 - - [10/Nov/2019:03:44:31 +0100] \"GET /wpad.dat HTTP/1.1\" 200 137 \"-\" \"Mozilla/5.0 (Windows NT 6.1; WOW64) AppleWebKit/537.36 (KHTML, like Gecko) ReaderServices/19.12.20036 Chrome/80.0.0.0 Safari/537.36\"            |\n",
      "|2001:6d8:10:4400:b59f:6067:d7c5:2b84 - - [10/Nov/2019:03:44:32 +0100] \"GET /wpad.dat HTTP/1.1\" 304 - \"-\" \"-\"                                                                                                                         |\n",
      "|2001:6d8:10:4400::1:100b - - [10/Nov/2019:03:44:37 +0100] \"GET /wpad.dat HTTP/1.1\" 200 137 \"-\" \"Mozilla/5.0 (Windows NT 10.0; WOW64) AppleWebKit/537.36 (KHTML, like Gecko) ReaderServices/19.12.20036 Chrome/80.0.0.0 Safari/537.36\"|\n",
      "+-------------------------------------------------------------------------------------------------------------------------------------------------------------------------------------------------------------------------------------+\n",
      "only showing top 10 rows\n",
      "\n"
     ]
    }
   ],
   "source": [
    "base_df.show(10, truncate=False)"
   ]
  },
  {
   "cell_type": "code",
   "execution_count": 7,
   "metadata": {},
   "outputs": [
    {
     "data": {
      "text/plain": [
       "[Row(value='2001:6d8:10:4400:451:aebb:715b:b6df - - [10/Nov/2019:03:44:13 +0100] \"GET /wpad.dat HTTP/1.1\" 304 - \"-\" \"-\"'),\n",
       " Row(value='2001:6d8:10:4400::1:100b - - [10/Nov/2019:03:44:13 +0100] \"GET /wpad.dat HTTP/1.1\" 200 137 \"-\" \"Mozilla/5.0 (Windows NT 10.0; WOW64) AppleWebKit/537.36 (KHTML, like Gecko) ReaderServices/19.12.20036 Chrome/80.0.0.0 Safari/537.36\"'),\n",
       " Row(value='172.30.254.52 - - [10/Nov/2019:03:44:15 +0100] \"GET /wpad.dat HTTP/1.1\" 200 137 \"-\" \"Mozilla/5.0 (Windows NT 6.1; WOW64) AppleWebKit/537.36 (KHTML, like Gecko) ReaderServices/19.12.20036 Chrome/80.0.0.0 Safari/537.36\"'),\n",
       " Row(value='2001:6d8:10:4400::1:100b - - [10/Nov/2019:03:44:21 +0100] \"GET /wpad.dat HTTP/1.1\" 200 137 \"-\" \"Mozilla/5.0 (Windows NT 10.0; WOW64) AppleWebKit/537.36 (KHTML, like Gecko) ReaderServices/19.12.20036 Chrome/80.0.0.0 Safari/537.36\"'),\n",
       " Row(value='172.30.254.52 - - [10/Nov/2019:03:44:23 +0100] \"GET /wpad.dat HTTP/1.1\" 200 137 \"-\" \"Mozilla/5.0 (Windows NT 6.1; WOW64) AppleWebKit/537.36 (KHTML, like Gecko) ReaderServices/19.12.20036 Chrome/80.0.0.0 Safari/537.36\"'),\n",
       " Row(value='2001:6d8:10:4401:58:1a77:a67:aaef - - [10/Nov/2019:03:44:28 +0100] \"GET /wpad.dat HTTP/1.1\" 304 - \"-\" \"WinHttp-Autoproxy-Service/5.1\"'),\n",
       " Row(value='2001:6d8:10:4400::1:100b - - [10/Nov/2019:03:44:29 +0100] \"GET /wpad.dat HTTP/1.1\" 200 137 \"-\" \"Mozilla/5.0 (Windows NT 10.0; WOW64) AppleWebKit/537.36 (KHTML, like Gecko) ReaderServices/19.12.20036 Chrome/80.0.0.0 Safari/537.36\"'),\n",
       " Row(value='172.30.254.52 - - [10/Nov/2019:03:44:31 +0100] \"GET /wpad.dat HTTP/1.1\" 200 137 \"-\" \"Mozilla/5.0 (Windows NT 6.1; WOW64) AppleWebKit/537.36 (KHTML, like Gecko) ReaderServices/19.12.20036 Chrome/80.0.0.0 Safari/537.36\"'),\n",
       " Row(value='2001:6d8:10:4400:b59f:6067:d7c5:2b84 - - [10/Nov/2019:03:44:32 +0100] \"GET /wpad.dat HTTP/1.1\" 304 - \"-\" \"-\"'),\n",
       " Row(value='2001:6d8:10:4400::1:100b - - [10/Nov/2019:03:44:37 +0100] \"GET /wpad.dat HTTP/1.1\" 200 137 \"-\" \"Mozilla/5.0 (Windows NT 10.0; WOW64) AppleWebKit/537.36 (KHTML, like Gecko) ReaderServices/19.12.20036 Chrome/80.0.0.0 Safari/537.36\"')]"
      ]
     },
     "execution_count": 7,
     "metadata": {},
     "output_type": "execute_result"
    }
   ],
   "source": [
    "base_df_rdd.take(10)"
   ]
  },
  {
   "cell_type": "code",
   "execution_count": 8,
   "metadata": {},
   "outputs": [
    {
     "name": "stdout",
     "output_type": "stream",
     "text": [
      "(285061, 1)\n"
     ]
    }
   ],
   "source": [
    "print((base_df.count(), len(base_df.columns)))"
   ]
  },
  {
   "cell_type": "code",
   "execution_count": 9,
   "metadata": {},
   "outputs": [
    {
     "data": {
      "text/plain": [
       "['2001:6d8:10:4400:451:aebb:715b:b6df - - [10/Nov/2019:03:44:13 +0100] \"GET /wpad.dat HTTP/1.1\" 304 - \"-\" \"-\"',\n",
       " '2001:6d8:10:4400::1:100b - - [10/Nov/2019:03:44:13 +0100] \"GET /wpad.dat HTTP/1.1\" 200 137 \"-\" \"Mozilla/5.0 (Windows NT 10.0; WOW64) AppleWebKit/537.36 (KHTML, like Gecko) ReaderServices/19.12.20036 Chrome/80.0.0.0 Safari/537.36\"',\n",
       " '172.30.254.52 - - [10/Nov/2019:03:44:15 +0100] \"GET /wpad.dat HTTP/1.1\" 200 137 \"-\" \"Mozilla/5.0 (Windows NT 6.1; WOW64) AppleWebKit/537.36 (KHTML, like Gecko) ReaderServices/19.12.20036 Chrome/80.0.0.0 Safari/537.36\"',\n",
       " '2001:6d8:10:4400::1:100b - - [10/Nov/2019:03:44:21 +0100] \"GET /wpad.dat HTTP/1.1\" 200 137 \"-\" \"Mozilla/5.0 (Windows NT 10.0; WOW64) AppleWebKit/537.36 (KHTML, like Gecko) ReaderServices/19.12.20036 Chrome/80.0.0.0 Safari/537.36\"',\n",
       " '172.30.254.52 - - [10/Nov/2019:03:44:23 +0100] \"GET /wpad.dat HTTP/1.1\" 200 137 \"-\" \"Mozilla/5.0 (Windows NT 6.1; WOW64) AppleWebKit/537.36 (KHTML, like Gecko) ReaderServices/19.12.20036 Chrome/80.0.0.0 Safari/537.36\"',\n",
       " '2001:6d8:10:4401:58:1a77:a67:aaef - - [10/Nov/2019:03:44:28 +0100] \"GET /wpad.dat HTTP/1.1\" 304 - \"-\" \"WinHttp-Autoproxy-Service/5.1\"',\n",
       " '2001:6d8:10:4400::1:100b - - [10/Nov/2019:03:44:29 +0100] \"GET /wpad.dat HTTP/1.1\" 200 137 \"-\" \"Mozilla/5.0 (Windows NT 10.0; WOW64) AppleWebKit/537.36 (KHTML, like Gecko) ReaderServices/19.12.20036 Chrome/80.0.0.0 Safari/537.36\"',\n",
       " '172.30.254.52 - - [10/Nov/2019:03:44:31 +0100] \"GET /wpad.dat HTTP/1.1\" 200 137 \"-\" \"Mozilla/5.0 (Windows NT 6.1; WOW64) AppleWebKit/537.36 (KHTML, like Gecko) ReaderServices/19.12.20036 Chrome/80.0.0.0 Safari/537.36\"',\n",
       " '2001:6d8:10:4400:b59f:6067:d7c5:2b84 - - [10/Nov/2019:03:44:32 +0100] \"GET /wpad.dat HTTP/1.1\" 304 - \"-\" \"-\"',\n",
       " '2001:6d8:10:4400::1:100b - - [10/Nov/2019:03:44:37 +0100] \"GET /wpad.dat HTTP/1.1\" 200 137 \"-\" \"Mozilla/5.0 (Windows NT 10.0; WOW64) AppleWebKit/537.36 (KHTML, like Gecko) ReaderServices/19.12.20036 Chrome/80.0.0.0 Safari/537.36\"',\n",
       " '2001:6d8:10:4400:b59f:6067:d7c5:2b84 - - [10/Nov/2019:03:44:39 +0100] \"GET /wpad.dat HTTP/1.1\" 304 - \"-\" \"-\"',\n",
       " '172.30.254.52 - - [10/Nov/2019:03:44:39 +0100] \"GET /wpad.dat HTTP/1.1\" 200 137 \"-\" \"Mozilla/5.0 (Windows NT 6.1; WOW64) AppleWebKit/537.36 (KHTML, like Gecko) ReaderServices/19.12.20036 Chrome/80.0.0.0 Safari/537.36\"',\n",
       " '2001:6d8:10:4400:b59f:6067:d7c5:2b84 - - [10/Nov/2019:03:44:40 +0100] \"GET /wpad.dat HTTP/1.1\" 304 - \"-\" \"-\"',\n",
       " '2001:6d8:10:4400:5146:1e50:99:5f7b - - [10/Nov/2019:03:44:41 +0100] \"GET /wpad.dat HTTP/1.1\" 200 137 \"-\" \"-\"',\n",
       " '2001:6d8:10:4400:b59f:6067:d7c5:2b84 - - [10/Nov/2019:03:44:41 +0100] \"GET /wpad.dat HTTP/1.1\" 304 - \"-\" \"-\"']"
      ]
     },
     "execution_count": 9,
     "metadata": {},
     "output_type": "execute_result"
    }
   ],
   "source": [
    "sample_logs = [item['value'] for item in base_df.take(15)]\n",
    "sample_logs\n"
   ]
  },
  {
   "cell_type": "code",
   "execution_count": 10,
   "metadata": {},
   "outputs": [
    {
     "data": {
      "text/plain": [
       "['2001:6d8:10:4400:451:aebb:715b:b6df',\n",
       " '2001:6d8:10:4400::1:100b',\n",
       " '172.30.254.52',\n",
       " '2001:6d8:10:4400::1:100b',\n",
       " '172.30.254.52',\n",
       " '2001:6d8:10:4401:58:1a77:a67:aaef',\n",
       " '2001:6d8:10:4400::1:100b',\n",
       " '172.30.254.52',\n",
       " '2001:6d8:10:4400:b59f:6067:d7c5:2b84',\n",
       " '2001:6d8:10:4400::1:100b',\n",
       " '2001:6d8:10:4400:b59f:6067:d7c5:2b84',\n",
       " '172.30.254.52',\n",
       " '2001:6d8:10:4400:b59f:6067:d7c5:2b84',\n",
       " '2001:6d8:10:4400:5146:1e50:99:5f7b',\n",
       " '2001:6d8:10:4400:b59f:6067:d7c5:2b84']"
      ]
     },
     "execution_count": 10,
     "metadata": {},
     "output_type": "execute_result"
    }
   ],
   "source": [
    "host_pattern = r'(^\\S+)\\s'\n",
    "hosts = [re.search(host_pattern, item).group(1)\n",
    "           if re.search(host_pattern, item)\n",
    "           else 'no match'\n",
    "           for item in sample_logs]\n",
    "hosts"
   ]
  },
  {
   "cell_type": "code",
   "execution_count": 11,
   "metadata": {},
   "outputs": [
    {
     "data": {
      "text/plain": [
       "['10/Nov/2019:03:44:13 +0100',\n",
       " '10/Nov/2019:03:44:13 +0100',\n",
       " '10/Nov/2019:03:44:15 +0100',\n",
       " '10/Nov/2019:03:44:21 +0100',\n",
       " '10/Nov/2019:03:44:23 +0100',\n",
       " '10/Nov/2019:03:44:28 +0100',\n",
       " '10/Nov/2019:03:44:29 +0100',\n",
       " '10/Nov/2019:03:44:31 +0100',\n",
       " '10/Nov/2019:03:44:32 +0100',\n",
       " '10/Nov/2019:03:44:37 +0100',\n",
       " '10/Nov/2019:03:44:39 +0100',\n",
       " '10/Nov/2019:03:44:39 +0100',\n",
       " '10/Nov/2019:03:44:40 +0100',\n",
       " '10/Nov/2019:03:44:41 +0100',\n",
       " '10/Nov/2019:03:44:41 +0100']"
      ]
     },
     "execution_count": 11,
     "metadata": {},
     "output_type": "execute_result"
    }
   ],
   "source": [
    "ts_pattern = r'\\[(\\d{2}/\\w{3}/\\d{4}:\\d{2}:\\d{2}:\\d{2} \\S{1}\\d{4})]'\n",
    "timestamps = [re.search(ts_pattern, item).group(1) \n",
    "                 if re.search(ts_pattern, item)\n",
    "                 else 'no match'\n",
    "                 for item in sample_logs]\n",
    "timestamps"
   ]
  },
  {
   "cell_type": "code",
   "execution_count": 12,
   "metadata": {},
   "outputs": [
    {
     "data": {
      "text/plain": [
       "[('GET', '/wpad.dat', 'HTTP/1.1'),\n",
       " ('GET', '/wpad.dat', 'HTTP/1.1'),\n",
       " ('GET', '/wpad.dat', 'HTTP/1.1'),\n",
       " ('GET', '/wpad.dat', 'HTTP/1.1'),\n",
       " ('GET', '/wpad.dat', 'HTTP/1.1'),\n",
       " ('GET', '/wpad.dat', 'HTTP/1.1'),\n",
       " ('GET', '/wpad.dat', 'HTTP/1.1'),\n",
       " ('GET', '/wpad.dat', 'HTTP/1.1'),\n",
       " ('GET', '/wpad.dat', 'HTTP/1.1'),\n",
       " ('GET', '/wpad.dat', 'HTTP/1.1'),\n",
       " ('GET', '/wpad.dat', 'HTTP/1.1'),\n",
       " ('GET', '/wpad.dat', 'HTTP/1.1'),\n",
       " ('GET', '/wpad.dat', 'HTTP/1.1'),\n",
       " ('GET', '/wpad.dat', 'HTTP/1.1'),\n",
       " ('GET', '/wpad.dat', 'HTTP/1.1')]"
      ]
     },
     "execution_count": 12,
     "metadata": {},
     "output_type": "execute_result"
    }
   ],
   "source": [
    "method_uri_protocol_pattern = r'\\\"(\\S+)\\s(\\S+)\\s*(\\S*)\\\"'\n",
    "method_uri_protocol = [re.search(method_uri_protocol_pattern, item).groups()\n",
    "               if re.search(method_uri_protocol_pattern, item)\n",
    "               else 'no match'\n",
    "              for item in sample_logs]\n",
    "method_uri_protocol"
   ]
  },
  {
   "cell_type": "code",
   "execution_count": 13,
   "metadata": {},
   "outputs": [
    {
     "name": "stdout",
     "output_type": "stream",
     "text": [
      "+--------------------+--------------------+------+---------+--------+----+----+\n",
      "|                host|           timestamp|method|     path|protocol|code|size|\n",
      "+--------------------+--------------------+------+---------+--------+----+----+\n",
      "|2001:6d8:10:4400:...|10/Nov/2019:03:44...|   GET|/wpad.dat|HTTP/1.1| 304|null|\n",
      "|2001:6d8:10:4400:...|10/Nov/2019:03:44...|   GET|/wpad.dat|HTTP/1.1| 200| 137|\n",
      "|       172.30.254.52|10/Nov/2019:03:44...|   GET|/wpad.dat|HTTP/1.1| 200| 137|\n",
      "|2001:6d8:10:4400:...|10/Nov/2019:03:44...|   GET|/wpad.dat|HTTP/1.1| 200| 137|\n",
      "|       172.30.254.52|10/Nov/2019:03:44...|   GET|/wpad.dat|HTTP/1.1| 200| 137|\n",
      "|2001:6d8:10:4401:...|10/Nov/2019:03:44...|   GET|/wpad.dat|HTTP/1.1| 304|null|\n",
      "|2001:6d8:10:4400:...|10/Nov/2019:03:44...|   GET|/wpad.dat|HTTP/1.1| 200| 137|\n",
      "|       172.30.254.52|10/Nov/2019:03:44...|   GET|/wpad.dat|HTTP/1.1| 200| 137|\n",
      "|2001:6d8:10:4400:...|10/Nov/2019:03:44...|   GET|/wpad.dat|HTTP/1.1| 304|null|\n",
      "|2001:6d8:10:4400:...|10/Nov/2019:03:44...|   GET|/wpad.dat|HTTP/1.1| 200| 137|\n",
      "+--------------------+--------------------+------+---------+--------+----+----+\n",
      "only showing top 10 rows\n",
      "\n",
      "(285061, 7)\n"
     ]
    }
   ],
   "source": [
    "from pyspark.sql.functions import regexp_extract\n",
    "\n",
    "logs_df = base_df.select(regexp_extract('value', r'(^[\\S+]+) -', 1).alias('host'),\n",
    "                          regexp_extract('value', r'(^[\\S+]+) - - \\[(.*)\\]', 2).alias('timestamp'),\n",
    "                          regexp_extract('value', r'(^[\\S+]+) - - \\[(.*)\\] \"(\\w+)', 3).alias('method'),\n",
    "                          regexp_extract('value', r'(^[\\S+]+) - - \\[(.*)\\] \"(\\w+) (.*?) (.*?)', 4).alias('path'),\n",
    "                          regexp_extract('value', r'(^[\\S+]+) - - \\[(.*) \\+(.*)\\] \"(\\w+) (.*?) (.*?)\" ', 6).alias('protocol'),\n",
    "                          regexp_extract('value', r'(^[\\S+]+) - - \\[(.*) \\+(.*)\\] \"(\\w+) (.*?) (.*?)\" (\\d+) ', 7).cast('integer').alias('code'),\n",
    "                          regexp_extract('value', r'(^[\\S+]+) - - \\[(.*) \\+(.*)\\] \"(\\w+) (.*?) (.*?)\" (\\d+) (\\d+)', 8).cast('integer').alias('size'))\n",
    "logs_df.show(10, truncate=True)\n",
    "print((logs_df.count(), len(logs_df.columns)))"
   ]
  },
  {
   "cell_type": "code",
   "execution_count": 14,
   "metadata": {},
   "outputs": [
    {
     "data": {
      "text/plain": [
       "0"
      ]
     },
     "execution_count": 14,
     "metadata": {},
     "output_type": "execute_result"
    }
   ],
   "source": [
    "(base_df\n",
    "    .filter(base_df['value']\n",
    "                .isNull())\n",
    "    .count())"
   ]
  },
  {
   "cell_type": "code",
   "execution_count": 15,
   "metadata": {},
   "outputs": [
    {
     "data": {
      "text/plain": [
       "175714"
      ]
     },
     "execution_count": 15,
     "metadata": {},
     "output_type": "execute_result"
    }
   ],
   "source": [
    "bad_rows_df = logs_df.filter(logs_df['host'].isNull()|\n",
    "#                             logs_df['timestamp'].isNull() |\n",
    "#                             logs_df['method'].isNull() |\n",
    "#                             logs_df['path'].isNull() |\n",
    "                             logs_df['code'].isNull() |\n",
    "                             logs_df['size'].isNull()|\n",
    "                             logs_df['protocol'].isNull())\n",
    "bad_rows_df.count()"
   ]
  },
  {
   "cell_type": "code",
   "execution_count": 16,
   "metadata": {},
   "outputs": [
    {
     "data": {
      "text/plain": [
       "175714"
      ]
     },
     "execution_count": 16,
     "metadata": {},
     "output_type": "execute_result"
    }
   ],
   "source": [
    "logs_df = logs_df.na.fill({'size': 0})\n",
    "bad_rows_df.count()"
   ]
  },
  {
   "cell_type": "code",
   "execution_count": 17,
   "metadata": {},
   "outputs": [],
   "source": [
    "from pyspark.sql.functions import udf\n",
    "\n",
    "month_map = {\n",
    "  'Jan': 1, 'Feb': 2, 'Mar':3, 'Apr':4, 'May':5, 'Jun':6, 'Jul':7,\n",
    "  'Aug':8,  'Sep': 9, 'Oct':10, 'Nov': 11, 'Dec': 12\n",
    "}\n",
    "\n",
    "def parse_clf_time(text):\n",
    "    \"\"\" Convert Common Log time format into a Python datetime object\n",
    "    Args:\n",
    "        text (str): date and time in Apache time format [dd/mmm/yyyy:hh:mm:ss (+/-)zzzz]\n",
    "    Returns:\n",
    "        a string suitable for passing to CAST('timestamp')\n",
    "    \"\"\"\n",
    "    # NOTE: We're ignoring the time zones here, might need to be handled depending on the problem you are solving\n",
    "    return \"{0:04d}-{1:02d}-{2:02d} {3:02d}:{4:02d}:{5:02d}\".format(\n",
    "      int(text[7:11]),\n",
    "      month_map[text[3:6]],\n",
    "      int(text[0:2]),\n",
    "      int(text[12:14]),\n",
    "      int(text[15:17]),\n",
    "      int(text[18:20])\n",
    "    )"
   ]
  },
  {
   "cell_type": "code",
   "execution_count": 18,
   "metadata": {},
   "outputs": [],
   "source": [
    "udf_parse_time = udf(parse_clf_time)\n",
    "\n",
    "logs_df = (logs_df.select('*', udf_parse_time(logs_df['timestamp'])\n",
    "                                   .cast('timestamp')\n",
    "                                   .alias('time'))\n",
    "                                   .drop('timestamp'))"
   ]
  },
  {
   "cell_type": "code",
   "execution_count": 19,
   "metadata": {},
   "outputs": [
    {
     "name": "stdout",
     "output_type": "stream",
     "text": [
      "root\n",
      " |-- host: string (nullable = true)\n",
      " |-- method: string (nullable = true)\n",
      " |-- path: string (nullable = true)\n",
      " |-- protocol: string (nullable = true)\n",
      " |-- code: integer (nullable = true)\n",
      " |-- size: integer (nullable = false)\n",
      " |-- time: timestamp (nullable = true)\n",
      "\n"
     ]
    }
   ],
   "source": [
    "logs_df.printSchema()"
   ]
  },
  {
   "cell_type": "code",
   "execution_count": 20,
   "metadata": {},
   "outputs": [],
   "source": [
    "import numpy as np\n",
    "import pandas as pd"
   ]
  },
  {
   "cell_type": "code",
   "execution_count": 21,
   "metadata": {},
   "outputs": [],
   "source": [
    "content_size_summary_df = logs_df.describe(['size'])"
   ]
  },
  {
   "cell_type": "code",
   "execution_count": 22,
   "metadata": {},
   "outputs": [
    {
     "data": {
      "text/html": [
       "<div>\n",
       "<style scoped>\n",
       "    .dataframe tbody tr th:only-of-type {\n",
       "        vertical-align: middle;\n",
       "    }\n",
       "\n",
       "    .dataframe tbody tr th {\n",
       "        vertical-align: top;\n",
       "    }\n",
       "\n",
       "    .dataframe thead th {\n",
       "        text-align: right;\n",
       "    }\n",
       "</style>\n",
       "<table border=\"1\" class=\"dataframe\">\n",
       "  <thead>\n",
       "    <tr style=\"text-align: right;\">\n",
       "      <th></th>\n",
       "      <th>summary</th>\n",
       "      <th>size</th>\n",
       "    </tr>\n",
       "  </thead>\n",
       "  <tbody>\n",
       "    <tr>\n",
       "      <th>0</th>\n",
       "      <td>count</td>\n",
       "      <td>285061</td>\n",
       "    </tr>\n",
       "    <tr>\n",
       "      <th>1</th>\n",
       "      <td>mean</td>\n",
       "      <td>4638.948316325278</td>\n",
       "    </tr>\n",
       "    <tr>\n",
       "      <th>2</th>\n",
       "      <td>stddev</td>\n",
       "      <td>360584.8484784877</td>\n",
       "    </tr>\n",
       "    <tr>\n",
       "      <th>3</th>\n",
       "      <td>min</td>\n",
       "      <td>0</td>\n",
       "    </tr>\n",
       "    <tr>\n",
       "      <th>4</th>\n",
       "      <td>max</td>\n",
       "      <td>82117397</td>\n",
       "    </tr>\n",
       "  </tbody>\n",
       "</table>\n",
       "</div>"
      ],
      "text/plain": [
       "  summary               size\n",
       "0   count             285061\n",
       "1    mean  4638.948316325278\n",
       "2  stddev  360584.8484784877\n",
       "3     min                  0\n",
       "4     max           82117397"
      ]
     },
     "execution_count": 22,
     "metadata": {},
     "output_type": "execute_result"
    }
   ],
   "source": [
    "content_size_summary_df.toPandas()"
   ]
  },
  {
   "cell_type": "code",
   "execution_count": 23,
   "metadata": {},
   "outputs": [
    {
     "data": {
      "text/html": [
       "<div>\n",
       "<style scoped>\n",
       "    .dataframe tbody tr th:only-of-type {\n",
       "        vertical-align: middle;\n",
       "    }\n",
       "\n",
       "    .dataframe tbody tr th {\n",
       "        vertical-align: top;\n",
       "    }\n",
       "\n",
       "    .dataframe thead th {\n",
       "        text-align: right;\n",
       "    }\n",
       "</style>\n",
       "<table border=\"1\" class=\"dataframe\">\n",
       "  <thead>\n",
       "    <tr style=\"text-align: right;\">\n",
       "      <th></th>\n",
       "      <th>min_content_size</th>\n",
       "      <th>max_content_size</th>\n",
       "      <th>mean_content_size</th>\n",
       "      <th>std_content_size</th>\n",
       "      <th>count_content_size</th>\n",
       "    </tr>\n",
       "  </thead>\n",
       "  <tbody>\n",
       "    <tr>\n",
       "      <th>0</th>\n",
       "      <td>0</td>\n",
       "      <td>82117397</td>\n",
       "      <td>4638.948316</td>\n",
       "      <td>360584.848478</td>\n",
       "      <td>285061</td>\n",
       "    </tr>\n",
       "  </tbody>\n",
       "</table>\n",
       "</div>"
      ],
      "text/plain": [
       "   min_content_size  max_content_size  mean_content_size  std_content_size  \\\n",
       "0                 0          82117397        4638.948316     360584.848478   \n",
       "\n",
       "   count_content_size  \n",
       "0              285061  "
      ]
     },
     "execution_count": 23,
     "metadata": {},
     "output_type": "execute_result"
    }
   ],
   "source": [
    "from pyspark.sql import functions as F\n",
    "\n",
    "(logs_df.agg(F.min(logs_df['size']).alias('min_content_size'),\n",
    "             F.max(logs_df['size']).alias('max_content_size'),\n",
    "             F.mean(logs_df['size']).alias('mean_content_size'),\n",
    "             F.stddev(logs_df['size']).alias('std_content_size'),\n",
    "             F.count(logs_df['size']).alias('count_content_size'))\n",
    "        .toPandas())"
   ]
  },
  {
   "cell_type": "code",
   "execution_count": 24,
   "metadata": {},
   "outputs": [
    {
     "name": "stdout",
     "output_type": "stream",
     "text": [
      "Total distinct HTTP Status Codes: 10\n"
     ]
    }
   ],
   "source": [
    "status_freq_df = (logs_df\n",
    "                     .groupBy('code')\n",
    "                     .count()\n",
    "                     .sort('code')\n",
    "                     .cache())\n",
    "print('Total distinct HTTP Status Codes:', status_freq_df.count()) "
   ]
  },
  {
   "cell_type": "code",
   "execution_count": 25,
   "metadata": {},
   "outputs": [
    {
     "data": {
      "text/html": [
       "<div>\n",
       "<style scoped>\n",
       "    .dataframe tbody tr th:only-of-type {\n",
       "        vertical-align: middle;\n",
       "    }\n",
       "\n",
       "    .dataframe tbody tr th {\n",
       "        vertical-align: top;\n",
       "    }\n",
       "\n",
       "    .dataframe thead th {\n",
       "        text-align: right;\n",
       "    }\n",
       "</style>\n",
       "<table border=\"1\" class=\"dataframe\">\n",
       "  <thead>\n",
       "    <tr style=\"text-align: right;\">\n",
       "      <th></th>\n",
       "      <th>code</th>\n",
       "      <th>count</th>\n",
       "    </tr>\n",
       "  </thead>\n",
       "  <tbody>\n",
       "    <tr>\n",
       "      <th>5</th>\n",
       "      <td>304.0</td>\n",
       "      <td>172698</td>\n",
       "    </tr>\n",
       "    <tr>\n",
       "      <th>1</th>\n",
       "      <td>200.0</td>\n",
       "      <td>108149</td>\n",
       "    </tr>\n",
       "    <tr>\n",
       "      <th>0</th>\n",
       "      <td>NaN</td>\n",
       "      <td>2068</td>\n",
       "    </tr>\n",
       "    <tr>\n",
       "      <th>9</th>\n",
       "      <td>404.0</td>\n",
       "      <td>1450</td>\n",
       "    </tr>\n",
       "    <tr>\n",
       "      <th>7</th>\n",
       "      <td>401.0</td>\n",
       "      <td>508</td>\n",
       "    </tr>\n",
       "    <tr>\n",
       "      <th>2</th>\n",
       "      <td>206.0</td>\n",
       "      <td>65</td>\n",
       "    </tr>\n",
       "    <tr>\n",
       "      <th>3</th>\n",
       "      <td>301.0</td>\n",
       "      <td>52</td>\n",
       "    </tr>\n",
       "    <tr>\n",
       "      <th>8</th>\n",
       "      <td>403.0</td>\n",
       "      <td>37</td>\n",
       "    </tr>\n",
       "    <tr>\n",
       "      <th>4</th>\n",
       "      <td>302.0</td>\n",
       "      <td>33</td>\n",
       "    </tr>\n",
       "    <tr>\n",
       "      <th>6</th>\n",
       "      <td>400.0</td>\n",
       "      <td>1</td>\n",
       "    </tr>\n",
       "  </tbody>\n",
       "</table>\n",
       "</div>"
      ],
      "text/plain": [
       "    code   count\n",
       "5  304.0  172698\n",
       "1  200.0  108149\n",
       "0    NaN    2068\n",
       "9  404.0    1450\n",
       "7  401.0     508\n",
       "2  206.0      65\n",
       "3  301.0      52\n",
       "8  403.0      37\n",
       "4  302.0      33\n",
       "6  400.0       1"
      ]
     },
     "execution_count": 25,
     "metadata": {},
     "output_type": "execute_result"
    }
   ],
   "source": [
    "status_freq_pd_df = (status_freq_df\n",
    "                         .toPandas()\n",
    "                         .sort_values(by=['count'],\n",
    "                                      ascending=False))\n",
    "status_freq_pd_df"
   ]
  },
  {
   "cell_type": "code",
   "execution_count": 26,
   "metadata": {},
   "outputs": [
    {
     "data": {
      "text/plain": [
       "<seaborn.axisgrid.FacetGrid at 0x7f93da873460>"
      ]
     },
     "execution_count": 26,
     "metadata": {},
     "output_type": "execute_result"
    },
    {
     "data": {
      "image/png": "[encoded data removed]",
      "text/plain": [
       "<Figure size 360x360 with 1 Axes>"
      ]
     },
     "metadata": {
      "needs_background": "light"
     },
     "output_type": "display_data"
    }
   ],
   "source": [
    "import matplotlib.pyplot as plt\n",
    "import seaborn as sns\n",
    "import numpy as np\n",
    "%matplotlib inline\n",
    "\n",
    "sns.catplot(x='code', y='count', data=status_freq_pd_df,\n",
    "            kind='bar', order=status_freq_pd_df['code'])"
   ]
  },
  {
   "cell_type": "code",
   "execution_count": 27,
   "metadata": {},
   "outputs": [
    {
     "name": "stdout",
     "output_type": "stream",
     "text": [
      "+----+------+------------------+\n",
      "|code| count|        log(count)|\n",
      "+----+------+------------------+\n",
      "|null|  2068|  7.63433723562832|\n",
      "| 200|108149|11.591265184921443|\n",
      "| 206|    65| 4.174387269895637|\n",
      "| 301|    52|3.9512437185814275|\n",
      "| 302|    33|3.4965075614664802|\n",
      "| 304|172698|12.059299683291801|\n",
      "| 400|     1|               0.0|\n",
      "| 401|   508| 6.230481447578482|\n",
      "| 403|    37|3.6109179126442243|\n",
      "| 404|  1450|  7.27931883541462|\n",
      "+----+------+------------------+\n",
      "\n"
     ]
    }
   ],
   "source": [
    "log_freq_df = status_freq_df.withColumn('log(count)',\n",
    "                                        F.log(status_freq_df['count']))\n",
    "log_freq_df.show()"
   ]
  },
  {
   "cell_type": "code",
   "execution_count": 28,
   "metadata": {},
   "outputs": [
    {
     "data": {
      "text/plain": [
       "<seaborn.axisgrid.FacetGrid at 0x7f939e15eee0>"
      ]
     },
     "execution_count": 28,
     "metadata": {},
     "output_type": "execute_result"
    },
    {
     "data": {
      "image/png": "[encoded data removed]",
      "text/plain": [
       "<Figure size 360x360 with 1 Axes>"
      ]
     },
     "metadata": {
      "needs_background": "light"
     },
     "output_type": "display_data"
    }
   ],
   "source": [
    "log_freq_pd_df = (log_freq_df\n",
    "                    .toPandas()\n",
    "                    .sort_values(by=['log(count)'],\n",
    "                                 ascending=False))\n",
    "sns.catplot(x='code', y='log(count)', data=log_freq_pd_df,\n",
    "            kind='bar', order=status_freq_pd_df['code'])"
   ]
  },
  {
   "cell_type": "code",
   "execution_count": null,
   "metadata": {},
   "outputs": [],
   "source": []
  }
 ],
 "metadata": {
  "kernelspec": {
   "display_name": "Python 3",
   "language": "python",
   "name": "python3"
  },
  "language_info": {
   "codemirror_mode": {
    "name": "ipython",
    "version": 3
   },
   "file_extension": ".py",
   "mimetype": "text/x-python",
   "name": "python",
   "nbconvert_exporter": "python",
   "pygments_lexer": "ipython3",
   "version": "3.8.0"
  }
 },
 "nbformat": 4,
 "nbformat_minor": 4
}
