{
 "cells": [
  {
   "cell_type": "code",
   "execution_count": 1,
   "metadata": {},
   "outputs": [],
   "source": [
    "import findspark\n",
    "findspark.init()"
   ]
  },
  {
   "cell_type": "code",
   "execution_count": 2,
   "metadata": {},
   "outputs": [],
   "source": [
    "# configure spark variables\n",
    "from pyspark.context import SparkContext\n",
    "from pyspark.sql.context import SQLContext\n",
    "from pyspark.sql.session import SparkSession\n",
    "   \n",
    "sc = SparkContext()\n",
    "sqlContext = SQLContext(sc)\n",
    "spark = SparkSession(sc)\n",
    "\n",
    "# load up other dependencies\n",
    "import re\n",
    "import pandas as pd"
   ]
  },
  {
   "cell_type": "code",
   "execution_count": 3,
   "metadata": {},
   "outputs": [
    {
     "name": "stdout",
     "output_type": "stream",
     "text": [
      "<re.Match object; span=(0, 25), match=\"I'm searching for a spark\"> 0 25\n",
      "<re.Match object; span=(25, 36), match=' in PySpark'> 25 36\n"
     ]
    }
   ],
   "source": [
    "m = re.finditer(r'.*?(spark).*?', \"I'm searching for a spark in PySpark\", re.I)\n",
    "for match in m:\n",
    "    print(match, match.start(), match.end())"
   ]
  },
  {
   "cell_type": "code",
   "execution_count": 4,
   "metadata": {},
   "outputs": [
    {
     "name": "stdout",
     "output_type": "stream",
     "text": [
      "root\n",
      " |-- value: string (nullable = true)\n",
      "\n"
     ]
    }
   ],
   "source": [
    "raw_data_files = ['/home/spark/files/access_log1', '/home/spark/files/access_log2']\n",
    "base_df = spark.read.text(raw_data_files)\n",
    "base_df.printSchema()"
   ]
  },
  {
   "cell_type": "code",
   "execution_count": 5,
   "metadata": {},
   "outputs": [
    {
     "name": "stdout",
     "output_type": "stream",
     "text": [
      "+-------------------------------------------------------------------------------------------------------------------------------------------------------------------------------------------------------------------------------------+\n",
      "|value                                                                                                                                                                                                                                |\n",
      "+-------------------------------------------------------------------------------------------------------------------------------------------------------------------------------------------------------------------------------------+\n",
      "|2001:6d8:10:4400:451:aebb:715b:b6df - - [10/Nov/2019:03:44:13 +0100] \"GET /wpad.dat HTTP/1.1\" 304 - \"-\" \"-\"                                                                                                                          |\n",
      "|2001:6d8:10:4400::1:100b - - [10/Nov/2019:03:44:13 +0100] \"GET /wpad.dat HTTP/1.1\" 200 137 \"-\" \"Mozilla/5.0 (Windows NT 10.0; WOW64) AppleWebKit/537.36 (KHTML, like Gecko) ReaderServices/19.12.20036 Chrome/80.0.0.0 Safari/537.36\"|\n",
      "|172.30.254.52 - - [10/Nov/2019:03:44:15 +0100] \"GET /wpad.dat HTTP/1.1\" 200 137 \"-\" \"Mozilla/5.0 (Windows NT 6.1; WOW64) AppleWebKit/537.36 (KHTML, like Gecko) ReaderServices/19.12.20036 Chrome/80.0.0.0 Safari/537.36\"            |\n",
      "|2001:6d8:10:4400::1:100b - - [10/Nov/2019:03:44:21 +0100] \"GET /wpad.dat HTTP/1.1\" 200 137 \"-\" \"Mozilla/5.0 (Windows NT 10.0; WOW64) AppleWebKit/537.36 (KHTML, like Gecko) ReaderServices/19.12.20036 Chrome/80.0.0.0 Safari/537.36\"|\n",
      "|172.30.254.52 - - [10/Nov/2019:03:44:23 +0100] \"GET /wpad.dat HTTP/1.1\" 200 137 \"-\" \"Mozilla/5.0 (Windows NT 6.1; WOW64) AppleWebKit/537.36 (KHTML, like Gecko) ReaderServices/19.12.20036 Chrome/80.0.0.0 Safari/537.36\"            |\n",
      "+-------------------------------------------------------------------------------------------------------------------------------------------------------------------------------------------------------------------------------------+\n",
      "only showing top 5 rows\n",
      "\n"
     ]
    }
   ],
   "source": [
    "type(base_df)\n",
    "base_df.show(5, truncate=False)"
   ]
  },
  {
   "cell_type": "code",
   "execution_count": 6,
   "metadata": {},
   "outputs": [
    {
     "data": {
      "text/plain": [
       "[Row(value='2001:6d8:10:4400:451:aebb:715b:b6df - - [10/Nov/2019:03:44:13 +0100] \"GET /wpad.dat HTTP/1.1\" 304 - \"-\" \"-\"'),\n",
       " Row(value='2001:6d8:10:4400::1:100b - - [10/Nov/2019:03:44:13 +0100] \"GET /wpad.dat HTTP/1.1\" 200 137 \"-\" \"Mozilla/5.0 (Windows NT 10.0; WOW64) AppleWebKit/537.36 (KHTML, like Gecko) ReaderServices/19.12.20036 Chrome/80.0.0.0 Safari/537.36\"'),\n",
       " Row(value='172.30.254.52 - - [10/Nov/2019:03:44:15 +0100] \"GET /wpad.dat HTTP/1.1\" 200 137 \"-\" \"Mozilla/5.0 (Windows NT 6.1; WOW64) AppleWebKit/537.36 (KHTML, like Gecko) ReaderServices/19.12.20036 Chrome/80.0.0.0 Safari/537.36\"'),\n",
       " Row(value='2001:6d8:10:4400::1:100b - - [10/Nov/2019:03:44:21 +0100] \"GET /wpad.dat HTTP/1.1\" 200 137 \"-\" \"Mozilla/5.0 (Windows NT 10.0; WOW64) AppleWebKit/537.36 (KHTML, like Gecko) ReaderServices/19.12.20036 Chrome/80.0.0.0 Safari/537.36\"'),\n",
       " Row(value='172.30.254.52 - - [10/Nov/2019:03:44:23 +0100] \"GET /wpad.dat HTTP/1.1\" 200 137 \"-\" \"Mozilla/5.0 (Windows NT 6.1; WOW64) AppleWebKit/537.36 (KHTML, like Gecko) ReaderServices/19.12.20036 Chrome/80.0.0.0 Safari/537.36\"')]"
      ]
     },
     "execution_count": 6,
     "metadata": {},
     "output_type": "execute_result"
    }
   ],
   "source": [
    "base_df_rdd = base_df.rdd\n",
    "type(base_df_rdd)\n",
    "base_df_rdd.take(5)"
   ]
  },
  {
   "cell_type": "code",
   "execution_count": 7,
   "metadata": {},
   "outputs": [
    {
     "name": "stdout",
     "output_type": "stream",
     "text": [
      "+--------------------+--------------------+------+---------+--------+------+------------+\n",
      "|                host|           timestamp|method| endpoint|protocol|status|content_size|\n",
      "+--------------------+--------------------+------+---------+--------+------+------------+\n",
      "|2001:6d8:10:4400:...|10/Nov/2019:03:44...|   GET|/wpad.dat|HTTP/1.1|   304|        null|\n",
      "|2001:6d8:10:4400:...|10/Nov/2019:03:44...|   GET|/wpad.dat|HTTP/1.1|   200|         137|\n",
      "|       172.30.254.52|10/Nov/2019:03:44...|   GET|/wpad.dat|HTTP/1.1|   200|         137|\n",
      "|2001:6d8:10:4400:...|10/Nov/2019:03:44...|   GET|/wpad.dat|HTTP/1.1|   200|         137|\n",
      "|       172.30.254.52|10/Nov/2019:03:44...|   GET|/wpad.dat|HTTP/1.1|   200|         137|\n",
      "|2001:6d8:10:4401:...|10/Nov/2019:03:44...|   GET|/wpad.dat|HTTP/1.1|   304|        null|\n",
      "|2001:6d8:10:4400:...|10/Nov/2019:03:44...|   GET|/wpad.dat|HTTP/1.1|   200|         137|\n",
      "|       172.30.254.52|10/Nov/2019:03:44...|   GET|/wpad.dat|HTTP/1.1|   200|         137|\n",
      "|2001:6d8:10:4400:...|10/Nov/2019:03:44...|   GET|/wpad.dat|HTTP/1.1|   304|        null|\n",
      "|2001:6d8:10:4400:...|10/Nov/2019:03:44...|   GET|/wpad.dat|HTTP/1.1|   200|         137|\n",
      "+--------------------+--------------------+------+---------+--------+------+------------+\n",
      "only showing top 10 rows\n",
      "\n",
      "(285061, 7)\n"
     ]
    }
   ],
   "source": [
    "from pyspark.sql.functions import regexp_extract\n",
    "\n",
    "log_df = base_df.select(regexp_extract('value', r'(^[\\S+]+) -', 1).alias('host'),\n",
    "                          regexp_extract('value', r'(^[\\S+]+) - - \\[(.*)\\]', 2).alias('timestamp'),\n",
    "                          regexp_extract('value', r'(^[\\S+]+) - - \\[(.*)\\] \"(\\w+)', 3).alias('method'),\n",
    "                          regexp_extract('value', r'(^[\\S+]+) - - \\[(.*)\\] \"(\\w+) (.*?) (.*?)', 4).alias('endpoint'),\n",
    "                          regexp_extract('value', r'(^[\\S+]+) - - \\[(.*) \\+(.*)\\] \"(\\w+) (.*?) (.*?)\" ', 6).alias('protocol'),\n",
    "                          regexp_extract('value', r'(^[\\S+]+) - - \\[(.*) \\+(.*)\\] \"(\\w+) (.*?) (.*?)\" (\\d+) ', 7).cast('integer').alias('status'),\n",
    "                          regexp_extract('value', r'(^[\\S+]+) - - \\[(.*) \\+(.*)\\] \"(\\w+) (.*?) (.*?)\" (\\d+) (\\d+)', 8).cast('integer').alias('content_size'))\n",
    "log_df.show(10, truncate=True)\n",
    "print((log_df.count(), len(log_df.columns)))"
   ]
  },
  {
   "cell_type": "code",
   "execution_count": 8,
   "metadata": {},
   "outputs": [
    {
     "data": {
      "text/plain": [
       "175714"
      ]
     },
     "execution_count": 8,
     "metadata": {},
     "output_type": "execute_result"
    }
   ],
   "source": [
    "(log_df\n",
    "    .filter(log_df['content_size']\n",
    "                .isNull())\n",
    "    .count())"
   ]
  },
  {
   "cell_type": "code",
   "execution_count": 9,
   "metadata": {},
   "outputs": [
    {
     "data": {
      "text/plain": [
       "175714"
      ]
     },
     "execution_count": 9,
     "metadata": {},
     "output_type": "execute_result"
    }
   ],
   "source": [
    "bad_rows_df = log_df.filter(log_df['host'].isNull()|\n",
    "                            log_df['timestamp'].isNull() |\n",
    "                            log_df['method'].isNull() |\n",
    "                            log_df['endpoint'].isNull() |\n",
    "                            log_df['status'].isNull() |\n",
    "                            log_df['content_size'].isNull()|\n",
    "                            log_df['protocol'].isNull())\n",
    "bad_rows_df.count()"
   ]
  },
  {
   "cell_type": "code",
   "execution_count": 10,
   "metadata": {},
   "outputs": [
    {
     "name": "stdout",
     "output_type": "stream",
     "text": [
      "+--------------------+--------------------+------+---------+--------+------+------------+\n",
      "|                host|           timestamp|method| endpoint|protocol|status|content_size|\n",
      "+--------------------+--------------------+------+---------+--------+------+------------+\n",
      "|2001:6d8:10:4400:...|10/Nov/2019:03:44...|   GET|/wpad.dat|HTTP/1.1|   304|        null|\n",
      "|2001:6d8:10:4401:...|10/Nov/2019:03:44...|   GET|/wpad.dat|HTTP/1.1|   304|        null|\n",
      "|2001:6d8:10:4400:...|10/Nov/2019:03:44...|   GET|/wpad.dat|HTTP/1.1|   304|        null|\n",
      "|2001:6d8:10:4400:...|10/Nov/2019:03:44...|   GET|/wpad.dat|HTTP/1.1|   304|        null|\n",
      "|2001:6d8:10:4400:...|10/Nov/2019:03:44...|   GET|/wpad.dat|HTTP/1.1|   304|        null|\n",
      "+--------------------+--------------------+------+---------+--------+------+------------+\n",
      "only showing top 5 rows\n",
      "\n"
     ]
    }
   ],
   "source": [
    "bad_rows_df.show(5)"
   ]
  },
  {
   "cell_type": "code",
   "execution_count": 11,
   "metadata": {},
   "outputs": [
    {
     "data": {
      "text/plain": [
       "285061"
      ]
     },
     "execution_count": 11,
     "metadata": {},
     "output_type": "execute_result"
    }
   ],
   "source": [
    "log_df = log_df.na.fill({'content_size': 0})\n",
    "log_df.count()"
   ]
  },
  {
   "cell_type": "code",
   "execution_count": 12,
   "metadata": {},
   "outputs": [
    {
     "data": {
      "text/plain": [
       "283386"
      ]
     },
     "execution_count": 12,
     "metadata": {},
     "output_type": "execute_result"
    }
   ],
   "source": [
    "log_df1 = log_df[~log_df['timestamp'].isin([''])]\n",
    "log_df1.count()"
   ]
  },
  {
   "cell_type": "code",
   "execution_count": 13,
   "metadata": {},
   "outputs": [],
   "source": [
    "from pyspark.sql.functions import udf\n",
    "\n",
    "month_map = {\n",
    "  'Jan': 1, 'Feb': 2, 'Mar':3, 'Apr':4, 'May':5, 'Jun':6, 'Jul':7,\n",
    "  'Aug':8,  'Sep': 9, 'Oct':10, 'Nov': 11, 'Dec': 12\n",
    "}\n",
    "\n",
    "def parse_clf_time(text):\n",
    "    \"\"\" Convert Common Log time format into a Python datetime object\n",
    "    Args:\n",
    "        text (str): date and time in Apache time format [dd/mmm/yyyy:hh:mm:ss (+/-)zzzz]\n",
    "    Returns:\n",
    "        a string suitable for passing to CAST('timestamp')\n",
    "    \"\"\"\n",
    "    # NOTE: We're ignoring the time zones here, might need to be handled depending on the problem you are solving\n",
    "    return \"{0:04d}-{1:02d}-{2:02d} {3:02d}:{4:02d}:{5:02d}\".format(\n",
    "      int(text[7:11]),\n",
    "      month_map[text[3:6]],\n",
    "      int(text[0:2]),\n",
    "      int(text[12:14]),\n",
    "      int(text[15:17]),\n",
    "      int(text[18:20])\n",
    "    )"
   ]
  },
  {
   "cell_type": "code",
   "execution_count": 14,
   "metadata": {},
   "outputs": [],
   "source": [
    "udf_parse_time = udf(parse_clf_time)\n",
    "\n",
    "log_dfn = (log_df1.select('*', udf_parse_time(log_df1['timestamp'])\n",
    "                                   .cast('timestamp')\n",
    "                                   .alias('time'))\n",
    "                                   .drop('timestamp'))"
   ]
  },
  {
   "cell_type": "code",
   "execution_count": 15,
   "metadata": {},
   "outputs": [
    {
     "name": "stdout",
     "output_type": "stream",
     "text": [
      "root\n",
      " |-- host: string (nullable = true)\n",
      " |-- method: string (nullable = true)\n",
      " |-- endpoint: string (nullable = true)\n",
      " |-- protocol: string (nullable = true)\n",
      " |-- status: integer (nullable = true)\n",
      " |-- content_size: integer (nullable = false)\n",
      " |-- time: timestamp (nullable = true)\n",
      "\n"
     ]
    }
   ],
   "source": [
    "log_dfn.printSchema()"
   ]
  },
  {
   "cell_type": "code",
   "execution_count": 16,
   "metadata": {},
   "outputs": [],
   "source": [
    "log_dfn.createOrReplaceTempView(\"logs\")"
   ]
  },
  {
   "cell_type": "code",
   "execution_count": 17,
   "metadata": {},
   "outputs": [],
   "source": [
    "import matplotlib.pyplot as plt\n",
    "import seaborn as sns\n",
    "import numpy as np\n",
    "%matplotlib inline"
   ]
  },
  {
   "cell_type": "code",
   "execution_count": 18,
   "metadata": {},
   "outputs": [],
   "source": [
    "def bar_plot_list_of_tuples_horizontal(input_list,x_label,y_label,plot_title):\n",
    "    y_labels = [val[0] for val in input_list]\n",
    "    x_labels = [val[1] for val in input_list]\n",
    "    plt.figure(figsize=(12, 6))\n",
    "    plt.xlabel(x_label)\n",
    "    plt.ylabel(y_label)\n",
    "    plt.title(plot_title)\n",
    "    ax = pd.Series(x_labels).plot(kind='barh')\n",
    "    ax.set_yticklabels(y_labels)\n",
    "    for i, v in enumerate(x_labels):\n",
    "        ax.text(int(v) + 0.5, i - 0.25, str(v),ha='center', va='bottom')"
   ]
  },
  {
   "cell_type": "code",
   "execution_count": 19,
   "metadata": {},
   "outputs": [],
   "source": [
    "topEndpointsMaxSize = (sqlContext\n",
    "                .sql(\"SELECT endpoint,content_size/1024 FROM logs ORDER BY content_size DESC LIMIT 10\")\n",
    "                .rdd.map(lambda row: (row[0], row[1]))\n",
    "                .collect())"
   ]
  },
  {
   "cell_type": "code",
   "execution_count": 20,
   "metadata": {},
   "outputs": [
    {
     "data": {
      "image/png": "[encoded data removed]",
      "text/plain": [
       "<Figure size 864x432 with 1 Axes>"
      ]
     },
     "metadata": {
      "needs_background": "light"
     },
     "output_type": "display_data"
    }
   ],
   "source": [
    "bar_plot_list_of_tuples_horizontal(topEndpointsMaxSize,'Data Flow - MB','Enpoints','Endpoint Analysis based on Max Content Size')"
   ]
  },
  {
   "cell_type": "code",
   "execution_count": 21,
   "metadata": {},
   "outputs": [],
   "source": [
    "frequentIpAddressesHits = (sqlContext\n",
    "               .sql(\"SELECT host, COUNT(*) AS total FROM logs GROUP BY host HAVING total > 1000\")\n",
    "               .rdd.map(lambda row: (row[0], row[1]))\n",
    "               .collect()) "
   ]
  },
  {
   "cell_type": "code",
   "execution_count": 22,
   "metadata": {},
   "outputs": [],
   "source": [
    "import pyspark.sql.functions as F\n",
    "host_day_df = log_dfn.select(log_dfn.host,\n",
    "                             F.dayofmonth('time').alias('day'))"
   ]
  },
  {
   "cell_type": "code",
   "execution_count": 23,
   "metadata": {},
   "outputs": [
    {
     "name": "stdout",
     "output_type": "stream",
     "text": [
      "Total distinct HTTP Status Codes: 10\n"
     ]
    }
   ],
   "source": [
    "status_freq_df = (log_dfn\n",
    "                     .groupBy('status')\n",
    "                     .count()\n",
    "                     .sort('status')\n",
    "                     .cache())\n",
    "print('Total distinct HTTP Status Codes:', status_freq_df.count()) "
   ]
  },
  {
   "cell_type": "code",
   "execution_count": 24,
   "metadata": {},
   "outputs": [
    {
     "name": "stdout",
     "output_type": "stream",
     "text": [
      "+------+------+------------------+\n",
      "|status| count|        log(count)|\n",
      "+------+------+------------------+\n",
      "|  null|   393| 5.973809611869261|\n",
      "|   200|108149|11.591265184921443|\n",
      "|   206|    65| 4.174387269895637|\n",
      "|   301|    52|3.9512437185814275|\n",
      "|   302|    33|3.4965075614664802|\n",
      "|   304|172698|12.059299683291801|\n",
      "|   400|     1|               0.0|\n",
      "|   401|   508| 6.230481447578482|\n",
      "|   403|    37|3.6109179126442243|\n",
      "|   404|  1450|  7.27931883541462|\n",
      "+------+------+------------------+\n",
      "\n"
     ]
    }
   ],
   "source": [
    "log_freq_df = status_freq_df.withColumn('log(count)',\n",
    "                                        F.log(status_freq_df['count']))\n",
    "log_freq_df.show()"
   ]
  },
  {
   "cell_type": "code",
   "execution_count": 25,
   "metadata": {},
   "outputs": [
    {
     "name": "stdout",
     "output_type": "stream",
     "text": [
      "+-----------------------------------+---+\n",
      "|host                               |day|\n",
      "+-----------------------------------+---+\n",
      "|2001:6d8:10:4400:451:aebb:715b:b6df|10 |\n",
      "|2001:6d8:10:4400::1:100b           |10 |\n",
      "|172.30.254.52                      |10 |\n",
      "|2001:6d8:10:4400::1:100b           |10 |\n",
      "|172.30.254.52                      |10 |\n",
      "+-----------------------------------+---+\n",
      "only showing top 5 rows\n",
      "\n"
     ]
    }
   ],
   "source": [
    "host_day_df.show(5, truncate=False)"
   ]
  },
  {
   "cell_type": "code",
   "execution_count": 26,
   "metadata": {},
   "outputs": [],
   "source": [
    "def_mr = pd.get_option('max_rows')\n",
    "pd.set_option('max_rows', 10)\n",
    "\n",
    "daily_hosts_df = (host_day_df\n",
    "                     .groupBy('day')\n",
    "                     .count()\n",
    "                     .sort(\"day\"))"
   ]
  },
  {
   "cell_type": "code",
   "execution_count": 27,
   "metadata": {},
   "outputs": [
    {
     "name": "stdout",
     "output_type": "stream",
     "text": [
      "+---+-----+\n",
      "|day|count|\n",
      "+---+-----+\n",
      "| 10|40070|\n",
      "| 11|44879|\n",
      "| 13|22531|\n",
      "| 14|35302|\n",
      "| 15|34202|\n",
      "| 16|37332|\n",
      "| 17|34789|\n",
      "| 18|20355|\n",
      "| 19|10480|\n",
      "| 20| 3446|\n",
      "+---+-----+\n",
      "\n"
     ]
    }
   ],
   "source": [
    "daily_hosts_df.show(10, truncate=True)"
   ]
  },
  {
   "cell_type": "code",
   "execution_count": 28,
   "metadata": {},
   "outputs": [],
   "source": [
    "daily_hosts_pd_df = (daily_hosts_df\n",
    "                         .toPandas()\n",
    "                         .sort_values(by=['count'],\n",
    "                                      ascending=False))"
   ]
  },
  {
   "cell_type": "code",
   "execution_count": 29,
   "metadata": {},
   "outputs": [
    {
     "data": {
      "image/png": "[encoded data removed]",
      "text/plain": [
       "<Figure size 540x360 with 1 Axes>"
      ]
     },
     "metadata": {
      "needs_background": "light"
     },
     "output_type": "display_data"
    }
   ],
   "source": [
    "c = sns.catplot(x='day', y='count',\n",
    "                data=daily_hosts_pd_df,\n",
    "                kind='point', height=5,\n",
    "                aspect=1.5)"
   ]
  },
  {
   "cell_type": "code",
   "execution_count": 30,
   "metadata": {},
   "outputs": [],
   "source": [
    "import findspark\n",
    "findspark.init()"
   ]
  },
  {
   "cell_type": "code",
   "execution_count": 31,
   "metadata": {},
   "outputs": [],
   "source": [
    "from pyspark.sql import SparkSession    \n",
    "spark = SparkSession \\\n",
    "        .builder \\\n",
    "        .appName(\"Python Spark Data Exploration\") \\\n",
    "        .config(\"spark.some.config.option\", \"some-value\") \\\n",
    "        .getOrCreate()"
   ]
  },
  {
   "cell_type": "code",
   "execution_count": 32,
   "metadata": {},
   "outputs": [],
   "source": [
    "#import libraries\n",
    "import pandas as pd\n",
    "import matplotlib.pyplot as plt\n",
    "import random\n",
    "\n",
    "%matplotlib inline\n",
    "\n",
    "#set ggplot style\n",
    "plt.style.use('ggplot')"
   ]
  },
  {
   "cell_type": "code",
   "execution_count": 33,
   "metadata": {},
   "outputs": [],
   "source": [
    "df = spark.read.format('com.databricks.spark.csv').\\\n",
    "                               options(header='true', \\\n",
    "                               inferschema='true').load(\"/home/spark/files/2008.csv\",header=True);"
   ]
  },
  {
   "cell_type": "code",
   "execution_count": 34,
   "metadata": {},
   "outputs": [
    {
     "data": {
      "text/plain": [
       "['Year',\n",
       " 'Month',\n",
       " 'DayofMonth',\n",
       " 'DayOfWeek',\n",
       " 'DepTime',\n",
       " 'CRSDepTime',\n",
       " 'ArrTime',\n",
       " 'CRSArrTime',\n",
       " 'UniqueCarrier',\n",
       " 'FlightNum',\n",
       " 'TailNum',\n",
       " 'ActualElapsedTime',\n",
       " 'CRSElapsedTime',\n",
       " 'AirTime',\n",
       " 'ArrDelay',\n",
       " 'DepDelay',\n",
       " 'Origin',\n",
       " 'Dest',\n",
       " 'Distance',\n",
       " 'TaxiIn',\n",
       " 'TaxiOut',\n",
       " 'Cancelled',\n",
       " 'CancellationCode',\n",
       " 'Diverted',\n",
       " 'CarrierDelay',\n",
       " 'WeatherDelay',\n",
       " 'NASDelay',\n",
       " 'SecurityDelay',\n",
       " 'LateAircraftDelay']"
      ]
     },
     "execution_count": 34,
     "metadata": {},
     "output_type": "execute_result"
    }
   ],
   "source": [
    "df.columns"
   ]
  },
  {
   "cell_type": "code",
   "execution_count": 35,
   "metadata": {},
   "outputs": [
    {
     "name": "stdout",
     "output_type": "stream",
     "text": [
      "+-------------+-------+\n",
      "|UniqueCarrier|  count|\n",
      "+-------------+-------+\n",
      "|           UA| 449515|\n",
      "|           AA| 604885|\n",
      "|           NW| 347652|\n",
      "|           EV| 280575|\n",
      "|           B6| 196091|\n",
      "|           DL| 451931|\n",
      "|           OO| 567159|\n",
      "|           F9|  95762|\n",
      "|           YV| 254930|\n",
      "|           US| 453589|\n",
      "|           AQ|   7800|\n",
      "|           MQ| 490693|\n",
      "|           OH| 197607|\n",
      "|           HA|  61826|\n",
      "|           XE| 374510|\n",
      "|           AS| 151102|\n",
      "|           FL| 261684|\n",
      "|           CO| 298455|\n",
      "|           WN|1201754|\n",
      "|           9E| 262208|\n",
      "+-------------+-------+\n",
      "\n"
     ]
    }
   ],
   "source": [
    "df.groupBy(\"UniqueCarrier\").count().show()"
   ]
  },
  {
   "cell_type": "code",
   "execution_count": 36,
   "metadata": {},
   "outputs": [
    {
     "data": {
      "text/plain": [
       "<bound method DataFrame.cache of DataFrame[Year: int, Month: int, DayofMonth: int, DayOfWeek: int, DepTime: string, CRSDepTime: int, ArrTime: string, CRSArrTime: int, UniqueCarrier: string, FlightNum: int, TailNum: string, ActualElapsedTime: string, CRSElapsedTime: string, AirTime: string, ArrDelay: string, DepDelay: string, Origin: string, Dest: string, Distance: int, TaxiIn: string, TaxiOut: string, Cancelled: int, CancellationCode: string, Diverted: int, CarrierDelay: string, WeatherDelay: string, NASDelay: string, SecurityDelay: string, LateAircraftDelay: string]>"
      ]
     },
     "execution_count": 36,
     "metadata": {},
     "output_type": "execute_result"
    }
   ],
   "source": [
    "df.cache"
   ]
  },
  {
   "cell_type": "code",
   "execution_count": 37,
   "metadata": {},
   "outputs": [],
   "source": [
    "df.createOrReplaceTempView(\"flights\")"
   ]
  },
  {
   "cell_type": "code",
   "execution_count": 38,
   "metadata": {},
   "outputs": [],
   "source": [
    "spark.catalog.cacheTable(\"flights\")"
   ]
  },
  {
   "cell_type": "code",
   "execution_count": 39,
   "metadata": {},
   "outputs": [],
   "source": [
    "import matplotlib.pyplot as plt\n",
    "import seaborn as sns\n",
    "import numpy as np\n",
    "%matplotlib inline"
   ]
  },
  {
   "cell_type": "code",
   "execution_count": 40,
   "metadata": {},
   "outputs": [],
   "source": [
    "import pyspark.sql.functions as F\n",
    "crshour = df.select('DepDelay', F.round(F.col('CRSDepTime')/100).cast('integer').alias('CRSDepHour'))"
   ]
  },
  {
   "cell_type": "code",
   "execution_count": 41,
   "metadata": {},
   "outputs": [
    {
     "name": "stdout",
     "output_type": "stream",
     "text": [
      "+--------+----------+\n",
      "|DepDelay|CRSDepHour|\n",
      "+--------+----------+\n",
      "|       8|        20|\n",
      "|      19|         7|\n",
      "|       8|         6|\n",
      "|      -4|         9|\n",
      "|      34|        18|\n",
      "|      25|        19|\n",
      "|      67|        18|\n",
      "|      -1|        10|\n",
      "|       2|         6|\n",
      "|       0|        16|\n",
      "|       6|         7|\n",
      "|      94|        15|\n",
      "|      -4|        14|\n",
      "|       0|         7|\n",
      "|       2|        17|\n",
      "|       9|        10|\n",
      "|      27|        14|\n",
      "|       9|         7|\n",
      "|      28|        13|\n",
      "|      51|        13|\n",
      "+--------+----------+\n",
      "only showing top 20 rows\n",
      "\n"
     ]
    }
   ],
   "source": [
    "crshour.show()"
   ]
  },
  {
   "cell_type": "code",
   "execution_count": 42,
   "metadata": {},
   "outputs": [],
   "source": [
    "crshour_count = ( crshour.filter(df.DepDelay > 20).groupBy('crsdephour').count().sort('crsdephour').cache())"
   ]
  },
  {
   "cell_type": "code",
   "execution_count": 43,
   "metadata": {},
   "outputs": [],
   "source": [
    "crshour_count_pd = ( crshour_count.toPandas().sort_values(by=['crsdephour']))"
   ]
  },
  {
   "cell_type": "code",
   "execution_count": 44,
   "metadata": {},
   "outputs": [
    {
     "data": {
      "text/html": [
       "<div>\n",
       "<style scoped>\n",
       "    .dataframe tbody tr th:only-of-type {\n",
       "        vertical-align: middle;\n",
       "    }\n",
       "\n",
       "    .dataframe tbody tr th {\n",
       "        vertical-align: top;\n",
       "    }\n",
       "\n",
       "    .dataframe thead th {\n",
       "        text-align: right;\n",
       "    }\n",
       "</style>\n",
       "<table border=\"1\" class=\"dataframe\">\n",
       "  <thead>\n",
       "    <tr style=\"text-align: right;\">\n",
       "      <th></th>\n",
       "      <th>crsdephour</th>\n",
       "      <th>count</th>\n",
       "    </tr>\n",
       "  </thead>\n",
       "  <tbody>\n",
       "    <tr>\n",
       "      <th>0</th>\n",
       "      <td>0</td>\n",
       "      <td>798</td>\n",
       "    </tr>\n",
       "    <tr>\n",
       "      <th>1</th>\n",
       "      <td>1</td>\n",
       "      <td>558</td>\n",
       "    </tr>\n",
       "    <tr>\n",
       "      <th>2</th>\n",
       "      <td>2</td>\n",
       "      <td>125</td>\n",
       "    </tr>\n",
       "    <tr>\n",
       "      <th>3</th>\n",
       "      <td>3</td>\n",
       "      <td>106</td>\n",
       "    </tr>\n",
       "    <tr>\n",
       "      <th>4</th>\n",
       "      <td>4</td>\n",
       "      <td>88</td>\n",
       "    </tr>\n",
       "    <tr>\n",
       "      <th>...</th>\n",
       "      <td>...</td>\n",
       "      <td>...</td>\n",
       "    </tr>\n",
       "    <tr>\n",
       "      <th>20</th>\n",
       "      <td>20</td>\n",
       "      <td>72519</td>\n",
       "    </tr>\n",
       "    <tr>\n",
       "      <th>21</th>\n",
       "      <td>21</td>\n",
       "      <td>58941</td>\n",
       "    </tr>\n",
       "    <tr>\n",
       "      <th>22</th>\n",
       "      <td>22</td>\n",
       "      <td>18554</td>\n",
       "    </tr>\n",
       "    <tr>\n",
       "      <th>23</th>\n",
       "      <td>23</td>\n",
       "      <td>5861</td>\n",
       "    </tr>\n",
       "    <tr>\n",
       "      <th>24</th>\n",
       "      <td>24</td>\n",
       "      <td>1925</td>\n",
       "    </tr>\n",
       "  </tbody>\n",
       "</table>\n",
       "<p>25 rows × 2 columns</p>\n",
       "</div>"
      ],
      "text/plain": [
       "    crsdephour  count\n",
       "0            0    798\n",
       "1            1    558\n",
       "2            2    125\n",
       "3            3    106\n",
       "4            4     88\n",
       "..         ...    ...\n",
       "20          20  72519\n",
       "21          21  58941\n",
       "22          22  18554\n",
       "23          23   5861\n",
       "24          24   1925\n",
       "\n",
       "[25 rows x 2 columns]"
      ]
     },
     "execution_count": 44,
     "metadata": {},
     "output_type": "execute_result"
    }
   ],
   "source": [
    "crshour_count_pd"
   ]
  },
  {
   "cell_type": "code",
   "execution_count": 45,
   "metadata": {},
   "outputs": [
    {
     "data": {
      "text/plain": [
       "<seaborn.axisgrid.FacetGrid at 0x7f022a994f10>"
      ]
     },
     "execution_count": 45,
     "metadata": {},
     "output_type": "execute_result"
    },
    {
     "data": {
      "image/png": "[encoded data removed]",
      "text/plain": [
       "<Figure size 360x360 with 1 Axes>"
      ]
     },
     "metadata": {
      "needs_background": "light"
     },
     "output_type": "display_data"
    }
   ],
   "source": [
    "sns.catplot(x='crsdephour', y='count', data=crshour_count_pd,kind='bar',order=crshour_count_pd['crsdephour'] )"
   ]
  },
  {
   "cell_type": "code",
   "execution_count": 46,
   "metadata": {},
   "outputs": [
    {
     "name": "stdout",
     "output_type": "stream",
     "text": [
      "+----+-----+\n",
      "|Dest|count|\n",
      "+----+-----+\n",
      "| ORD|49602|\n",
      "| ATL|35715|\n",
      "| EWR|27951|\n",
      "| DFW|22963|\n",
      "| SFO|19658|\n",
      "| DEN|18294|\n",
      "| LAX|16799|\n",
      "| LGA|15978|\n",
      "| JFK|14827|\n",
      "| LAS|14351|\n",
      "+----+-----+\n",
      "only showing top 10 rows\n",
      "\n"
     ]
    }
   ],
   "source": [
    "from pyspark.sql.functions import col\n",
    "df.filter(df.DepDelay > 40).groupBy(\"Dest\").count().orderBy(col(\"count\").desc()).show(10)"
   ]
  },
  {
   "cell_type": "code",
   "execution_count": 47,
   "metadata": {},
   "outputs": [
    {
     "name": "stdout",
     "output_type": "stream",
     "text": [
      "+-------------+------+----+--------+----------+\n",
      "|UniqueCarrier|Origin|Dest|DepDelay|CRSDepTime|\n",
      "+-------------+------+----+--------+----------+\n",
      "|           NW|   LAX| MSP|     999|       810|\n",
      "|           AA|   BDL| DFW|     998|      1325|\n",
      "|           NW|   MEM| MSP|     997|      1345|\n",
      "|           NW|   DTW| CMH|     996|      1523|\n",
      "|           MQ|   DCA| LGA|     996|      1400|\n",
      "+-------------+------+----+--------+----------+\n",
      "only showing top 5 rows\n",
      "\n"
     ]
    }
   ],
   "source": [
    "df.select(df.UniqueCarrier, df.Origin, df.Dest, df.DepDelay, df.CRSDepTime).filter(df.DepDelay > 40).orderBy(col(\"DepDelay\").desc()).show(5)"
   ]
  },
  {
   "cell_type": "code",
   "execution_count": 48,
   "metadata": {},
   "outputs": [
    {
     "name": "stdout",
     "output_type": "stream",
     "text": [
      "+-------------+-------------------+\n",
      "|UniqueCarrier|      avg(DepDelay)|\n",
      "+-------------+-------------------+\n",
      "|           UA|  14.11257661236138|\n",
      "|           AA| 13.280898264437912|\n",
      "|           NW|  6.463235656670833|\n",
      "|           EV| 11.922537970871462|\n",
      "|           B6| 12.653395748122113|\n",
      "|           DL|  8.007765572702564|\n",
      "|           OO| 7.4564427592619955|\n",
      "|           F9|  5.919601516833923|\n",
      "|           YV| 12.000675279875033|\n",
      "|           US|  5.717489671893907|\n",
      "|           AQ|-1.3977829337458108|\n",
      "|           MQ| 10.695641776641581|\n",
      "|           OH| 11.536153117856601|\n",
      "|           HA| 0.4552013450206487|\n",
      "|           XE| 11.395866476493499|\n",
      "|           AS|  6.848722010417226|\n",
      "|           FL|  9.262713040260852|\n",
      "|           CO|  13.18522978602152|\n",
      "|           WN| 10.383034750411133|\n",
      "|           9E|  6.765859659983622|\n",
      "+-------------+-------------------+\n",
      "\n"
     ]
    }
   ],
   "source": [
    "from pyspark.sql.functions import avg\n",
    "df.select(df.UniqueCarrier, df.DepDelay).groupBy(\"UniqueCarrier\").agg(avg(\"DepDelay\")).show()"
   ]
  },
  {
   "cell_type": "code",
   "execution_count": 49,
   "metadata": {},
   "outputs": [
    {
     "data": {
      "text/html": [
       "<div>\n",
       "<style scoped>\n",
       "    .dataframe tbody tr th:only-of-type {\n",
       "        vertical-align: middle;\n",
       "    }\n",
       "\n",
       "    .dataframe tbody tr th {\n",
       "        vertical-align: top;\n",
       "    }\n",
       "\n",
       "    .dataframe thead th {\n",
       "        text-align: right;\n",
       "    }\n",
       "</style>\n",
       "<table border=\"1\" class=\"dataframe\">\n",
       "  <thead>\n",
       "    <tr style=\"text-align: right;\">\n",
       "      <th></th>\n",
       "      <th>UniqueCarrier</th>\n",
       "      <th>count</th>\n",
       "    </tr>\n",
       "  </thead>\n",
       "  <tbody>\n",
       "    <tr>\n",
       "      <th>18</th>\n",
       "      <td>WN</td>\n",
       "      <td>97761</td>\n",
       "    </tr>\n",
       "    <tr>\n",
       "      <th>1</th>\n",
       "      <td>AA</td>\n",
       "      <td>71041</td>\n",
       "    </tr>\n",
       "    <tr>\n",
       "      <th>0</th>\n",
       "      <td>UA</td>\n",
       "      <td>56312</td>\n",
       "    </tr>\n",
       "    <tr>\n",
       "      <th>11</th>\n",
       "      <td>MQ</td>\n",
       "      <td>49203</td>\n",
       "    </tr>\n",
       "    <tr>\n",
       "      <th>6</th>\n",
       "      <td>OO</td>\n",
       "      <td>47291</td>\n",
       "    </tr>\n",
       "    <tr>\n",
       "      <th>...</th>\n",
       "      <td>...</td>\n",
       "      <td>...</td>\n",
       "    </tr>\n",
       "    <tr>\n",
       "      <th>19</th>\n",
       "      <td>9E</td>\n",
       "      <td>19345</td>\n",
       "    </tr>\n",
       "    <tr>\n",
       "      <th>15</th>\n",
       "      <td>AS</td>\n",
       "      <td>11031</td>\n",
       "    </tr>\n",
       "    <tr>\n",
       "      <th>7</th>\n",
       "      <td>F9</td>\n",
       "      <td>4881</td>\n",
       "    </tr>\n",
       "    <tr>\n",
       "      <th>13</th>\n",
       "      <td>HA</td>\n",
       "      <td>1393</td>\n",
       "    </tr>\n",
       "    <tr>\n",
       "      <th>10</th>\n",
       "      <td>AQ</td>\n",
       "      <td>128</td>\n",
       "    </tr>\n",
       "  </tbody>\n",
       "</table>\n",
       "<p>20 rows × 2 columns</p>\n",
       "</div>"
      ],
      "text/plain": [
       "   UniqueCarrier  count\n",
       "18            WN  97761\n",
       "1             AA  71041\n",
       "0             UA  56312\n",
       "11            MQ  49203\n",
       "6             OO  47291\n",
       "..           ...    ...\n",
       "19            9E  19345\n",
       "15            AS  11031\n",
       "7             F9   4881\n",
       "13            HA   1393\n",
       "10            AQ    128\n",
       "\n",
       "[20 rows x 2 columns]"
      ]
     },
     "execution_count": 49,
     "metadata": {},
     "output_type": "execute_result"
    }
   ],
   "source": [
    "tab1 = df.filter(df.DepDelay > 40).groupBy(\"UniqueCarrier\").count().cache()\n",
    "d1 = (tab1.toPandas().sort_values(by=['count'], ascending=False))\n",
    "d1"
   ]
  },
  {
   "cell_type": "code",
   "execution_count": 50,
   "metadata": {},
   "outputs": [
    {
     "data": {
      "text/plain": [
       "<seaborn.axisgrid.FacetGrid at 0x7f022a66bd30>"
      ]
     },
     "execution_count": 50,
     "metadata": {},
     "output_type": "execute_result"
    },
    {
     "data": {
      "image/png": "[encoded data removed]",
      "text/plain": [
       "<Figure size 360x360 with 1 Axes>"
      ]
     },
     "metadata": {
      "needs_background": "light"
     },
     "output_type": "display_data"
    }
   ],
   "source": [
    "sns.catplot(x='UniqueCarrier', y='count', data=d1,kind='bar',order=d1['UniqueCarrier'] )"
   ]
  },
  {
   "cell_type": "code",
   "execution_count": 51,
   "metadata": {},
   "outputs": [
    {
     "data": {
      "text/html": [
       "<div>\n",
       "<style scoped>\n",
       "    .dataframe tbody tr th:only-of-type {\n",
       "        vertical-align: middle;\n",
       "    }\n",
       "\n",
       "    .dataframe tbody tr th {\n",
       "        vertical-align: top;\n",
       "    }\n",
       "\n",
       "    .dataframe thead th {\n",
       "        text-align: right;\n",
       "    }\n",
       "</style>\n",
       "<table border=\"1\" class=\"dataframe\">\n",
       "  <thead>\n",
       "    <tr style=\"text-align: right;\">\n",
       "      <th></th>\n",
       "      <th>DayOfWeek</th>\n",
       "      <th>count</th>\n",
       "    </tr>\n",
       "  </thead>\n",
       "  <tbody>\n",
       "    <tr>\n",
       "      <th>0</th>\n",
       "      <td>1</td>\n",
       "      <td>162834</td>\n",
       "    </tr>\n",
       "    <tr>\n",
       "      <th>1</th>\n",
       "      <td>2</td>\n",
       "      <td>147174</td>\n",
       "    </tr>\n",
       "    <tr>\n",
       "      <th>2</th>\n",
       "      <td>3</td>\n",
       "      <td>144570</td>\n",
       "    </tr>\n",
       "    <tr>\n",
       "      <th>3</th>\n",
       "      <td>4</td>\n",
       "      <td>159197</td>\n",
       "    </tr>\n",
       "    <tr>\n",
       "      <th>4</th>\n",
       "      <td>5</td>\n",
       "      <td>185572</td>\n",
       "    </tr>\n",
       "    <tr>\n",
       "      <th>5</th>\n",
       "      <td>6</td>\n",
       "      <td>120555</td>\n",
       "    </tr>\n",
       "    <tr>\n",
       "      <th>6</th>\n",
       "      <td>7</td>\n",
       "      <td>162469</td>\n",
       "    </tr>\n",
       "  </tbody>\n",
       "</table>\n",
       "</div>"
      ],
      "text/plain": [
       "   DayOfWeek   count\n",
       "0          1  162834\n",
       "1          2  147174\n",
       "2          3  144570\n",
       "3          4  159197\n",
       "4          5  185572\n",
       "5          6  120555\n",
       "6          7  162469"
      ]
     },
     "execution_count": 51,
     "metadata": {},
     "output_type": "execute_result"
    }
   ],
   "source": [
    "tab2 = df.filter(df.DepDelay > 20).groupBy(\"DayOfWeek\").count().orderBy(col(\"DayOfWeek\").asc()).cache()\n",
    "d2 = (tab2.toPandas())\n",
    "d2"
   ]
  },
  {
   "cell_type": "code",
   "execution_count": 52,
   "metadata": {},
   "outputs": [
    {
     "data": {
      "text/plain": [
       "<seaborn.axisgrid.FacetGrid at 0x7f0220cdf370>"
      ]
     },
     "execution_count": 52,
     "metadata": {},
     "output_type": "execute_result"
    },
    {
     "data": {
      "image/png": "[encoded data removed]",
      "text/plain": [
       "<Figure size 360x360 with 1 Axes>"
      ]
     },
     "metadata": {
      "needs_background": "light"
     },
     "output_type": "display_data"
    }
   ],
   "source": [
    "sns.catplot(x='DayOfWeek', y='count', data=d2,kind='bar',order=d2['DayOfWeek'] )"
   ]
  },
  {
   "cell_type": "code",
   "execution_count": null,
   "metadata": {},
   "outputs": [],
   "source": []
  }
 ],
 "metadata": {
  "kernelspec": {
   "display_name": "Python 3",
   "language": "python",
   "name": "python3"
  },
  "language_info": {
   "codemirror_mode": {
    "name": "ipython",
    "version": 3
   },
   "file_extension": ".py",
   "mimetype": "text/x-python",
   "name": "python",
   "nbconvert_exporter": "python",
   "pygments_lexer": "ipython3",
   "version": "3.8.0"
  }
 },
 "nbformat": 4,
 "nbformat_minor": 4
}
